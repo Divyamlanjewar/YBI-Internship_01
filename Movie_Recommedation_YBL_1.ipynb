{
  "nbformat": 4,
  "nbformat_minor": 0,
  "metadata": {
    "colab": {
      "provenance": []
    },
    "kernelspec": {
      "name": "python3",
      "display_name": "Python 3"
    },
    "language_info": {
      "name": "python"
    }
  },
  "cells": [
    {
      "cell_type": "code",
      "execution_count": 13,
      "metadata": {
        "id": "JwP1A9FXttzC"
      },
      "outputs": [],
      "source": [
        "import pandas as pd\n",
        "import numpy as np"
      ]
    },
    {
      "cell_type": "code",
      "source": [
        "df = pd.read_csv(\"/content/Movies Recommendation (1).csv\", on_bad_lines='skip')\n"
      ],
      "metadata": {
        "id": "8cr7t-sbEICc"
      },
      "execution_count": 18,
      "outputs": []
    },
    {
      "cell_type": "code",
      "source": [
        "df.head()"
      ],
      "metadata": {
        "colab": {
          "base_uri": "https://localhost:8080/",
          "height": 672
        },
        "id": "wU-safiIacNx",
        "outputId": "d3a8769a-1b2d-4522-dafb-8c076d527e53"
      },
      "execution_count": 19,
      "outputs": [
        {
          "output_type": "execute_result",
          "data": {
            "text/plain": [
              "   Movie_ID      Movie_Title                       Movie_Genre Movie_Language  \\\n",
              "0         1       Four Rooms                      Crime Comedy             en   \n",
              "1         2        Star Wars  Adventure Action Science Fiction             en   \n",
              "2         3     Finding Nemo                  Animation Family             en   \n",
              "3         4     Forrest Gump              Comedy Drama Romance             en   \n",
              "4         5  American Beauty                             Drama             en   \n",
              "\n",
              "   Movie_Budget  Movie_Popularity Movie_Release_Date  Movie_Revenue  \\\n",
              "0       4000000         22.876230         09-12-1995        4300000   \n",
              "1      11000000        126.393695         25-05-1977      775398007   \n",
              "2      94000000         85.688789         30-05-2003      940335536   \n",
              "3      55000000        138.133331         06-07-1994      677945399   \n",
              "4      15000000         80.878605         15-09-1999      356296601   \n",
              "\n",
              "   Movie_Runtime  Movie_Vote  ...  \\\n",
              "0           98.0         6.5  ...   \n",
              "1          121.0         8.1  ...   \n",
              "2          100.0         7.6  ...   \n",
              "3          142.0         8.2  ...   \n",
              "4          122.0         7.9  ...   \n",
              "\n",
              "                                      Movie_Homepage  \\\n",
              "0                                                NaN   \n",
              "1  http://www.starwars.com/films/star-wars-episod...   \n",
              "2              http://movies.disney.com/finding-nemo   \n",
              "3                                                NaN   \n",
              "4                      http://www.dreamworks.com/ab/   \n",
              "\n",
              "                                      Movie_Keywords  \\\n",
              "0          hotel new year's eve witch bet hotel room   \n",
              "1        android galaxy hermit death star lightsaber   \n",
              "2  father son relationship harbor underwater fish...   \n",
              "3  vietnam veteran hippie mentally disabled runni...   \n",
              "4  male nudity female nudity adultery midlife cri...   \n",
              "\n",
              "                                      Movie_Overview  \\\n",
              "0  It's Ted the Bellhop's first night on the job....   \n",
              "1  Princess Leia is captured and held hostage by ...   \n",
              "2  Nemo, an adventurous young clownfish, is unexp...   \n",
              "3  A man with a low IQ has accomplished great thi...   \n",
              "4  Lester Burnham, a depressed suburban father in...   \n",
              "\n",
              "                              Movie_Production_House  \\\n",
              "0  [{\"name\": \"Miramax Films\", \"id\": 14}, {\"name\":...   \n",
              "1  [{\"name\": \"Lucasfilm\", \"id\": 1}, {\"name\": \"Twe...   \n",
              "2     [{\"name\": \"Pixar Animation Studios\", \"id\": 3}]   \n",
              "3          [{\"name\": \"Paramount Pictures\", \"id\": 4}]   \n",
              "4  [{\"name\": \"DreamWorks SKG\", \"id\": 27}, {\"name\"...   \n",
              "\n",
              "                            Movie_Production_Country  \\\n",
              "0  [{\"iso_3166_1\": \"US\", \"name\": \"United States o...   \n",
              "1  [{\"iso_3166_1\": \"US\", \"name\": \"United States o...   \n",
              "2  [{\"iso_3166_1\": \"US\", \"name\": \"United States o...   \n",
              "3  [{\"iso_3166_1\": \"US\", \"name\": \"United States o...   \n",
              "4  [{\"iso_3166_1\": \"US\", \"name\": \"United States o...   \n",
              "\n",
              "                      Movie_Spoken_Language  \\\n",
              "0  [{\"iso_639_1\": \"en\", \"name\": \"English\"}]   \n",
              "1  [{\"iso_639_1\": \"en\", \"name\": \"English\"}]   \n",
              "2  [{\"iso_639_1\": \"en\", \"name\": \"English\"}]   \n",
              "3  [{\"iso_639_1\": \"en\", \"name\": \"English\"}]   \n",
              "4  [{\"iso_639_1\": \"en\", \"name\": \"English\"}]   \n",
              "\n",
              "                                       Movie_Tagline  \\\n",
              "0  Twelve outrageous guests. Four scandalous requ...   \n",
              "1       A long time ago in a galaxy far, far away...   \n",
              "2  There are 3.7 trillion fish in the ocean, they...   \n",
              "3  The world will never be the same, once you've ...   \n",
              "4                                       Look closer.   \n",
              "\n",
              "                                          Movie_Cast  \\\n",
              "0  Tim Roth Antonio Banderas Jennifer Beals Madon...   \n",
              "1  Mark Hamill Harrison Ford Carrie Fisher Peter ...   \n",
              "2  Albert Brooks Ellen DeGeneres Alexander Gould ...   \n",
              "3  Tom Hanks Robin Wright Gary Sinise Mykelti Wil...   \n",
              "4  Kevin Spacey Annette Bening Thora Birch Wes Be...   \n",
              "\n",
              "                                          Movie_Crew   Movie_Director  \n",
              "0  [{'name': 'Allison Anders', 'gender': 1, 'depa...   Allison Anders  \n",
              "1  [{'name': 'George Lucas', 'gender': 2, 'depart...     George Lucas  \n",
              "2  [{'name': 'Andrew Stanton', 'gender': 2, 'depa...   Andrew Stanton  \n",
              "3  [{'name': 'Alan Silvestri', 'gender': 2, 'depa...  Robert Zemeckis  \n",
              "4  [{'name': 'Thomas Newman', 'gender': 2, 'depar...       Sam Mendes  \n",
              "\n",
              "[5 rows x 21 columns]"
            ],
            "text/html": [
              "\n",
              "  <div id=\"df-b14faa91-8b5c-41ba-9f55-330673399067\" class=\"colab-df-container\">\n",
              "    <div>\n",
              "<style scoped>\n",
              "    .dataframe tbody tr th:only-of-type {\n",
              "        vertical-align: middle;\n",
              "    }\n",
              "\n",
              "    .dataframe tbody tr th {\n",
              "        vertical-align: top;\n",
              "    }\n",
              "\n",
              "    .dataframe thead th {\n",
              "        text-align: right;\n",
              "    }\n",
              "</style>\n",
              "<table border=\"1\" class=\"dataframe\">\n",
              "  <thead>\n",
              "    <tr style=\"text-align: right;\">\n",
              "      <th></th>\n",
              "      <th>Movie_ID</th>\n",
              "      <th>Movie_Title</th>\n",
              "      <th>Movie_Genre</th>\n",
              "      <th>Movie_Language</th>\n",
              "      <th>Movie_Budget</th>\n",
              "      <th>Movie_Popularity</th>\n",
              "      <th>Movie_Release_Date</th>\n",
              "      <th>Movie_Revenue</th>\n",
              "      <th>Movie_Runtime</th>\n",
              "      <th>Movie_Vote</th>\n",
              "      <th>...</th>\n",
              "      <th>Movie_Homepage</th>\n",
              "      <th>Movie_Keywords</th>\n",
              "      <th>Movie_Overview</th>\n",
              "      <th>Movie_Production_House</th>\n",
              "      <th>Movie_Production_Country</th>\n",
              "      <th>Movie_Spoken_Language</th>\n",
              "      <th>Movie_Tagline</th>\n",
              "      <th>Movie_Cast</th>\n",
              "      <th>Movie_Crew</th>\n",
              "      <th>Movie_Director</th>\n",
              "    </tr>\n",
              "  </thead>\n",
              "  <tbody>\n",
              "    <tr>\n",
              "      <th>0</th>\n",
              "      <td>1</td>\n",
              "      <td>Four Rooms</td>\n",
              "      <td>Crime Comedy</td>\n",
              "      <td>en</td>\n",
              "      <td>4000000</td>\n",
              "      <td>22.876230</td>\n",
              "      <td>09-12-1995</td>\n",
              "      <td>4300000</td>\n",
              "      <td>98.0</td>\n",
              "      <td>6.5</td>\n",
              "      <td>...</td>\n",
              "      <td>NaN</td>\n",
              "      <td>hotel new year's eve witch bet hotel room</td>\n",
              "      <td>It's Ted the Bellhop's first night on the job....</td>\n",
              "      <td>[{\"name\": \"Miramax Films\", \"id\": 14}, {\"name\":...</td>\n",
              "      <td>[{\"iso_3166_1\": \"US\", \"name\": \"United States o...</td>\n",
              "      <td>[{\"iso_639_1\": \"en\", \"name\": \"English\"}]</td>\n",
              "      <td>Twelve outrageous guests. Four scandalous requ...</td>\n",
              "      <td>Tim Roth Antonio Banderas Jennifer Beals Madon...</td>\n",
              "      <td>[{'name': 'Allison Anders', 'gender': 1, 'depa...</td>\n",
              "      <td>Allison Anders</td>\n",
              "    </tr>\n",
              "    <tr>\n",
              "      <th>1</th>\n",
              "      <td>2</td>\n",
              "      <td>Star Wars</td>\n",
              "      <td>Adventure Action Science Fiction</td>\n",
              "      <td>en</td>\n",
              "      <td>11000000</td>\n",
              "      <td>126.393695</td>\n",
              "      <td>25-05-1977</td>\n",
              "      <td>775398007</td>\n",
              "      <td>121.0</td>\n",
              "      <td>8.1</td>\n",
              "      <td>...</td>\n",
              "      <td>http://www.starwars.com/films/star-wars-episod...</td>\n",
              "      <td>android galaxy hermit death star lightsaber</td>\n",
              "      <td>Princess Leia is captured and held hostage by ...</td>\n",
              "      <td>[{\"name\": \"Lucasfilm\", \"id\": 1}, {\"name\": \"Twe...</td>\n",
              "      <td>[{\"iso_3166_1\": \"US\", \"name\": \"United States o...</td>\n",
              "      <td>[{\"iso_639_1\": \"en\", \"name\": \"English\"}]</td>\n",
              "      <td>A long time ago in a galaxy far, far away...</td>\n",
              "      <td>Mark Hamill Harrison Ford Carrie Fisher Peter ...</td>\n",
              "      <td>[{'name': 'George Lucas', 'gender': 2, 'depart...</td>\n",
              "      <td>George Lucas</td>\n",
              "    </tr>\n",
              "    <tr>\n",
              "      <th>2</th>\n",
              "      <td>3</td>\n",
              "      <td>Finding Nemo</td>\n",
              "      <td>Animation Family</td>\n",
              "      <td>en</td>\n",
              "      <td>94000000</td>\n",
              "      <td>85.688789</td>\n",
              "      <td>30-05-2003</td>\n",
              "      <td>940335536</td>\n",
              "      <td>100.0</td>\n",
              "      <td>7.6</td>\n",
              "      <td>...</td>\n",
              "      <td>http://movies.disney.com/finding-nemo</td>\n",
              "      <td>father son relationship harbor underwater fish...</td>\n",
              "      <td>Nemo, an adventurous young clownfish, is unexp...</td>\n",
              "      <td>[{\"name\": \"Pixar Animation Studios\", \"id\": 3}]</td>\n",
              "      <td>[{\"iso_3166_1\": \"US\", \"name\": \"United States o...</td>\n",
              "      <td>[{\"iso_639_1\": \"en\", \"name\": \"English\"}]</td>\n",
              "      <td>There are 3.7 trillion fish in the ocean, they...</td>\n",
              "      <td>Albert Brooks Ellen DeGeneres Alexander Gould ...</td>\n",
              "      <td>[{'name': 'Andrew Stanton', 'gender': 2, 'depa...</td>\n",
              "      <td>Andrew Stanton</td>\n",
              "    </tr>\n",
              "    <tr>\n",
              "      <th>3</th>\n",
              "      <td>4</td>\n",
              "      <td>Forrest Gump</td>\n",
              "      <td>Comedy Drama Romance</td>\n",
              "      <td>en</td>\n",
              "      <td>55000000</td>\n",
              "      <td>138.133331</td>\n",
              "      <td>06-07-1994</td>\n",
              "      <td>677945399</td>\n",
              "      <td>142.0</td>\n",
              "      <td>8.2</td>\n",
              "      <td>...</td>\n",
              "      <td>NaN</td>\n",
              "      <td>vietnam veteran hippie mentally disabled runni...</td>\n",
              "      <td>A man with a low IQ has accomplished great thi...</td>\n",
              "      <td>[{\"name\": \"Paramount Pictures\", \"id\": 4}]</td>\n",
              "      <td>[{\"iso_3166_1\": \"US\", \"name\": \"United States o...</td>\n",
              "      <td>[{\"iso_639_1\": \"en\", \"name\": \"English\"}]</td>\n",
              "      <td>The world will never be the same, once you've ...</td>\n",
              "      <td>Tom Hanks Robin Wright Gary Sinise Mykelti Wil...</td>\n",
              "      <td>[{'name': 'Alan Silvestri', 'gender': 2, 'depa...</td>\n",
              "      <td>Robert Zemeckis</td>\n",
              "    </tr>\n",
              "    <tr>\n",
              "      <th>4</th>\n",
              "      <td>5</td>\n",
              "      <td>American Beauty</td>\n",
              "      <td>Drama</td>\n",
              "      <td>en</td>\n",
              "      <td>15000000</td>\n",
              "      <td>80.878605</td>\n",
              "      <td>15-09-1999</td>\n",
              "      <td>356296601</td>\n",
              "      <td>122.0</td>\n",
              "      <td>7.9</td>\n",
              "      <td>...</td>\n",
              "      <td>http://www.dreamworks.com/ab/</td>\n",
              "      <td>male nudity female nudity adultery midlife cri...</td>\n",
              "      <td>Lester Burnham, a depressed suburban father in...</td>\n",
              "      <td>[{\"name\": \"DreamWorks SKG\", \"id\": 27}, {\"name\"...</td>\n",
              "      <td>[{\"iso_3166_1\": \"US\", \"name\": \"United States o...</td>\n",
              "      <td>[{\"iso_639_1\": \"en\", \"name\": \"English\"}]</td>\n",
              "      <td>Look closer.</td>\n",
              "      <td>Kevin Spacey Annette Bening Thora Birch Wes Be...</td>\n",
              "      <td>[{'name': 'Thomas Newman', 'gender': 2, 'depar...</td>\n",
              "      <td>Sam Mendes</td>\n",
              "    </tr>\n",
              "  </tbody>\n",
              "</table>\n",
              "<p>5 rows × 21 columns</p>\n",
              "</div>\n",
              "    <div class=\"colab-df-buttons\">\n",
              "\n",
              "  <div class=\"colab-df-container\">\n",
              "    <button class=\"colab-df-convert\" onclick=\"convertToInteractive('df-b14faa91-8b5c-41ba-9f55-330673399067')\"\n",
              "            title=\"Convert this dataframe to an interactive table.\"\n",
              "            style=\"display:none;\">\n",
              "\n",
              "  <svg xmlns=\"http://www.w3.org/2000/svg\" height=\"24px\" viewBox=\"0 -960 960 960\">\n",
              "    <path d=\"M120-120v-720h720v720H120Zm60-500h600v-160H180v160Zm220 220h160v-160H400v160Zm0 220h160v-160H400v160ZM180-400h160v-160H180v160Zm440 0h160v-160H620v160ZM180-180h160v-160H180v160Zm440 0h160v-160H620v160Z\"/>\n",
              "  </svg>\n",
              "    </button>\n",
              "\n",
              "  <style>\n",
              "    .colab-df-container {\n",
              "      display:flex;\n",
              "      gap: 12px;\n",
              "    }\n",
              "\n",
              "    .colab-df-convert {\n",
              "      background-color: #E8F0FE;\n",
              "      border: none;\n",
              "      border-radius: 50%;\n",
              "      cursor: pointer;\n",
              "      display: none;\n",
              "      fill: #1967D2;\n",
              "      height: 32px;\n",
              "      padding: 0 0 0 0;\n",
              "      width: 32px;\n",
              "    }\n",
              "\n",
              "    .colab-df-convert:hover {\n",
              "      background-color: #E2EBFA;\n",
              "      box-shadow: 0px 1px 2px rgba(60, 64, 67, 0.3), 0px 1px 3px 1px rgba(60, 64, 67, 0.15);\n",
              "      fill: #174EA6;\n",
              "    }\n",
              "\n",
              "    .colab-df-buttons div {\n",
              "      margin-bottom: 4px;\n",
              "    }\n",
              "\n",
              "    [theme=dark] .colab-df-convert {\n",
              "      background-color: #3B4455;\n",
              "      fill: #D2E3FC;\n",
              "    }\n",
              "\n",
              "    [theme=dark] .colab-df-convert:hover {\n",
              "      background-color: #434B5C;\n",
              "      box-shadow: 0px 1px 3px 1px rgba(0, 0, 0, 0.15);\n",
              "      filter: drop-shadow(0px 1px 2px rgba(0, 0, 0, 0.3));\n",
              "      fill: #FFFFFF;\n",
              "    }\n",
              "  </style>\n",
              "\n",
              "    <script>\n",
              "      const buttonEl =\n",
              "        document.querySelector('#df-b14faa91-8b5c-41ba-9f55-330673399067 button.colab-df-convert');\n",
              "      buttonEl.style.display =\n",
              "        google.colab.kernel.accessAllowed ? 'block' : 'none';\n",
              "\n",
              "      async function convertToInteractive(key) {\n",
              "        const element = document.querySelector('#df-b14faa91-8b5c-41ba-9f55-330673399067');\n",
              "        const dataTable =\n",
              "          await google.colab.kernel.invokeFunction('convertToInteractive',\n",
              "                                                    [key], {});\n",
              "        if (!dataTable) return;\n",
              "\n",
              "        const docLinkHtml = 'Like what you see? Visit the ' +\n",
              "          '<a target=\"_blank\" href=https://colab.research.google.com/notebooks/data_table.ipynb>data table notebook</a>'\n",
              "          + ' to learn more about interactive tables.';\n",
              "        element.innerHTML = '';\n",
              "        dataTable['output_type'] = 'display_data';\n",
              "        await google.colab.output.renderOutput(dataTable, element);\n",
              "        const docLink = document.createElement('div');\n",
              "        docLink.innerHTML = docLinkHtml;\n",
              "        element.appendChild(docLink);\n",
              "      }\n",
              "    </script>\n",
              "  </div>\n",
              "\n",
              "\n",
              "<div id=\"df-4719e7f2-c5cd-4187-a0ae-dd724849d841\">\n",
              "  <button class=\"colab-df-quickchart\" onclick=\"quickchart('df-4719e7f2-c5cd-4187-a0ae-dd724849d841')\"\n",
              "            title=\"Suggest charts\"\n",
              "            style=\"display:none;\">\n",
              "\n",
              "<svg xmlns=\"http://www.w3.org/2000/svg\" height=\"24px\"viewBox=\"0 0 24 24\"\n",
              "     width=\"24px\">\n",
              "    <g>\n",
              "        <path d=\"M19 3H5c-1.1 0-2 .9-2 2v14c0 1.1.9 2 2 2h14c1.1 0 2-.9 2-2V5c0-1.1-.9-2-2-2zM9 17H7v-7h2v7zm4 0h-2V7h2v10zm4 0h-2v-4h2v4z\"/>\n",
              "    </g>\n",
              "</svg>\n",
              "  </button>\n",
              "\n",
              "<style>\n",
              "  .colab-df-quickchart {\n",
              "      --bg-color: #E8F0FE;\n",
              "      --fill-color: #1967D2;\n",
              "      --hover-bg-color: #E2EBFA;\n",
              "      --hover-fill-color: #174EA6;\n",
              "      --disabled-fill-color: #AAA;\n",
              "      --disabled-bg-color: #DDD;\n",
              "  }\n",
              "\n",
              "  [theme=dark] .colab-df-quickchart {\n",
              "      --bg-color: #3B4455;\n",
              "      --fill-color: #D2E3FC;\n",
              "      --hover-bg-color: #434B5C;\n",
              "      --hover-fill-color: #FFFFFF;\n",
              "      --disabled-bg-color: #3B4455;\n",
              "      --disabled-fill-color: #666;\n",
              "  }\n",
              "\n",
              "  .colab-df-quickchart {\n",
              "    background-color: var(--bg-color);\n",
              "    border: none;\n",
              "    border-radius: 50%;\n",
              "    cursor: pointer;\n",
              "    display: none;\n",
              "    fill: var(--fill-color);\n",
              "    height: 32px;\n",
              "    padding: 0;\n",
              "    width: 32px;\n",
              "  }\n",
              "\n",
              "  .colab-df-quickchart:hover {\n",
              "    background-color: var(--hover-bg-color);\n",
              "    box-shadow: 0 1px 2px rgba(60, 64, 67, 0.3), 0 1px 3px 1px rgba(60, 64, 67, 0.15);\n",
              "    fill: var(--button-hover-fill-color);\n",
              "  }\n",
              "\n",
              "  .colab-df-quickchart-complete:disabled,\n",
              "  .colab-df-quickchart-complete:disabled:hover {\n",
              "    background-color: var(--disabled-bg-color);\n",
              "    fill: var(--disabled-fill-color);\n",
              "    box-shadow: none;\n",
              "  }\n",
              "\n",
              "  .colab-df-spinner {\n",
              "    border: 2px solid var(--fill-color);\n",
              "    border-color: transparent;\n",
              "    border-bottom-color: var(--fill-color);\n",
              "    animation:\n",
              "      spin 1s steps(1) infinite;\n",
              "  }\n",
              "\n",
              "  @keyframes spin {\n",
              "    0% {\n",
              "      border-color: transparent;\n",
              "      border-bottom-color: var(--fill-color);\n",
              "      border-left-color: var(--fill-color);\n",
              "    }\n",
              "    20% {\n",
              "      border-color: transparent;\n",
              "      border-left-color: var(--fill-color);\n",
              "      border-top-color: var(--fill-color);\n",
              "    }\n",
              "    30% {\n",
              "      border-color: transparent;\n",
              "      border-left-color: var(--fill-color);\n",
              "      border-top-color: var(--fill-color);\n",
              "      border-right-color: var(--fill-color);\n",
              "    }\n",
              "    40% {\n",
              "      border-color: transparent;\n",
              "      border-right-color: var(--fill-color);\n",
              "      border-top-color: var(--fill-color);\n",
              "    }\n",
              "    60% {\n",
              "      border-color: transparent;\n",
              "      border-right-color: var(--fill-color);\n",
              "    }\n",
              "    80% {\n",
              "      border-color: transparent;\n",
              "      border-right-color: var(--fill-color);\n",
              "      border-bottom-color: var(--fill-color);\n",
              "    }\n",
              "    90% {\n",
              "      border-color: transparent;\n",
              "      border-bottom-color: var(--fill-color);\n",
              "    }\n",
              "  }\n",
              "</style>\n",
              "\n",
              "  <script>\n",
              "    async function quickchart(key) {\n",
              "      const quickchartButtonEl =\n",
              "        document.querySelector('#' + key + ' button');\n",
              "      quickchartButtonEl.disabled = true;  // To prevent multiple clicks.\n",
              "      quickchartButtonEl.classList.add('colab-df-spinner');\n",
              "      try {\n",
              "        const charts = await google.colab.kernel.invokeFunction(\n",
              "            'suggestCharts', [key], {});\n",
              "      } catch (error) {\n",
              "        console.error('Error during call to suggestCharts:', error);\n",
              "      }\n",
              "      quickchartButtonEl.classList.remove('colab-df-spinner');\n",
              "      quickchartButtonEl.classList.add('colab-df-quickchart-complete');\n",
              "    }\n",
              "    (() => {\n",
              "      let quickchartButtonEl =\n",
              "        document.querySelector('#df-4719e7f2-c5cd-4187-a0ae-dd724849d841 button');\n",
              "      quickchartButtonEl.style.display =\n",
              "        google.colab.kernel.accessAllowed ? 'block' : 'none';\n",
              "    })();\n",
              "  </script>\n",
              "</div>\n",
              "\n",
              "    </div>\n",
              "  </div>\n"
            ],
            "application/vnd.google.colaboratory.intrinsic+json": {
              "type": "dataframe",
              "variable_name": "df"
            }
          },
          "metadata": {},
          "execution_count": 19
        }
      ]
    },
    {
      "cell_type": "code",
      "source": [
        "df.info()"
      ],
      "metadata": {
        "colab": {
          "base_uri": "https://localhost:8080/"
        },
        "id": "7mosJOVra5Ed",
        "outputId": "d7193cc8-4f63-4038-f35c-3113146318e3"
      },
      "execution_count": 20,
      "outputs": [
        {
          "output_type": "stream",
          "name": "stdout",
          "text": [
            "<class 'pandas.core.frame.DataFrame'>\n",
            "RangeIndex: 4962 entries, 0 to 4961\n",
            "Data columns (total 21 columns):\n",
            " #   Column                    Non-Null Count  Dtype  \n",
            "---  ------                    --------------  -----  \n",
            " 0   Movie_ID                  4962 non-null   int64  \n",
            " 1   Movie_Title               4962 non-null   object \n",
            " 2   Movie_Genre               4962 non-null   object \n",
            " 3   Movie_Language            4962 non-null   object \n",
            " 4   Movie_Budget              4962 non-null   int64  \n",
            " 5   Movie_Popularity          4962 non-null   float64\n",
            " 6   Movie_Release_Date        4962 non-null   object \n",
            " 7   Movie_Revenue             4962 non-null   int64  \n",
            " 8   Movie_Runtime             4960 non-null   float64\n",
            " 9   Movie_Vote                4962 non-null   float64\n",
            " 10  Movie_Vote_Count          4962 non-null   int64  \n",
            " 11  Movie_Homepage            1785 non-null   object \n",
            " 12  Movie_Keywords            4541 non-null   object \n",
            " 13  Movie_Overview            4959 non-null   object \n",
            " 14  Movie_Production_House    4962 non-null   object \n",
            " 15  Movie_Production_Country  4962 non-null   object \n",
            " 16  Movie_Spoken_Language     4962 non-null   object \n",
            " 17  Movie_Tagline             4109 non-null   object \n",
            " 18  Movie_Cast                4929 non-null   object \n",
            " 19  Movie_Crew                4962 non-null   object \n",
            " 20  Movie_Director            4936 non-null   object \n",
            "dtypes: float64(3), int64(4), object(14)\n",
            "memory usage: 814.2+ KB\n"
          ]
        }
      ]
    },
    {
      "cell_type": "code",
      "source": [
        "df.shape"
      ],
      "metadata": {
        "colab": {
          "base_uri": "https://localhost:8080/"
        },
        "id": "G3ZBH69pb2Ej",
        "outputId": "6538cc7d-18c8-4818-8039-13004734efd8"
      },
      "execution_count": 21,
      "outputs": [
        {
          "output_type": "execute_result",
          "data": {
            "text/plain": [
              "(4962, 21)"
            ]
          },
          "metadata": {},
          "execution_count": 21
        }
      ]
    },
    {
      "cell_type": "code",
      "source": [
        "df.columns"
      ],
      "metadata": {
        "colab": {
          "base_uri": "https://localhost:8080/"
        },
        "id": "YlZecRr_b4Rj",
        "outputId": "59517b99-1c8e-443d-ce52-b58ebd13f24b"
      },
      "execution_count": 22,
      "outputs": [
        {
          "output_type": "execute_result",
          "data": {
            "text/plain": [
              "Index(['Movie_ID', 'Movie_Title', 'Movie_Genre', 'Movie_Language',\n",
              "       'Movie_Budget', 'Movie_Popularity', 'Movie_Release_Date',\n",
              "       'Movie_Revenue', 'Movie_Runtime', 'Movie_Vote', 'Movie_Vote_Count',\n",
              "       'Movie_Homepage', 'Movie_Keywords', 'Movie_Overview',\n",
              "       'Movie_Production_House', 'Movie_Production_Country',\n",
              "       'Movie_Spoken_Language', 'Movie_Tagline', 'Movie_Cast', 'Movie_Crew',\n",
              "       'Movie_Director'],\n",
              "      dtype='object')"
            ]
          },
          "metadata": {},
          "execution_count": 22
        }
      ]
    },
    {
      "cell_type": "markdown",
      "source": [
        "**Feature Selection**"
      ],
      "metadata": {
        "id": "7ObZ9CFCb9Az"
      }
    },
    {
      "cell_type": "code",
      "source": [
        "df_features = df[['Movie_Genre','Movie_Keywords','Movie_Tagline','Movie_Cast','Movie_Director']].fillna('')\n"
      ],
      "metadata": {
        "id": "YvQ8hqPSb-Jb"
      },
      "execution_count": 23,
      "outputs": []
    },
    {
      "cell_type": "code",
      "source": [
        "df_features.shape"
      ],
      "metadata": {
        "colab": {
          "base_uri": "https://localhost:8080/"
        },
        "id": "KR1Row9dcjxh",
        "outputId": "152a6928-6ca0-4fc0-8335-0c4bafbd3466"
      },
      "execution_count": 24,
      "outputs": [
        {
          "output_type": "execute_result",
          "data": {
            "text/plain": [
              "(4962, 5)"
            ]
          },
          "metadata": {},
          "execution_count": 24
        }
      ]
    },
    {
      "cell_type": "code",
      "source": [
        "df_features"
      ],
      "metadata": {
        "colab": {
          "base_uri": "https://localhost:8080/",
          "height": 1000
        },
        "id": "tTkEFPOecm6c",
        "outputId": "7fead4b9-8147-495e-bf9c-192dcc215720"
      },
      "execution_count": 25,
      "outputs": [
        {
          "output_type": "execute_result",
          "data": {
            "text/plain": [
              "                           Movie_Genre  \\\n",
              "0                         Crime Comedy   \n",
              "1     Adventure Action Science Fiction   \n",
              "2                     Animation Family   \n",
              "3                 Comedy Drama Romance   \n",
              "4                                Drama   \n",
              "...                                ...   \n",
              "4957                            Horror   \n",
              "4958               Comedy Family Drama   \n",
              "4959                    Thriller Drama   \n",
              "4960                            Family   \n",
              "4961                       Documentary   \n",
              "\n",
              "                                         Movie_Keywords  \\\n",
              "0             hotel new year's eve witch bet hotel room   \n",
              "1           android galaxy hermit death star lightsaber   \n",
              "2     father son relationship harbor underwater fish...   \n",
              "3     vietnam veteran hippie mentally disabled runni...   \n",
              "4     male nudity female nudity adultery midlife cri...   \n",
              "...                                                 ...   \n",
              "4957                                                      \n",
              "4958                                                      \n",
              "4959                     christian film sex trafficking   \n",
              "4960                                                      \n",
              "4961  music actors legendary perfomer classic hollyw...   \n",
              "\n",
              "                                          Movie_Tagline  \\\n",
              "0     Twelve outrageous guests. Four scandalous requ...   \n",
              "1          A long time ago in a galaxy far, far away...   \n",
              "2     There are 3.7 trillion fish in the ocean, they...   \n",
              "3     The world will never be the same, once you've ...   \n",
              "4                                          Look closer.   \n",
              "...                                                 ...   \n",
              "4957                The hot spot where Satan's waitin'.   \n",
              "4958           It’s better to stand out than to fit in.   \n",
              "4959           She never knew it could happen to her...   \n",
              "4960                                                      \n",
              "4961                                                      \n",
              "\n",
              "                                             Movie_Cast     Movie_Director  \n",
              "0     Tim Roth Antonio Banderas Jennifer Beals Madon...     Allison Anders  \n",
              "1     Mark Hamill Harrison Ford Carrie Fisher Peter ...       George Lucas  \n",
              "2     Albert Brooks Ellen DeGeneres Alexander Gould ...     Andrew Stanton  \n",
              "3     Tom Hanks Robin Wright Gary Sinise Mykelti Wil...    Robert Zemeckis  \n",
              "4     Kevin Spacey Annette Bening Thora Birch Wes Be...         Sam Mendes  \n",
              "...                                                 ...                ...  \n",
              "4957  Lisa Hart Carroll Michael Des Barres Paul Drak...         Pece Dingo  \n",
              "4958  Roni Akurati Brighton Sharbino Jason Lee Anjul...       Frank Lotito  \n",
              "4959  Nicole Smolen Kim Baldwin Ariana Stephens Brys...       Jaco Booyens  \n",
              "4960                                                                        \n",
              "4961                                    Tony Oppedisano  Simon Napier-Bell  \n",
              "\n",
              "[4962 rows x 5 columns]"
            ],
            "text/html": [
              "\n",
              "  <div id=\"df-6184ecf0-2126-4f9e-afbe-a1d676b26759\" class=\"colab-df-container\">\n",
              "    <div>\n",
              "<style scoped>\n",
              "    .dataframe tbody tr th:only-of-type {\n",
              "        vertical-align: middle;\n",
              "    }\n",
              "\n",
              "    .dataframe tbody tr th {\n",
              "        vertical-align: top;\n",
              "    }\n",
              "\n",
              "    .dataframe thead th {\n",
              "        text-align: right;\n",
              "    }\n",
              "</style>\n",
              "<table border=\"1\" class=\"dataframe\">\n",
              "  <thead>\n",
              "    <tr style=\"text-align: right;\">\n",
              "      <th></th>\n",
              "      <th>Movie_Genre</th>\n",
              "      <th>Movie_Keywords</th>\n",
              "      <th>Movie_Tagline</th>\n",
              "      <th>Movie_Cast</th>\n",
              "      <th>Movie_Director</th>\n",
              "    </tr>\n",
              "  </thead>\n",
              "  <tbody>\n",
              "    <tr>\n",
              "      <th>0</th>\n",
              "      <td>Crime Comedy</td>\n",
              "      <td>hotel new year's eve witch bet hotel room</td>\n",
              "      <td>Twelve outrageous guests. Four scandalous requ...</td>\n",
              "      <td>Tim Roth Antonio Banderas Jennifer Beals Madon...</td>\n",
              "      <td>Allison Anders</td>\n",
              "    </tr>\n",
              "    <tr>\n",
              "      <th>1</th>\n",
              "      <td>Adventure Action Science Fiction</td>\n",
              "      <td>android galaxy hermit death star lightsaber</td>\n",
              "      <td>A long time ago in a galaxy far, far away...</td>\n",
              "      <td>Mark Hamill Harrison Ford Carrie Fisher Peter ...</td>\n",
              "      <td>George Lucas</td>\n",
              "    </tr>\n",
              "    <tr>\n",
              "      <th>2</th>\n",
              "      <td>Animation Family</td>\n",
              "      <td>father son relationship harbor underwater fish...</td>\n",
              "      <td>There are 3.7 trillion fish in the ocean, they...</td>\n",
              "      <td>Albert Brooks Ellen DeGeneres Alexander Gould ...</td>\n",
              "      <td>Andrew Stanton</td>\n",
              "    </tr>\n",
              "    <tr>\n",
              "      <th>3</th>\n",
              "      <td>Comedy Drama Romance</td>\n",
              "      <td>vietnam veteran hippie mentally disabled runni...</td>\n",
              "      <td>The world will never be the same, once you've ...</td>\n",
              "      <td>Tom Hanks Robin Wright Gary Sinise Mykelti Wil...</td>\n",
              "      <td>Robert Zemeckis</td>\n",
              "    </tr>\n",
              "    <tr>\n",
              "      <th>4</th>\n",
              "      <td>Drama</td>\n",
              "      <td>male nudity female nudity adultery midlife cri...</td>\n",
              "      <td>Look closer.</td>\n",
              "      <td>Kevin Spacey Annette Bening Thora Birch Wes Be...</td>\n",
              "      <td>Sam Mendes</td>\n",
              "    </tr>\n",
              "    <tr>\n",
              "      <th>...</th>\n",
              "      <td>...</td>\n",
              "      <td>...</td>\n",
              "      <td>...</td>\n",
              "      <td>...</td>\n",
              "      <td>...</td>\n",
              "    </tr>\n",
              "    <tr>\n",
              "      <th>4957</th>\n",
              "      <td>Horror</td>\n",
              "      <td></td>\n",
              "      <td>The hot spot where Satan's waitin'.</td>\n",
              "      <td>Lisa Hart Carroll Michael Des Barres Paul Drak...</td>\n",
              "      <td>Pece Dingo</td>\n",
              "    </tr>\n",
              "    <tr>\n",
              "      <th>4958</th>\n",
              "      <td>Comedy Family Drama</td>\n",
              "      <td></td>\n",
              "      <td>It’s better to stand out than to fit in.</td>\n",
              "      <td>Roni Akurati Brighton Sharbino Jason Lee Anjul...</td>\n",
              "      <td>Frank Lotito</td>\n",
              "    </tr>\n",
              "    <tr>\n",
              "      <th>4959</th>\n",
              "      <td>Thriller Drama</td>\n",
              "      <td>christian film sex trafficking</td>\n",
              "      <td>She never knew it could happen to her...</td>\n",
              "      <td>Nicole Smolen Kim Baldwin Ariana Stephens Brys...</td>\n",
              "      <td>Jaco Booyens</td>\n",
              "    </tr>\n",
              "    <tr>\n",
              "      <th>4960</th>\n",
              "      <td>Family</td>\n",
              "      <td></td>\n",
              "      <td></td>\n",
              "      <td></td>\n",
              "      <td></td>\n",
              "    </tr>\n",
              "    <tr>\n",
              "      <th>4961</th>\n",
              "      <td>Documentary</td>\n",
              "      <td>music actors legendary perfomer classic hollyw...</td>\n",
              "      <td></td>\n",
              "      <td>Tony Oppedisano</td>\n",
              "      <td>Simon Napier-Bell</td>\n",
              "    </tr>\n",
              "  </tbody>\n",
              "</table>\n",
              "<p>4962 rows × 5 columns</p>\n",
              "</div>\n",
              "    <div class=\"colab-df-buttons\">\n",
              "\n",
              "  <div class=\"colab-df-container\">\n",
              "    <button class=\"colab-df-convert\" onclick=\"convertToInteractive('df-6184ecf0-2126-4f9e-afbe-a1d676b26759')\"\n",
              "            title=\"Convert this dataframe to an interactive table.\"\n",
              "            style=\"display:none;\">\n",
              "\n",
              "  <svg xmlns=\"http://www.w3.org/2000/svg\" height=\"24px\" viewBox=\"0 -960 960 960\">\n",
              "    <path d=\"M120-120v-720h720v720H120Zm60-500h600v-160H180v160Zm220 220h160v-160H400v160Zm0 220h160v-160H400v160ZM180-400h160v-160H180v160Zm440 0h160v-160H620v160ZM180-180h160v-160H180v160Zm440 0h160v-160H620v160Z\"/>\n",
              "  </svg>\n",
              "    </button>\n",
              "\n",
              "  <style>\n",
              "    .colab-df-container {\n",
              "      display:flex;\n",
              "      gap: 12px;\n",
              "    }\n",
              "\n",
              "    .colab-df-convert {\n",
              "      background-color: #E8F0FE;\n",
              "      border: none;\n",
              "      border-radius: 50%;\n",
              "      cursor: pointer;\n",
              "      display: none;\n",
              "      fill: #1967D2;\n",
              "      height: 32px;\n",
              "      padding: 0 0 0 0;\n",
              "      width: 32px;\n",
              "    }\n",
              "\n",
              "    .colab-df-convert:hover {\n",
              "      background-color: #E2EBFA;\n",
              "      box-shadow: 0px 1px 2px rgba(60, 64, 67, 0.3), 0px 1px 3px 1px rgba(60, 64, 67, 0.15);\n",
              "      fill: #174EA6;\n",
              "    }\n",
              "\n",
              "    .colab-df-buttons div {\n",
              "      margin-bottom: 4px;\n",
              "    }\n",
              "\n",
              "    [theme=dark] .colab-df-convert {\n",
              "      background-color: #3B4455;\n",
              "      fill: #D2E3FC;\n",
              "    }\n",
              "\n",
              "    [theme=dark] .colab-df-convert:hover {\n",
              "      background-color: #434B5C;\n",
              "      box-shadow: 0px 1px 3px 1px rgba(0, 0, 0, 0.15);\n",
              "      filter: drop-shadow(0px 1px 2px rgba(0, 0, 0, 0.3));\n",
              "      fill: #FFFFFF;\n",
              "    }\n",
              "  </style>\n",
              "\n",
              "    <script>\n",
              "      const buttonEl =\n",
              "        document.querySelector('#df-6184ecf0-2126-4f9e-afbe-a1d676b26759 button.colab-df-convert');\n",
              "      buttonEl.style.display =\n",
              "        google.colab.kernel.accessAllowed ? 'block' : 'none';\n",
              "\n",
              "      async function convertToInteractive(key) {\n",
              "        const element = document.querySelector('#df-6184ecf0-2126-4f9e-afbe-a1d676b26759');\n",
              "        const dataTable =\n",
              "          await google.colab.kernel.invokeFunction('convertToInteractive',\n",
              "                                                    [key], {});\n",
              "        if (!dataTable) return;\n",
              "\n",
              "        const docLinkHtml = 'Like what you see? Visit the ' +\n",
              "          '<a target=\"_blank\" href=https://colab.research.google.com/notebooks/data_table.ipynb>data table notebook</a>'\n",
              "          + ' to learn more about interactive tables.';\n",
              "        element.innerHTML = '';\n",
              "        dataTable['output_type'] = 'display_data';\n",
              "        await google.colab.output.renderOutput(dataTable, element);\n",
              "        const docLink = document.createElement('div');\n",
              "        docLink.innerHTML = docLinkHtml;\n",
              "        element.appendChild(docLink);\n",
              "      }\n",
              "    </script>\n",
              "  </div>\n",
              "\n",
              "\n",
              "<div id=\"df-060be298-dd2a-444a-935b-27f58d31116a\">\n",
              "  <button class=\"colab-df-quickchart\" onclick=\"quickchart('df-060be298-dd2a-444a-935b-27f58d31116a')\"\n",
              "            title=\"Suggest charts\"\n",
              "            style=\"display:none;\">\n",
              "\n",
              "<svg xmlns=\"http://www.w3.org/2000/svg\" height=\"24px\"viewBox=\"0 0 24 24\"\n",
              "     width=\"24px\">\n",
              "    <g>\n",
              "        <path d=\"M19 3H5c-1.1 0-2 .9-2 2v14c0 1.1.9 2 2 2h14c1.1 0 2-.9 2-2V5c0-1.1-.9-2-2-2zM9 17H7v-7h2v7zm4 0h-2V7h2v10zm4 0h-2v-4h2v4z\"/>\n",
              "    </g>\n",
              "</svg>\n",
              "  </button>\n",
              "\n",
              "<style>\n",
              "  .colab-df-quickchart {\n",
              "      --bg-color: #E8F0FE;\n",
              "      --fill-color: #1967D2;\n",
              "      --hover-bg-color: #E2EBFA;\n",
              "      --hover-fill-color: #174EA6;\n",
              "      --disabled-fill-color: #AAA;\n",
              "      --disabled-bg-color: #DDD;\n",
              "  }\n",
              "\n",
              "  [theme=dark] .colab-df-quickchart {\n",
              "      --bg-color: #3B4455;\n",
              "      --fill-color: #D2E3FC;\n",
              "      --hover-bg-color: #434B5C;\n",
              "      --hover-fill-color: #FFFFFF;\n",
              "      --disabled-bg-color: #3B4455;\n",
              "      --disabled-fill-color: #666;\n",
              "  }\n",
              "\n",
              "  .colab-df-quickchart {\n",
              "    background-color: var(--bg-color);\n",
              "    border: none;\n",
              "    border-radius: 50%;\n",
              "    cursor: pointer;\n",
              "    display: none;\n",
              "    fill: var(--fill-color);\n",
              "    height: 32px;\n",
              "    padding: 0;\n",
              "    width: 32px;\n",
              "  }\n",
              "\n",
              "  .colab-df-quickchart:hover {\n",
              "    background-color: var(--hover-bg-color);\n",
              "    box-shadow: 0 1px 2px rgba(60, 64, 67, 0.3), 0 1px 3px 1px rgba(60, 64, 67, 0.15);\n",
              "    fill: var(--button-hover-fill-color);\n",
              "  }\n",
              "\n",
              "  .colab-df-quickchart-complete:disabled,\n",
              "  .colab-df-quickchart-complete:disabled:hover {\n",
              "    background-color: var(--disabled-bg-color);\n",
              "    fill: var(--disabled-fill-color);\n",
              "    box-shadow: none;\n",
              "  }\n",
              "\n",
              "  .colab-df-spinner {\n",
              "    border: 2px solid var(--fill-color);\n",
              "    border-color: transparent;\n",
              "    border-bottom-color: var(--fill-color);\n",
              "    animation:\n",
              "      spin 1s steps(1) infinite;\n",
              "  }\n",
              "\n",
              "  @keyframes spin {\n",
              "    0% {\n",
              "      border-color: transparent;\n",
              "      border-bottom-color: var(--fill-color);\n",
              "      border-left-color: var(--fill-color);\n",
              "    }\n",
              "    20% {\n",
              "      border-color: transparent;\n",
              "      border-left-color: var(--fill-color);\n",
              "      border-top-color: var(--fill-color);\n",
              "    }\n",
              "    30% {\n",
              "      border-color: transparent;\n",
              "      border-left-color: var(--fill-color);\n",
              "      border-top-color: var(--fill-color);\n",
              "      border-right-color: var(--fill-color);\n",
              "    }\n",
              "    40% {\n",
              "      border-color: transparent;\n",
              "      border-right-color: var(--fill-color);\n",
              "      border-top-color: var(--fill-color);\n",
              "    }\n",
              "    60% {\n",
              "      border-color: transparent;\n",
              "      border-right-color: var(--fill-color);\n",
              "    }\n",
              "    80% {\n",
              "      border-color: transparent;\n",
              "      border-right-color: var(--fill-color);\n",
              "      border-bottom-color: var(--fill-color);\n",
              "    }\n",
              "    90% {\n",
              "      border-color: transparent;\n",
              "      border-bottom-color: var(--fill-color);\n",
              "    }\n",
              "  }\n",
              "</style>\n",
              "\n",
              "  <script>\n",
              "    async function quickchart(key) {\n",
              "      const quickchartButtonEl =\n",
              "        document.querySelector('#' + key + ' button');\n",
              "      quickchartButtonEl.disabled = true;  // To prevent multiple clicks.\n",
              "      quickchartButtonEl.classList.add('colab-df-spinner');\n",
              "      try {\n",
              "        const charts = await google.colab.kernel.invokeFunction(\n",
              "            'suggestCharts', [key], {});\n",
              "      } catch (error) {\n",
              "        console.error('Error during call to suggestCharts:', error);\n",
              "      }\n",
              "      quickchartButtonEl.classList.remove('colab-df-spinner');\n",
              "      quickchartButtonEl.classList.add('colab-df-quickchart-complete');\n",
              "    }\n",
              "    (() => {\n",
              "      let quickchartButtonEl =\n",
              "        document.querySelector('#df-060be298-dd2a-444a-935b-27f58d31116a button');\n",
              "      quickchartButtonEl.style.display =\n",
              "        google.colab.kernel.accessAllowed ? 'block' : 'none';\n",
              "    })();\n",
              "  </script>\n",
              "</div>\n",
              "\n",
              "  <div id=\"id_3987ecac-dda0-417e-84aa-a0cbc2c7346f\">\n",
              "    <style>\n",
              "      .colab-df-generate {\n",
              "        background-color: #E8F0FE;\n",
              "        border: none;\n",
              "        border-radius: 50%;\n",
              "        cursor: pointer;\n",
              "        display: none;\n",
              "        fill: #1967D2;\n",
              "        height: 32px;\n",
              "        padding: 0 0 0 0;\n",
              "        width: 32px;\n",
              "      }\n",
              "\n",
              "      .colab-df-generate:hover {\n",
              "        background-color: #E2EBFA;\n",
              "        box-shadow: 0px 1px 2px rgba(60, 64, 67, 0.3), 0px 1px 3px 1px rgba(60, 64, 67, 0.15);\n",
              "        fill: #174EA6;\n",
              "      }\n",
              "\n",
              "      [theme=dark] .colab-df-generate {\n",
              "        background-color: #3B4455;\n",
              "        fill: #D2E3FC;\n",
              "      }\n",
              "\n",
              "      [theme=dark] .colab-df-generate:hover {\n",
              "        background-color: #434B5C;\n",
              "        box-shadow: 0px 1px 3px 1px rgba(0, 0, 0, 0.15);\n",
              "        filter: drop-shadow(0px 1px 2px rgba(0, 0, 0, 0.3));\n",
              "        fill: #FFFFFF;\n",
              "      }\n",
              "    </style>\n",
              "    <button class=\"colab-df-generate\" onclick=\"generateWithVariable('df_features')\"\n",
              "            title=\"Generate code using this dataframe.\"\n",
              "            style=\"display:none;\">\n",
              "\n",
              "  <svg xmlns=\"http://www.w3.org/2000/svg\" height=\"24px\"viewBox=\"0 0 24 24\"\n",
              "       width=\"24px\">\n",
              "    <path d=\"M7,19H8.4L18.45,9,17,7.55,7,17.6ZM5,21V16.75L18.45,3.32a2,2,0,0,1,2.83,0l1.4,1.43a1.91,1.91,0,0,1,.58,1.4,1.91,1.91,0,0,1-.58,1.4L9.25,21ZM18.45,9,17,7.55Zm-12,3A5.31,5.31,0,0,0,4.9,8.1,5.31,5.31,0,0,0,1,6.5,5.31,5.31,0,0,0,4.9,4.9,5.31,5.31,0,0,0,6.5,1,5.31,5.31,0,0,0,8.1,4.9,5.31,5.31,0,0,0,12,6.5,5.46,5.46,0,0,0,6.5,12Z\"/>\n",
              "  </svg>\n",
              "    </button>\n",
              "    <script>\n",
              "      (() => {\n",
              "      const buttonEl =\n",
              "        document.querySelector('#id_3987ecac-dda0-417e-84aa-a0cbc2c7346f button.colab-df-generate');\n",
              "      buttonEl.style.display =\n",
              "        google.colab.kernel.accessAllowed ? 'block' : 'none';\n",
              "\n",
              "      buttonEl.onclick = () => {\n",
              "        google.colab.notebook.generateWithVariable('df_features');\n",
              "      }\n",
              "      })();\n",
              "    </script>\n",
              "  </div>\n",
              "\n",
              "    </div>\n",
              "  </div>\n"
            ],
            "application/vnd.google.colaboratory.intrinsic+json": {
              "type": "dataframe",
              "variable_name": "df_features",
              "summary": "{\n  \"name\": \"df_features\",\n  \"rows\": 4962,\n  \"fields\": [\n    {\n      \"column\": \"Movie_Genre\",\n      \"properties\": {\n        \"dtype\": \"category\",\n        \"num_unique_values\": 1164,\n        \"samples\": [\n          \"Family Animation Adventure\",\n          \"Adventure Science Fiction Action\",\n          \"Action Crime Drama Romance Thriller\"\n        ],\n        \"semantic_type\": \"\",\n        \"description\": \"\"\n      }\n    },\n    {\n      \"column\": \"Movie_Keywords\",\n      \"properties\": {\n        \"dtype\": \"string\",\n        \"num_unique_values\": 4203,\n        \"samples\": [\n          \"canada nazis sequel spin off ancient evil\",\n          \"sex professor wedding woman director columbia university\",\n          \"prophecy sea beach gold small town\"\n        ],\n        \"semantic_type\": \"\",\n        \"description\": \"\"\n      }\n    },\n    {\n      \"column\": \"Movie_Tagline\",\n      \"properties\": {\n        \"dtype\": \"string\",\n        \"num_unique_values\": 3928,\n        \"samples\": [\n          \"The messenger must be silenced.\",\n          \"It's not the house that's haunted.\",\n          \"The final hunt begins.\"\n        ],\n        \"semantic_type\": \"\",\n        \"description\": \"\"\n      }\n    },\n    {\n      \"column\": \"Movie_Cast\",\n      \"properties\": {\n        \"dtype\": \"string\",\n        \"num_unique_values\": 4715,\n        \"samples\": [\n          \"Robin Tunney Fairuza Balk Neve Campbell Rachel True Skeet Ulrich\",\n          \"Peter Sellers Christopher Plummer Herbert Lom Catherine Schell Peter Arne\",\n          \"John Wayne Laraine Day Cedric Hardwicke Judith Anderson Anthony Quinn\"\n        ],\n        \"semantic_type\": \"\",\n        \"description\": \"\"\n      }\n    },\n    {\n      \"column\": \"Movie_Director\",\n      \"properties\": {\n        \"dtype\": \"category\",\n        \"num_unique_values\": 2332,\n        \"samples\": [\n          \"Rob McKittrick\",\n          \"Terron R. Parsons\",\n          \"Cyrus Nowrasteh\"\n        ],\n        \"semantic_type\": \"\",\n        \"description\": \"\"\n      }\n    }\n  ]\n}"
            }
          },
          "metadata": {},
          "execution_count": 25
        }
      ]
    },
    {
      "cell_type": "code",
      "source": [
        "x = df_features['Movie_Genre'] + ' ' + df_features['Movie_Keywords'] + ' ' + df_features['Movie_Tagline'] + ' ' + df_features['Movie_Cast'] + ' ' + df_features['Movie_Director']"
      ],
      "metadata": {
        "id": "EYPD_hKScthW"
      },
      "execution_count": 26,
      "outputs": []
    },
    {
      "cell_type": "code",
      "source": [
        "x"
      ],
      "metadata": {
        "colab": {
          "base_uri": "https://localhost:8080/"
        },
        "id": "Bx7IzkE1c2pq",
        "outputId": "368614fd-d045-48c0-da75-ef993b1b90a0"
      },
      "execution_count": 28,
      "outputs": [
        {
          "output_type": "execute_result",
          "data": {
            "text/plain": [
              "0       Crime Comedy hotel new year's eve witch bet ho...\n",
              "1       Adventure Action Science Fiction android galax...\n",
              "2       Animation Family father son relationship harbo...\n",
              "3       Comedy Drama Romance vietnam veteran hippie me...\n",
              "4       Drama male nudity female nudity adultery midli...\n",
              "                              ...                        \n",
              "4957    Horror  The hot spot where Satan's waitin'. Li...\n",
              "4958    Comedy Family Drama  It’s better to stand out ...\n",
              "4959    Thriller Drama christian film sex trafficking ...\n",
              "4960                                           Family    \n",
              "4961    Documentary music actors legendary perfomer cl...\n",
              "Length: 4962, dtype: object"
            ]
          },
          "metadata": {},
          "execution_count": 28
        }
      ]
    },
    {
      "cell_type": "code",
      "source": [
        "x.shape"
      ],
      "metadata": {
        "colab": {
          "base_uri": "https://localhost:8080/"
        },
        "id": "GdiB7ZDBc9OJ",
        "outputId": "ed98327f-e378-481a-8979-149c0400d93c"
      },
      "execution_count": 27,
      "outputs": [
        {
          "output_type": "execute_result",
          "data": {
            "text/plain": [
              "(4962,)"
            ]
          },
          "metadata": {},
          "execution_count": 27
        }
      ]
    },
    {
      "cell_type": "markdown",
      "source": [
        "# **Get Feature Text Conversion To Tokens**"
      ],
      "metadata": {
        "id": "CCznppHwdDB8"
      }
    },
    {
      "cell_type": "code",
      "source": [
        "from sklearn.feature_extraction.text import TfidfVectorizer"
      ],
      "metadata": {
        "id": "AS4G_NSQdB-r"
      },
      "execution_count": 29,
      "outputs": []
    },
    {
      "cell_type": "code",
      "source": [
        "tfidf = TfidfVectorizer()"
      ],
      "metadata": {
        "id": "YCkSoHSqdQYG"
      },
      "execution_count": 30,
      "outputs": []
    },
    {
      "cell_type": "code",
      "source": [
        "x=tfidf.fit_transform(x)"
      ],
      "metadata": {
        "id": "3eJ19lOEdj9a"
      },
      "execution_count": 31,
      "outputs": []
    },
    {
      "cell_type": "code",
      "source": [
        "x.shape"
      ],
      "metadata": {
        "colab": {
          "base_uri": "https://localhost:8080/"
        },
        "id": "mmvienMndbhN",
        "outputId": "200b5eba-5178-41e3-a4c7-f12f3284afbe"
      },
      "execution_count": 32,
      "outputs": [
        {
          "output_type": "execute_result",
          "data": {
            "text/plain": [
              "(4962, 17258)"
            ]
          },
          "metadata": {},
          "execution_count": 32
        }
      ]
    },
    {
      "cell_type": "code",
      "source": [
        "print(x)"
      ],
      "metadata": {
        "colab": {
          "base_uri": "https://localhost:8080/"
        },
        "id": "hEBlyECkdd3u",
        "outputId": "ba1be747-f16d-4339-d167-6ddee970470b"
      },
      "execution_count": 33,
      "outputs": [
        {
          "output_type": "stream",
          "name": "stdout",
          "text": [
            "  (0, 617)\t0.16405486928132018\n",
            "  (0, 492)\t0.14400230850362009\n",
            "  (0, 15413)\t0.14504597239301312\n",
            "  (0, 9675)\t0.14113440160626808\n",
            "  (0, 9465)\t0.16669729962920377\n",
            "  (0, 1390)\t0.1696930400794294\n",
            "  (0, 7825)\t0.09773631030553018\n",
            "  (0, 1214)\t0.13940780159490387\n",
            "  (0, 729)\t0.13490580915885345\n",
            "  (0, 13093)\t0.14400230850362009\n",
            "  (0, 15355)\t0.10520729966823374\n",
            "  (0, 9048)\t0.0867743550783084\n",
            "  (0, 11161)\t0.06260977325266988\n",
            "  (0, 16773)\t0.1772417031302104\n",
            "  (0, 5612)\t0.08606954126637428\n",
            "  (0, 16735)\t0.10689774378485943\n",
            "  (0, 7904)\t0.13358573855548708\n",
            "  (0, 15219)\t0.09808171846401968\n",
            "  (0, 11242)\t0.07253421628795173\n",
            "  (0, 3878)\t0.12039890470659685\n",
            "  (0, 5499)\t0.1147607339084876\n",
            "  (0, 7071)\t0.19869816146815686\n",
            "  (0, 7454)\t0.14785192679805292\n",
            "  (0, 1495)\t0.19779843631250305\n",
            "  (0, 9206)\t0.15259463544379412\n",
            "  :\t:\n",
            "  (4959, 5455)\t0.12564435470317353\n",
            "  (4959, 2967)\t0.16371530521526093\n",
            "  (4959, 8464)\t0.23603679063257044\n",
            "  (4959, 6938)\t0.17048786892165085\n",
            "  (4959, 8379)\t0.1747348469013464\n",
            "  (4959, 15303)\t0.07664914102626277\n",
            "  (4959, 15384)\t0.09775077819129947\n",
            "  (4959, 7649)\t0.11489928040445312\n",
            "  (4959, 10896)\t0.14462550342757294\n",
            "  (4959, 4494)\t0.05672250824325052\n",
            "  (4960, 5238)\t1.0\n",
            "  (4961, 11264)\t0.3404729937108666\n",
            "  (4961, 11708)\t0.3404729937108666\n",
            "  (4961, 205)\t0.3248150723342361\n",
            "  (4961, 8902)\t0.2980476789417929\n",
            "  (4961, 14062)\t0.3248150723342361\n",
            "  (4961, 3058)\t0.28238975756516244\n",
            "  (4961, 7130)\t0.2653274201199391\n",
            "  (4961, 10761)\t0.3137056003184235\n",
            "  (4961, 4358)\t0.1810946787349075\n",
            "  (4961, 14051)\t0.20051114684460386\n",
            "  (4961, 5690)\t0.19522603037020642\n",
            "  (4961, 15431)\t0.19613471195842228\n",
            "  (4961, 1490)\t0.21179263333505277\n",
            "  (4961, 10666)\t0.1591296033364887\n"
          ]
        }
      ]
    },
    {
      "cell_type": "markdown",
      "source": [
        "# ** Get Similarity Score Using Cosine Similarity**"
      ],
      "metadata": {
        "id": "-wR5gXp6d0SE"
      }
    },
    {
      "cell_type": "code",
      "source": [
        "from sklearn.metrics.pairwise import cosine_similarity"
      ],
      "metadata": {
        "id": "Da8FqtwldziB"
      },
      "execution_count": 36,
      "outputs": []
    },
    {
      "cell_type": "code",
      "source": [
        "\n",
        "similarity_score = cosine_similarity(x)\n"
      ],
      "metadata": {
        "id": "lIsMZ9QiFp4p"
      },
      "execution_count": 40,
      "outputs": []
    },
    {
      "cell_type": "code",
      "source": [
        "similarity_score"
      ],
      "metadata": {
        "colab": {
          "base_uri": "https://localhost:8080/"
        },
        "id": "vk5SjduVGDpl",
        "outputId": "af89da55-9eca-454b-fb24-79ad62456309"
      },
      "execution_count": 41,
      "outputs": [
        {
          "output_type": "execute_result",
          "data": {
            "text/plain": [
              "array([[1.        , 0.01355231, 0.03572918, ..., 0.        , 0.        ,\n",
              "        0.        ],\n",
              "       [0.01355231, 1.        , 0.00806721, ..., 0.        , 0.        ,\n",
              "        0.        ],\n",
              "       [0.03572918, 0.00806721, 1.        , ..., 0.        , 0.08011449,\n",
              "        0.        ],\n",
              "       ...,\n",
              "       [0.        , 0.        , 0.        , ..., 1.        , 0.        ,\n",
              "        0.        ],\n",
              "       [0.        , 0.        , 0.08011449, ..., 0.        , 1.        ,\n",
              "        0.        ],\n",
              "       [0.        , 0.        , 0.        , ..., 0.        , 0.        ,\n",
              "        1.        ]])"
            ]
          },
          "metadata": {},
          "execution_count": 41
        }
      ]
    },
    {
      "cell_type": "code",
      "source": [
        "similarity_score.shape"
      ],
      "metadata": {
        "colab": {
          "base_uri": "https://localhost:8080/"
        },
        "id": "tzwpYbO6GOWR",
        "outputId": "3b00d7d1-ef32-49bd-96cd-e8e822a14159"
      },
      "execution_count": 43,
      "outputs": [
        {
          "output_type": "execute_result",
          "data": {
            "text/plain": [
              "(4962, 4962)"
            ]
          },
          "metadata": {},
          "execution_count": 43
        }
      ]
    },
    {
      "cell_type": "markdown",
      "source": [
        "# **Get movie name as input from user and validate for closest spelling**"
      ],
      "metadata": {
        "id": "a3CLY3TjGVIH"
      }
    },
    {
      "cell_type": "code",
      "source": [
        "Favourite_movie_name = input('Enter your favourite movie name:')\n"
      ],
      "metadata": {
        "colab": {
          "base_uri": "https://localhost:8080/"
        },
        "id": "d-JSyhiCGRlQ",
        "outputId": "861454fe-51d8-4804-c9ae-192c305f51c7"
      },
      "execution_count": 44,
      "outputs": [
        {
          "name": "stdout",
          "output_type": "stream",
          "text": [
            "Enter your favourite movie name:avtaar\n"
          ]
        }
      ]
    },
    {
      "cell_type": "code",
      "source": [
        "all_movies_title_list = df['Movie_Title'].tolist()"
      ],
      "metadata": {
        "id": "2JuYPjDXGsWr"
      },
      "execution_count": 45,
      "outputs": []
    },
    {
      "cell_type": "code",
      "source": [
        "import difflib"
      ],
      "metadata": {
        "id": "3m8sYfccIGan"
      },
      "execution_count": 46,
      "outputs": []
    },
    {
      "cell_type": "code",
      "source": [
        "\n",
        "favourite_movie_name = input('Enter your favourite movie name:')\n",
        "\n",
        "all_movies_title_list = df['Movie_Title'].tolist()\n",
        "\n",
        "movie_recommendation = difflib.get_close_matches(favourite_movie_name, all_movies_title_list)\n",
        "\n",
        "print(movie_recommendation)\n"
      ],
      "metadata": {
        "colab": {
          "base_uri": "https://localhost:8080/"
        },
        "id": "8XM6noGYIJtJ",
        "outputId": "576f144c-c4ea-4d0b-9c69-a6f75d091a87"
      },
      "execution_count": 48,
      "outputs": [
        {
          "output_type": "stream",
          "name": "stdout",
          "text": [
            "Enter your favourite movie name:Bang bang\n",
            "['Bang Bang Baby', 'Bananas', 'Bangkok Dangerous']\n"
          ]
        }
      ]
    },
    {
      "cell_type": "code",
      "source": [
        "Close_match=movie_recommendation[0]\n",
        "print(Close_match)"
      ],
      "metadata": {
        "colab": {
          "base_uri": "https://localhost:8080/"
        },
        "id": "hUICFXI5Id_j",
        "outputId": "768dbaee-d241-4d5c-878f-ce69b463a427"
      },
      "execution_count": 50,
      "outputs": [
        {
          "output_type": "stream",
          "name": "stdout",
          "text": [
            "Bang Bang Baby\n"
          ]
        }
      ]
    },
    {
      "cell_type": "code",
      "source": [
        "\n",
        "index_of_close_match_movie = df[df['Movie_Title'] == Close_match]['Movie_ID'].values[0]\n",
        "print(index_of_close_match_movie)\n"
      ],
      "metadata": {
        "colab": {
          "base_uri": "https://localhost:8080/"
        },
        "id": "GS-0w9zNJW8Q",
        "outputId": "efb4cce1-d890-40e6-f9bd-3ddefa641345"
      },
      "execution_count": 52,
      "outputs": [
        {
          "output_type": "stream",
          "name": "stdout",
          "text": [
            "4499\n"
          ]
        }
      ]
    },
    {
      "cell_type": "code",
      "source": [
        "recommendation_score = list(enumerate(similarity_score[index_of_close_match_movie]))\n",
        "print(recommendation_score)"
      ],
      "metadata": {
        "colab": {
          "base_uri": "https://localhost:8080/"
        },
        "id": "FJcPpXDFJwXj",
        "outputId": "25a22aef-ba3f-43b4-d20a-1324fbbdfdf3"
      },
      "execution_count": 57,
      "outputs": [
        {
          "output_type": "stream",
          "name": "stdout",
          "text": [
            "[(0, 0.04130523155437213), (1, 0.0), (2, 0.023441288579218116), (3, 0.025657278440275322), (4, 0.0), (5, 0.0), (6, 0.0), (7, 0.018343959973867088), (8, 0.0), (9, 0.007893837908114662), (10, 0.00909686001191197), (11, 0.00882782385565137), (12, 0.042855589026959254), (13, 0.0), (14, 0.02840751163435908), (15, 0.0), (16, 0.0), (17, 0.0), (18, 0.00816479132347805), (19, 0.0), (20, 0.0), (21, 0.0), (22, 0.003597883532098599), (23, 0.0), (24, 0.0), (25, 0.010038570188546493), (26, 0.030946574628809093), (27, 0.0), (28, 0.012353614356995866), (29, 0.008130615386940843), (30, 0.0), (31, 0.0), (32, 0.0), (33, 0.007546090708610958), (34, 0.0), (35, 0.02356323119886578), (36, 0.0), (37, 0.023311113744462847), (38, 0.013844666935018658), (39, 0.017140128714094656), (40, 0.004074285064152992), (41, 0.0), (42, 0.06315610765327313), (43, 0.0), (44, 0.0), (45, 0.011554555275936396), (46, 0.0), (47, 0.025771649829713215), (48, 0.00939357064438375), (49, 0.031661565960555374), (50, 0.032437831564975005), (51, 0.0), (52, 0.0), (53, 0.02126925425874366), (54, 0.0), (55, 0.0), (56, 0.01737978168841599), (57, 0.02104280585881605), (58, 0.007140135320580792), (59, 0.003730046134407628), (60, 0.010398128323688825), (61, 0.0), (62, 0.0), (63, 0.0), (64, 0.00713166171009437), (65, 0.008432494922042155), (66, 0.0), (67, 0.05181502382339437), (68, 0.0), (69, 0.0), (70, 0.0), (71, 0.03208603188224799), (72, 0.008278792297055802), (73, 0.003146621615847713), (74, 0.018089994514551965), (75, 0.028648067868400077), (76, 0.02558006848641503), (77, 0.0), (78, 0.007150330376519195), (79, 0.008483203992223456), (80, 0.007815138375548439), (81, 0.0), (82, 0.015657247282236608), (83, 0.008623318427334152), (84, 0.008342208546418753), (85, 0.0), (86, 0.010451022478922892), (87, 0.0), (88, 0.007031520790458333), (89, 0.0), (90, 0.0), (91, 0.010770797582831816), (92, 0.0), (93, 0.0), (94, 0.007817851120615598), (95, 0.0), (96, 0.007898432368534965), (97, 0.0074735948347634485), (98, 0.0), (99, 0.0), (100, 0.0), (101, 0.0188756416863597), (102, 0.009316761720541458), (103, 0.0031377772516844584), (104, 0.008591557511856886), (105, 0.008479783383371037), (106, 0.006568098616933073), (107, 0.0), (108, 0.0391275667860414), (109, 0.018786925391253723), (110, 0.012421958268206475), (111, 0.0), (112, 0.008207450774637349), (113, 0.005961524837798587), (114, 0.003630451903973519), (115, 0.0037063703685377486), (116, 0.0), (117, 0.0), (118, 0.0), (119, 0.016714049617604844), (120, 0.0), (121, 0.0), (122, 0.01567787501932756), (123, 0.00932734717929441), (124, 0.01553518053577354), (125, 0.0), (126, 0.0), (127, 0.0), (128, 0.0), (129, 0.002532626154942699), (130, 0.0519582808693134), (131, 0.008639441668402964), (132, 0.0), (133, 0.0), (134, 0.003704099896803372), (135, 0.017034357512688055), (136, 0.0), (137, 0.008794182359280289), (138, 0.008171838854604981), (139, 0.004061707837724911), (140, 0.017676265155299638), (141, 0.10492876108009845), (142, 0.0), (143, 0.0), (144, 0.035817821134400185), (145, 0.0), (146, 0.0242264489336125), (147, 0.0), (148, 0.007737372298974511), (149, 0.0), (150, 0.008359941494196978), (151, 0.0), (152, 0.008321415049532552), (153, 0.014308027738022389), (154, 0.08611386820774128), (155, 0.021672709993070517), (156, 0.009867072185788035), (157, 0.03191954637145967), (158, 0.0), (159, 0.01337039029214436), (160, 0.0), (161, 0.031391625307391105), (162, 0.02806405557402969), (163, 0.0), (164, 0.01790286368960658), (165, 0.01470291086398843), (166, 0.007530207712893884), (167, 0.01816939736360266), (168, 0.006698724813564231), (169, 0.011947312107548543), (170, 0.015406697656063397), (171, 0.00807423185043134), (172, 0.029323270594206096), (173, 0.019767216261782003), (174, 0.0035725168618581217), (175, 0.027918649810886032), (176, 0.0), (177, 0.014511402779782868), (178, 0.0), (179, 0.008183785608136714), (180, 0.0), (181, 0.0), (182, 0.020839309670397092), (183, 0.0), (184, 0.007501139079289801), (185, 0.003435706077592272), (186, 0.007120365803896054), (187, 0.0), (188, 0.0035975297877864497), (189, 0.008835026192739901), (190, 0.0), (191, 0.015184412223552242), (192, 0.00921075457061153), (193, 0.0), (194, 0.0), (195, 0.01025209226882666), (196, 0.0), (197, 0.003417188138330833), (198, 0.019164963687999866), (199, 0.0), (200, 0.0), (201, 0.008895179719945318), (202, 0.025906832592040244), (203, 0.0), (204, 0.003782079537571651), (205, 0.003845456654461225), (206, 0.0), (207, 0.0), (208, 0.02006737481781384), (209, 0.00861097324899191), (210, 0.0), (211, 0.016519710104732795), (212, 0.03527762429001053), (213, 0.0), (214, 0.026390310638173122), (215, 0.011928056448447327), (216, 0.008822665274542764), (217, 0.003529390913778604), (218, 0.0), (219, 0.03418338640358369), (220, 0.05158898855835197), (221, 0.016171582621319243), (222, 0.02246970723675803), (223, 0.008198623869244134), (224, 0.0), (225, 0.018164436123712567), (226, 0.0), (227, 0.0), (228, 0.012904568022224039), (229, 0.0), (230, 0.0), (231, 0.0), (232, 0.009184255943541112), (233, 0.0), (234, 0.007331833821106962), (235, 0.0), (236, 0.0), (237, 0.0069196863204525364), (238, 0.003706278841916321), (239, 0.009034709302457379), (240, 0.007880930375201564), (241, 0.0), (242, 0.0), (243, 0.011973428258555173), (244, 0.0), (245, 0.003727359300379477), (246, 0.0077212890942026345), (247, 0.018597633983093387), (248, 0.0), (249, 0.02241360988462808), (250, 0.009526984627800194), (251, 0.014581857454870272), (252, 0.0), (253, 0.0039760554547958), (254, 0.0), (255, 0.0), (256, 0.0), (257, 0.0), (258, 0.0), (259, 0.01694985697562807), (260, 0.00808414005644344), (261, 0.038686729903455654), (262, 0.0), (263, 0.027623929815557523), (264, 0.01217022419548349), (265, 0.0), (266, 0.01969192344253756), (267, 0.0), (268, 0.0), (269, 0.02190602012925743), (270, 0.0), (271, 0.0), (272, 0.008522904824621542), (273, 0.0), (274, 0.0), (275, 0.0), (276, 0.0), (277, 0.014967714409208226), (278, 0.0031213123379884087), (279, 0.011377997577979746), (280, 0.008509605712851741), (281, 0.0), (282, 0.0), (283, 0.0), (284, 0.00812565505154622), (285, 0.0), (286, 0.0), (287, 0.02393579140077902), (288, 0.01445726409735576), (289, 0.0), (290, 0.0), (291, 0.007755602824591446), (292, 0.03666452260983673), (293, 0.019433744012859036), (294, 0.006782605117621078), (295, 0.0), (296, 0.0), (297, 0.018027709041583403), (298, 0.008900240278764276), (299, 0.008521257327791812), (300, 0.0), (301, 0.009023566464763277), (302, 0.0), (303, 0.0), (304, 0.0), (305, 0.00850656735227293), (306, 0.015683120872866052), (307, 0.0), (308, 0.0), (309, 0.013562304814776513), (310, 0.016374765947582193), (311, 0.0033981604415065482), (312, 0.00365104934440837), (313, 0.0), (314, 0.0), (315, 0.0), (316, 0.0), (317, 0.0), (318, 0.0039754451500396155), (319, 0.016925074051243667), (320, 0.0), (321, 0.030482035701595706), (322, 0.0), (323, 0.02799097577160472), (324, 0.007866151946985433), (325, 0.003422381249229033), (326, 0.0), (327, 0.007642062616389912), (328, 0.016509133072660182), (329, 0.0), (330, 0.011779084016860307), (331, 0.0072149290242796305), (332, 0.0), (333, 0.0), (334, 0.0), (335, 0.00786634453952898), (336, 0.014796166412257892), (337, 0.03614425139100822), (338, 0.0188794939193934), (339, 0.0035117275136494854), (340, 0.0), (341, 0.01834679688794125), (342, 0.009274132320464699), (343, 0.008589720749164307), (344, 0.016574737533816355), (345, 0.011759960488405972), (346, 0.012070936241416898), (347, 0.008555078093149584), (348, 0.008441925615082167), (349, 0.028257752940448213), (350, 0.003951251525404844), (351, 0.0027631210731429816), (352, 0.0077352572825281594), (353, 0.0086405064859661), (354, 0.007789893489099762), (355, 0.0), (356, 0.008131427361959593), (357, 0.017837800911190548), (358, 0.0), (359, 0.0), (360, 0.0), (361, 0.012902440022033754), (362, 0.004006918736524095), (363, 0.003956878634378584), (364, 0.0), (365, 0.004026490961552975), (366, 0.0029560120805801485), (367, 0.0034747406592487277), (368, 0.01460901997297117), (369, 0.009276682344424327), (370, 0.04987994761346295), (371, 0.009378027434369026), (372, 0.015877955692258493), (373, 0.0), (374, 0.0), (375, 0.0), (376, 0.0), (377, 0.0037350677259981846), (378, 0.0), (379, 0.0), (380, 0.009768847275342744), (381, 0.006963967401317779), (382, 0.0), (383, 0.003237696697816602), (384, 0.0), (385, 0.004015891958551591), (386, 0.030326189673930824), (387, 0.008037819952507864), (388, 0.00804790557396677), (389, 0.0), (390, 0.0), (391, 0.03134735499321071), (392, 0.012937852431380886), (393, 0.0032110337263372007), (394, 0.0), (395, 0.0), (396, 0.0), (397, 0.0), (398, 0.0036480930965161616), (399, 0.0), (400, 0.0), (401, 0.0036745610231423633), (402, 0.0), (403, 0.014445232868013745), (404, 0.0035175908313860734), (405, 0.003886955544765989), (406, 0.0), (407, 0.020473664633514393), (408, 0.008054494481306934), (409, 0.011183704220478067), (410, 0.007929939476058741), (411, 0.007816270528911711), (412, 0.013931205077797947), (413, 0.007749540131217356), (414, 0.0027240456210356426), (415, 0.003832588248371101), (416, 0.014473685340716441), (417, 0.01127025657100435), (418, 0.02186188702327356), (419, 0.0), (420, 0.009164544689956583), (421, 0.00937522339923721), (422, 0.003432378849210227), (423, 0.0), (424, 0.009674569345859724), (425, 0.00965609842683253), (426, 0.03528205243865992), (427, 0.01165490125458784), (428, 0.04390244657792485), (429, 0.0), (430, 0.03402509665406832), (431, 0.0042824482674793584), (432, 0.0), (433, 0.0), (434, 0.0), (435, 0.0), (436, 0.0), (437, 0.0), (438, 0.0), (439, 0.00845453136783236), (440, 0.0), (441, 0.01409492694830748), (442, 0.007064279178929214), (443, 0.03480415830661302), (444, 0.0), (445, 0.0), (446, 0.0), (447, 0.030358747850802965), (448, 0.009844357142272128), (449, 0.0), (450, 0.0), (451, 0.0), (452, 0.01926640345021361), (453, 0.0), (454, 0.011266940404512291), (455, 0.0), (456, 0.007685294485590374), (457, 0.01918198412057202), (458, 0.0), (459, 0.0035469002129359523), (460, 0.016987607651716898), (461, 0.004293757206308676), (462, 0.0), (463, 0.0), (464, 0.0), (465, 0.0), (466, 0.0), (467, 0.0), (468, 0.0), (469, 0.038812018135175264), (470, 0.0), (471, 0.0033885661200797833), (472, 0.008776451126422901), (473, 0.00328202658742102), (474, 0.003807243324126572), (475, 0.0072811759965691345), (476, 0.0), (477, 0.013578548989399714), (478, 0.0), (479, 0.003626989119098142), (480, 0.0), (481, 0.0), (482, 0.0), (483, 0.00902538089132544), (484, 0.011422456407561584), (485, 0.031340079217572904), (486, 0.00817871540227439), (487, 0.0), (488, 0.018199821690775966), (489, 0.0), (490, 0.0), (491, 0.009968198338937938), (492, 0.007985265025992859), (493, 0.0), (494, 0.003648767158416289), (495, 0.0075316689811067185), (496, 0.021831715307640654), (497, 0.010790361958127638), (498, 0.01157026887213946), (499, 0.0), (500, 0.01661829532733443), (501, 0.016914175121408907), (502, 0.0), (503, 0.003529141810473855), (504, 0.012225548168701613), (505, 0.0034570079650684767), (506, 0.026572614163520924), (507, 0.01143621397953838), (508, 0.013984709390144087), (509, 0.0), (510, 0.009698451832214676), (511, 0.007770473157909297), (512, 0.010116946205316356), (513, 0.0), (514, 0.0), (515, 0.0032702263894295695), (516, 0.0), (517, 0.0), (518, 0.0), (519, 0.0), (520, 0.0031767538527701527), (521, 0.011717110398472615), (522, 0.0), (523, 0.017937433938266783), (524, 0.015647499838488926), (525, 0.012076095762926287), (526, 0.0), (527, 0.0), (528, 0.003692151313785699), (529, 0.01221189921004518), (530, 0.0476613756698577), (531, 0.043698561861643496), (532, 0.0033712277100656747), (533, 0.0), (534, 0.0), (535, 0.0035770797588811614), (536, 0.003860588584245943), (537, 0.0), (538, 0.01703245306054982), (539, 0.0), (540, 0.042561373202030656), (541, 0.0), (542, 0.0), (543, 0.0), (544, 0.0), (545, 0.010669369429078559), (546, 0.0034988188113593043), (547, 0.007172821421826006), (548, 0.02568619151129236), (549, 0.007920369504286063), (550, 0.0), (551, 0.008861175837674018), (552, 0.0), (553, 0.012118764943246011), (554, 0.0), (555, 0.02801876645938322), (556, 0.0), (557, 0.0), (558, 0.0), (559, 0.0), (560, 0.008541914274658818), (561, 0.0314325534574484), (562, 0.006465558434595098), (563, 0.0), (564, 0.0), (565, 0.0), (566, 0.021411940337267676), (567, 0.0), (568, 0.01578403318690185), (569, 0.01565570824030199), (570, 0.0), (571, 0.0), (572, 0.0), (573, 0.0), (574, 0.0), (575, 0.007153273100258593), (576, 0.0), (577, 0.010887218068675543), (578, 0.0), (579, 0.0036773885803980675), (580, 0.0), (581, 0.0), (582, 0.004276483258969895), (583, 0.014337474466176666), (584, 0.0), (585, 0.011668901615505014), (586, 0.034075001694991024), (587, 0.0), (588, 0.008845880419868139), (589, 0.0033590530042638777), (590, 0.007840828054291763), (591, 0.0), (592, 0.0), (593, 0.0), (594, 0.018456838059423754), (595, 0.0), (596, 0.035062093908144076), (597, 0.02293733912465142), (598, 0.027085615184113416), (599, 0.008975811655502108), (600, 0.008972731235095269), (601, 0.0), (602, 0.0), (603, 0.009072560390812097), (604, 0.0), (605, 0.0031964693170415024), (606, 0.03008989254384796), (607, 0.0), (608, 0.0), (609, 0.03668563459652477), (610, 0.008458296745743275), (611, 0.0), (612, 0.030800351971618612), (613, 0.008401079481170743), (614, 0.009810226785501388), (615, 0.028414531540194403), (616, 0.0), (617, 0.0), (618, 0.008311651979302385), (619, 0.028939540986105013), (620, 0.0), (621, 0.024556251167964293), (622, 0.0), (623, 0.0), (624, 0.0), (625, 0.0), (626, 0.0), (627, 0.02837249925272139), (628, 0.0), (629, 0.019421160623561147), (630, 0.003661220785896249), (631, 0.00878312665067114), (632, 0.003287309487546231), (633, 0.0284893735773419), (634, 0.0), (635, 0.018671117363754805), (636, 0.0), (637, 0.0), (638, 0.0), (639, 0.007206689415501979), (640, 0.014272784502739737), (641, 0.0), (642, 0.0), (643, 0.026527009379730817), (644, 0.008080320466607246), (645, 0.017027655778625406), (646, 0.0), (647, 0.0), (648, 0.0033915767738853008), (649, 0.0034329673535591254), (650, 0.0), (651, 0.02810672905504371), (652, 0.0), (653, 0.022303227075785092), (654, 0.041944321449187694), (655, 0.0), (656, 0.0), (657, 0.022693245004768114), (658, 0.0), (659, 0.02285463295821832), (660, 0.03839218446727839), (661, 0.007995855097065158), (662, 0.0035230668528051347), (663, 0.0), (664, 0.010898286117262328), (665, 0.00727019513789217), (666, 0.009638331119939478), (667, 0.003816076490506397), (668, 0.006728863223572777), (669, 0.007833846443587728), (670, 0.0), (671, 0.033812833025619805), (672, 0.0032303435317107853), (673, 0.0), (674, 0.0), (675, 0.009307640943921352), (676, 0.0), (677, 0.009380589407038873), (678, 0.00395630317337508), (679, 0.004184335008230557), (680, 0.009064832430221704), (681, 0.009636284459689804), (682, 0.0), (683, 0.009627518042063844), (684, 0.018749626296966904), (685, 0.017495801675193236), (686, 0.0), (687, 0.01346363190514508), (688, 0.0), (689, 0.03957232650493288), (690, 0.01129215749651479), (691, 0.03191251677598561), (692, 0.01471561075310574), (693, 0.0), (694, 0.0), (695, 0.01740672488000756), (696, 0.0), (697, 0.062021256533942665), (698, 0.0), (699, 0.015328439860129595), (700, 0.00935590129346034), (701, 0.009500637676903022), (702, 0.0033891992904919233), (703, 0.0032173814490661), (704, 0.009214723896918723), (705, 0.01668930128413578), (706, 0.03527166124982008), (707, 0.0030455291895153625), (708, 0.03376680146099409), (709, 0.02736730796275779), (710, 0.0303609423049619), (711, 0.038467923233408925), (712, 0.03087761525994598), (713, 0.0), (714, 0.0), (715, 0.032049606645776926), (716, 0.0), (717, 0.0088801213439707), (718, 0.0), (719, 0.020512762722571156), (720, 0.03237211298278535), (721, 0.03585042826639374), (722, 0.007653385639276316), (723, 0.02168521342574774), (724, 0.0), (725, 0.007247627678609613), (726, 0.017313708720633137), (727, 0.016731714457195374), (728, 0.0), (729, 0.0), (730, 0.0037367810067351613), (731, 0.02441926231243341), (732, 0.0), (733, 0.01474841760476493), (734, 0.0), (735, 0.04459191702297715), (736, 0.012217030783507176), (737, 0.017814410607249406), (738, 0.014037972393084821), (739, 0.0), (740, 0.002440108991478296), (741, 0.040033608974456625), (742, 0.008004370048322017), (743, 0.0), (744, 0.007900059370517696), (745, 0.0033596856392715106), (746, 0.0), (747, 0.009511619872041473), (748, 0.009041821514576727), (749, 0.017051635862737103), (750, 0.0), (751, 0.004376789231427524), (752, 0.04705789911101742), (753, 0.0), (754, 0.0038914818661422833), (755, 0.0035369440094315534), (756, 0.007488988443251236), (757, 0.023322821768869417), (758, 0.03293631779656197), (759, 0.0032959386004887017), (760, 0.0041566770144438004), (761, 0.0), (762, 0.014785481258619818), (763, 0.016142648587008007), (764, 0.005293717220412106), (765, 0.009025588227514753), (766, 0.0), (767, 0.00808217664530253), (768, 0.04601132503207121), (769, 0.008418533745012), (770, 0.003346841380105774), (771, 0.003915476342632601), (772, 0.0034829132335913397), (773, 0.011736407266619503), (774, 0.0), (775, 0.013037732206107655), (776, 0.014380143552064559), (777, 0.0), (778, 0.01623842701721429), (779, 0.007272507640621677), (780, 0.01962488291998224), (781, 0.01277945232296877), (782, 0.008173492227873256), (783, 0.0), (784, 0.003755116373310709), (785, 0.020672469969923196), (786, 0.0030349160607333623), (787, 0.012622962915135564), (788, 0.011156303666793705), (789, 0.01372982928212547), (790, 0.008253182331438817), (791, 0.0), (792, 0.009074086087971264), (793, 0.0037619430110240252), (794, 0.0), (795, 0.004280810752486313), (796, 0.0), (797, 0.0037913113489562475), (798, 0.016255796666308265), (799, 0.0), (800, 0.0), (801, 0.0), (802, 0.03429349147943865), (803, 0.022885125324287905), (804, 0.0), (805, 0.007873930879841938), (806, 0.0), (807, 0.012510174175485275), (808, 0.0), (809, 0.0), (810, 0.007959009648893638), (811, 0.030398379105776103), (812, 0.0), (813, 0.01917039411426805), (814, 0.03454062368119588), (815, 0.0), (816, 0.0), (817, 0.018219209268334053), (818, 0.0), (819, 0.0), (820, 0.01074443068364463), (821, 0.011110249392698128), (822, 0.003639042640941275), (823, 0.0), (824, 0.038011908094720076), (825, 0.0), (826, 0.0), (827, 0.027618193809866593), (828, 0.0), (829, 0.0345108329814776), (830, 0.08850888983243846), (831, 0.0), (832, 0.008658761272471872), (833, 0.0), (834, 0.0), (835, 0.0), (836, 0.0031988597261864535), (837, 0.002796550265889352), (838, 0.0), (839, 0.00410681550535141), (840, 0.05859362227399746), (841, 0.004008023075994464), (842, 0.02997283871690124), (843, 0.0), (844, 0.0), (845, 0.10747187842969037), (846, 0.0037149822086675255), (847, 0.013929213436656627), (848, 0.02934738746115162), (849, 0.0036237671097319652), (850, 0.00870034666346043), (851, 0.003180365630526026), (852, 0.024432864565392346), (853, 0.006599201102224817), (854, 0.008130279524237808), (855, 0.0), (856, 0.0), (857, 0.0), (858, 0.0), (859, 0.003430720857778447), (860, 0.0), (861, 0.0), (862, 0.01799266065590938), (863, 0.02667669167943911), (864, 0.008598804175781643), (865, 0.0), (866, 0.00791234744292164), (867, 0.00357376553347123), (868, 0.0), (869, 0.003736673195838042), (870, 0.028777323657603528), (871, 0.0), (872, 0.003884905890895453), (873, 0.003881614971072325), (874, 0.014680837066871347), (875, 0.0), (876, 0.0), (877, 0.0), (878, 0.00804057373540689), (879, 0.0037780574775943816), (880, 0.0), (881, 0.026872379195664008), (882, 0.007535751129149394), (883, 0.011583903091341325), (884, 0.0037821597148494524), (885, 0.010882878913484087), (886, 0.0034089171780579985), (887, 0.03256766531469277), (888, 0.0), (889, 0.07511390478001931), (890, 0.04314602656715516), (891, 0.008980512325487496), (892, 0.003140965201662989), (893, 0.0), (894, 0.008449455040377708), (895, 0.02384500690547415), (896, 0.0), (897, 0.04019474902535037), (898, 0.018590007771176295), (899, 0.007867648737101723), (900, 0.0), (901, 0.015593749978091497), (902, 0.0), (903, 0.003393860074765546), (904, 0.014269369038201004), (905, 0.004194117064024077), (906, 0.0), (907, 0.011157419026168668), (908, 0.012407984518609673), (909, 0.0), (910, 0.0), (911, 0.016184276123462182), (912, 0.0031879367379703508), (913, 0.009047431979632216), (914, 0.0), (915, 0.008202951446342973), (916, 0.040270869132558375), (917, 0.0), (918, 0.008817075351629608), (919, 0.008691653064521155), (920, 0.050088655100012335), (921, 0.0), (922, 0.0), (923, 0.0034927931455980936), (924, 0.007412728846499934), (925, 0.004180244200898981), (926, 0.0028450982229161945), (927, 0.0), (928, 0.00891244516491123), (929, 0.012358834170093036), (930, 0.01812750661270556), (931, 0.012132363640480624), (932, 0.016859901953695466), (933, 0.003698554272225554), (934, 0.015514940940735472), (935, 0.023760123536248286), (936, 0.0), (937, 0.0), (938, 0.041422173048976316), (939, 0.0034208489199501484), (940, 0.002541238474669877), (941, 0.0033888778012192344), (942, 0.0), (943, 0.003633085510080155), (944, 0.0), (945, 0.012289001684797466), (946, 0.003607404002698145), (947, 0.0469967789005323), (948, 0.015303203354155602), (949, 0.0), (950, 0.0), (951, 0.0030564704442435768), (952, 0.05408633453853831), (953, 0.0), (954, 0.0), (955, 0.004277541596777658), (956, 0.003969086043779078), (957, 0.011134043317802102), (958, 0.0033124340744008908), (959, 0.0), (960, 0.030817831737081313), (961, 0.03378692572862185), (962, 0.016143117178361192), (963, 0.015954854668133813), (964, 0.0030289325647826857), (965, 0.0036107079974246055), (966, 0.008039259600471488), (967, 0.0), (968, 0.0), (969, 0.03356210350409645), (970, 0.010245516953758794), (971, 0.01253698378719876), (972, 0.002781722226071139), (973, 0.020394806176979294), (974, 0.007990040804904732), (975, 0.0), (976, 0.0), (977, 0.0), (978, 0.014604676413687925), (979, 0.0), (980, 0.0), (981, 0.015336396228951223), (982, 0.022812214092262136), (983, 0.00356547020494993), (984, 0.0034439367872715885), (985, 0.0041653961020948925), (986, 0.0), (987, 0.0), (988, 0.02717808112361783), (989, 0.0), (990, 0.00399841019882987), (991, 0.0), (992, 0.0), (993, 0.0085881507228333), (994, 0.0), (995, 0.05709348653234705), (996, 0.005114024511457433), (997, 0.0), (998, 0.004113824293361102), (999, 0.004110255121327796), (1000, 0.007668933924120236), (1001, 0.016249951338743313), (1002, 0.22666274613533516), (1003, 0.02976827034891874), (1004, 0.0), (1005, 0.013044433830196963), (1006, 0.012725156752794977), (1007, 0.0038321607752176577), (1008, 0.0031115202943194924), (1009, 0.0), (1010, 0.04946159502605797), (1011, 0.009616809225913962), (1012, 0.0), (1013, 0.003829166729498759), (1014, 0.0), (1015, 0.0), (1016, 0.0), (1017, 0.0), (1018, 0.00743773234205399), (1019, 0.0), (1020, 0.0), (1021, 0.0036085243543350436), (1022, 0.012087653250841442), (1023, 0.0327405552115257), (1024, 0.0037825096325048257), (1025, 0.010826729843741468), (1026, 0.0), (1027, 0.0), (1028, 0.003583166269953403), (1029, 0.019556416814703725), (1030, 0.0), (1031, 0.009099406820583428), (1032, 0.0), (1033, 0.016324188857373002), (1034, 0.0), (1035, 0.008308552533592554), (1036, 0.0), (1037, 0.0), (1038, 0.020544346083978128), (1039, 0.015498808595953366), (1040, 0.002827053715410776), (1041, 0.033734544881674364), (1042, 0.0), (1043, 0.009323773517025853), (1044, 0.0), (1045, 0.0), (1046, 0.007229688581020971), (1047, 0.012662802286797914), (1048, 0.008845240907275283), (1049, 0.03890204184552576), (1050, 0.0), (1051, 0.0), (1052, 0.007883663875788847), (1053, 0.0), (1054, 0.050648156290406435), (1055, 0.0), (1056, 0.00928889533037932), (1057, 0.0), (1058, 0.0), (1059, 0.008433475194329316), (1060, 0.016479203116107777), (1061, 0.0032641963536244652), (1062, 0.0030277704439637004), (1063, 0.0), (1064, 0.0), (1065, 0.0), (1066, 0.01569482486627175), (1067, 0.0), (1068, 0.007890045802759885), (1069, 0.0), (1070, 0.003122866495608042), (1071, 0.03641237536007057), (1072, 0.07640296224851302), (1073, 0.031074122016350368), (1074, 0.0036480411955674384), (1075, 0.0), (1076, 0.0), (1077, 0.008740893913672705), (1078, 0.0030180678335438734), (1079, 0.003336152841368477), (1080, 0.026933005768058377), (1081, 0.0), (1082, 0.02855676259204662), (1083, 0.0), (1084, 0.003549990223996007), (1085, 0.003699319703010581), (1086, 0.0), (1087, 0.017352602954911596), (1088, 0.019210121149636224), (1089, 0.003992510856362123), (1090, 0.022412521056032475), (1091, 0.0), (1092, 0.0), (1093, 0.0032758942916312718), (1094, 0.0035551826257123357), (1095, 0.015223392018172814), (1096, 0.0), (1097, 0.0), (1098, 0.0), (1099, 0.0038512057296144733), (1100, 0.003567191535106814), (1101, 0.0), (1102, 0.0), (1103, 0.003910198668445123), (1104, 0.00897014987895208), (1105, 0.021008578738610468), (1106, 0.03098299028364822), (1107, 0.035089497891237935), (1108, 0.003711745887563965), (1109, 0.026966165894090937), (1110, 0.05026003847980113), (1111, 0.017427650007160924), (1112, 0.003617330305828815), (1113, 0.01994851170736757), (1114, 0.007852342569305285), (1115, 0.00291487672055943), (1116, 0.0), (1117, 0.003495012800544634), (1118, 0.024525503712802085), (1119, 0.0), (1120, 0.007276805411788005), (1121, 0.0), (1122, 0.0), (1123, 0.033162565465812414), (1124, 0.003759295608301189), (1125, 0.0034886573717667823), (1126, 0.0035814712868742055), (1127, 0.0), (1128, 0.0), (1129, 0.04605664144974929), (1130, 0.011990588110060795), (1131, 0.0), (1132, 0.00809705533370074), (1133, 0.003618253456285968), (1134, 0.0), (1135, 0.0), (1136, 0.014918557553251756), (1137, 0.0), (1138, 0.0), (1139, 0.0034104174000928627), (1140, 0.009140556919772511), (1141, 0.0), (1142, 0.025628342238158672), (1143, 0.0), (1144, 0.00678430377138779), (1145, 0.0), (1146, 0.008241919240566584), (1147, 0.0), (1148, 0.03287568733726606), (1149, 0.003346714417389198), (1150, 0.009178575962796958), (1151, 0.031501983719872846), (1152, 0.022689820978008795), (1153, 0.002544360641220502), (1154, 0.02793557450406345), (1155, 0.012610339632893002), (1156, 0.002981333142601784), (1157, 0.037990085717165764), (1158, 0.0), (1159, 0.0), (1160, 0.0), (1161, 0.0), (1162, 0.02059409188948918), (1163, 0.0), (1164, 0.0), (1165, 0.003753940613574453), (1166, 0.03419813368520112), (1167, 0.0), (1168, 0.060459338674345185), (1169, 0.004243215976290779), (1170, 0.012173292725966865), (1171, 0.00771615402350468), (1172, 0.10294904349872112), (1173, 0.011003804713102201), (1174, 0.0), (1175, 0.0), (1176, 0.019245602984972878), (1177, 0.0), (1178, 0.010303994643833483), (1179, 0.008518774364186738), (1180, 0.02617500010963329), (1181, 0.0), (1182, 0.05780856571061276), (1183, 0.0), (1184, 0.03571582661468222), (1185, 0.008974961193448995), (1186, 0.007512348618537502), (1187, 0.038418372919837886), (1188, 0.0), (1189, 0.0), (1190, 0.003449809013424134), (1191, 0.017145169375711464), (1192, 0.017903025658671193), (1193, 0.0037984270840550026), (1194, 0.02881599377829475), (1195, 0.028356873033755246), (1196, 0.003602053587248711), (1197, 0.0), (1198, 0.003589085266711354), (1199, 0.0032001368646656023), (1200, 0.003298237130990305), (1201, 0.008218265601992005), (1202, 0.0), (1203, 0.0034035735498780693), (1204, 0.003679859571035419), (1205, 0.0038627015246105872), (1206, 0.05471682893595894), (1207, 0.0), (1208, 0.015552335780877795), (1209, 0.0), (1210, 0.0466492235230795), (1211, 0.003434500279542852), (1212, 0.0031280723751645027), (1213, 0.0031920147448312682), (1214, 0.0173251595711226), (1215, 0.007284266675007738), (1216, 0.02653374219823785), (1217, 0.003146090943864147), (1218, 0.008130458339881479), (1219, 0.0), (1220, 0.0076788011186759465), (1221, 0.007078984113188768), (1222, 0.0030429095275582517), (1223, 0.008543749427668253), (1224, 0.0037948985625911908), (1225, 0.0), (1226, 0.0), (1227, 0.003619025089720601), (1228, 0.0), (1229, 0.0), (1230, 0.0), (1231, 0.0034700191190933476), (1232, 0.003655143719209403), (1233, 0.0), (1234, 0.0038385364939948095), (1235, 0.003518926174973961), (1236, 0.0), (1237, 0.0), (1238, 0.012050945994620461), (1239, 0.008452852327042074), (1240, 0.0), (1241, 0.013986780514379184), (1242, 0.0033212969980529828), (1243, 0.003955530821196524), (1244, 0.003742923227175059), (1245, 0.0), (1246, 0.013107136953731106), (1247, 0.0), (1248, 0.0), (1249, 0.0031456506709345677), (1250, 0.008678032465159155), (1251, 0.003206438003729824), (1252, 0.0), (1253, 0.0), (1254, 0.0174705087454272), (1255, 0.017891859416424145), (1256, 0.0034195256304674873), (1257, 0.016766585980594162), (1258, 0.0), (1259, 0.04987964202036589), (1260, 0.0040392631105410064), (1261, 0.003514005121908132), (1262, 0.008513399426742715), (1263, 0.0), (1264, 0.0), (1265, 0.0), (1266, 0.008696713074648534), (1267, 0.011740671679925301), (1268, 0.0028992538864628203), (1269, 0.0), (1270, 0.015635262427986695), (1271, 0.0), (1272, 0.0), (1273, 0.050985491537890226), (1274, 0.008092566647913411), (1275, 0.0), (1276, 0.0), (1277, 0.009134638250712786), (1278, 0.021757741650175882), (1279, 0.007183459535894247), (1280, 0.0), (1281, 0.0), (1282, 0.012978349317850472), (1283, 0.0), (1284, 0.05031630990372957), (1285, 0.0), (1286, 0.0035682762191929494), (1287, 0.0), (1288, 0.011041142016817922), (1289, 0.0029786990378185747), (1290, 0.0), (1291, 0.01913456929887764), (1292, 0.003566196663617458), (1293, 0.0034898272487575814), (1294, 0.0), (1295, 0.0), (1296, 0.04785718717022793), (1297, 0.01576011264813152), (1298, 0.0036066885368046453), (1299, 0.0038084784607778023), (1300, 0.0030668403366913605), (1301, 0.007444388977373017), (1302, 0.003679023135002809), (1303, 0.0), (1304, 0.0206808569085527), (1305, 0.014088657068508023), (1306, 0.012423622432205168), (1307, 0.016049694678732546), (1308, 0.01113842056455349), (1309, 0.006223215579065734), (1310, 0.0032748883923347785), (1311, 0.004070983555057506), (1312, 0.010254489822922517), (1313, 0.003575527838996438), (1314, 0.008411631139548568), (1315, 0.0), (1316, 0.0), (1317, 0.0029409851282232525), (1318, 0.003234821575019989), (1319, 0.062059873036105356), (1320, 0.0028472243685732715), (1321, 0.013985542199570133), (1322, 0.043117360035944755), (1323, 0.003113602582408394), (1324, 0.0), (1325, 0.0), (1326, 0.0029546185492700674), (1327, 0.003454727849687134), (1328, 0.0), (1329, 0.023966362168048844), (1330, 0.0035574299609160364), (1331, 0.0033310530358798855), (1332, 0.0), (1333, 0.0038893857559757286), (1334, 0.0), (1335, 0.0), (1336, 0.012749237951329389), (1337, 0.003707642101226847), (1338, 0.00838711405181825), (1339, 0.0), (1340, 0.0030799078060794573), (1341, 0.017003794830149938), (1342, 0.0), (1343, 0.01011505446384446), (1344, 0.002937176165205503), (1345, 0.0036126497212217346), (1346, 0.008567946625583427), (1347, 0.008212048960211977), (1348, 0.0031565345551238296), (1349, 0.04258817527984422), (1350, 0.0), (1351, 0.027703757446599604), (1352, 0.007223715339842197), (1353, 0.0033702762541432123), (1354, 0.015736537282094516), (1355, 0.0), (1356, 0.0), (1357, 0.0), (1358, 0.0), (1359, 0.039144087578073694), (1360, 0.007765659788845473), (1361, 0.0036872263629948486), (1362, 0.002702238130350379), (1363, 0.03099134326689685), (1364, 0.012620374746343501), (1365, 0.02159063841408701), (1366, 0.0), (1367, 0.0030261078467708202), (1368, 0.011751162011792497), (1369, 0.030862476528447244), (1370, 0.003125757647524046), (1371, 0.004030112975489349), (1372, 0.0034056525334384136), (1373, 0.011801932969089159), (1374, 0.008530526764346518), (1375, 0.008101458560509823), (1376, 0.021338751118190835), (1377, 0.0068885204819723565), (1378, 0.0), (1379, 0.003143796631878436), (1380, 0.008979987036774056), (1381, 0.009773744661799994), (1382, 0.003744301744038335), (1383, 0.0), (1384, 0.0075695148294003655), (1385, 0.0), (1386, 0.0), (1387, 0.0), (1388, 0.003640443313686604), (1389, 0.02371829459061272), (1390, 0.013078099484058778), (1391, 0.0), (1392, 0.01402524932263817), (1393, 0.030545644361094415), (1394, 0.010781414559469103), (1395, 0.006847703353546767), (1396, 0.017834119778257735), (1397, 0.003132295059248211), (1398, 0.03383004422109868), (1399, 0.0), (1400, 0.03071453051012538), (1401, 0.003823883186634435), (1402, 0.008937186230925091), (1403, 0.002790148285975195), (1404, 0.008067245815526564), (1405, 0.01974915611426117), (1406, 0.0), (1407, 0.0), (1408, 0.0035313366307603727), (1409, 0.024041658772401865), (1410, 0.0036664282516531664), (1411, 0.012016191814715334), (1412, 0.04478860829072194), (1413, 0.017319203608907992), (1414, 0.0), (1415, 0.0), (1416, 0.0), (1417, 0.0), (1418, 0.03737900414400186), (1419, 0.0), (1420, 0.02904146866422388), (1421, 0.028352258489811724), (1422, 0.015340324618545427), (1423, 0.0), (1424, 0.004138456907673084), (1425, 0.012391682830915931), (1426, 0.04213464278382663), (1427, 0.002972003828079536), (1428, 0.0), (1429, 0.0), (1430, 0.06206227012247755), (1431, 0.008726991301645693), (1432, 0.003782866536885249), (1433, 0.01754033734226427), (1434, 0.0), (1435, 0.0), (1436, 0.039830789164664544), (1437, 0.03707065715285927), (1438, 0.0), (1439, 0.0), (1440, 0.030429225303999757), (1441, 0.003913004728527228), (1442, 0.008428867673085958), (1443, 0.01758711264075229), (1444, 0.03481735486844039), (1445, 0.0037909351426203314), (1446, 0.031618663366696095), (1447, 0.01198652404372473), (1448, 0.0), (1449, 0.0), (1450, 0.0), (1451, 0.016017596722047684), (1452, 0.030891033622640302), (1453, 0.016649207522013383), (1454, 0.0), (1455, 0.0), (1456, 0.03486055269053127), (1457, 0.003376900918589073), (1458, 0.0), (1459, 0.01675080660631629), (1460, 0.03216628117635723), (1461, 0.06322736427800862), (1462, 0.0), (1463, 0.008200079341375673), (1464, 0.013949236158139576), (1465, 0.035956848068389356), (1466, 0.0), (1467, 0.01340997216198898), (1468, 0.010770008325421566), (1469, 0.0037541334888780875), (1470, 0.0), (1471, 0.012631682129172024), (1472, 0.025944690906196177), (1473, 0.0036722155016689624), (1474, 0.009496684715198605), (1475, 0.0), (1476, 0.03404973297673343), (1477, 0.019060808043603442), (1478, 0.0), (1479, 0.03593866396047645), (1480, 0.0), (1481, 0.0), (1482, 0.010609694614873749), (1483, 0.0), (1484, 0.0), (1485, 0.02949384049503255), (1486, 0.013382986047759915), (1487, 0.01959654481958482), (1488, 0.007271711535995545), (1489, 0.004073496457640991), (1490, 0.0034609218329518473), (1491, 0.003948092433212762), (1492, 0.0031374076099092768), (1493, 0.008223985776601439), (1494, 0.02135907218085656), (1495, 0.02100510681987462), (1496, 0.01938107330369219), (1497, 0.0), (1498, 0.0), (1499, 0.0), (1500, 0.025324260235744286), (1501, 0.0960635137288937), (1502, 0.00900236134200428), (1503, 0.01547213047196027), (1504, 0.0), (1505, 0.0036469179121452235), (1506, 0.019999008411211824), (1507, 0.0041501267495883815), (1508, 0.007136985843989486), (1509, 0.005817628234336418), (1510, 0.008598831139531766), (1511, 0.04358240422597291), (1512, 0.0), (1513, 0.003775106119544735), (1514, 0.0), (1515, 0.02964083455289218), (1516, 0.03460334396439919), (1517, 0.020594873274103438), (1518, 0.0039030427605290818), (1519, 0.0), (1520, 0.013067300310670342), (1521, 0.010518705062034594), (1522, 0.01721128914732189), (1523, 0.019224202682785154), (1524, 0.011109711160356021), (1525, 0.012474475758985259), (1526, 0.040194727019058664), (1527, 0.020431241540026512), (1528, 0.003292608546840484), (1529, 0.0), (1530, 0.00699202635655593), (1531, 0.0), (1532, 0.003446743185776155), (1533, 0.003687863545873867), (1534, 0.0), (1535, 0.03157353529669421), (1536, 0.0), (1537, 0.013019584733818892), (1538, 0.0), (1539, 0.01406479082388367), (1540, 0.0), (1541, 0.0), (1542, 0.003760085550230775), (1543, 0.0033462525364067563), (1544, 0.00348484151683685), (1545, 0.003476673606391691), (1546, 0.007327527594258913), (1547, 0.0), (1548, 0.010829739435553775), (1549, 0.0035784565717614566), (1550, 0.0), (1551, 0.00836411268904035), (1552, 0.003465973260769347), (1553, 0.015104928556931555), (1554, 0.0), (1555, 0.007944181343709646), (1556, 0.0), (1557, 0.023076974553593952), (1558, 0.0), (1559, 0.007376737773254037), (1560, 0.036797153889261254), (1561, 0.003501950578117602), (1562, 0.0), (1563, 0.03938224027276002), (1564, 0.031841914668380066), (1565, 0.007281273827233184), (1566, 0.0), (1567, 0.003286828667745144), (1568, 0.007770761140018984), (1569, 0.03141868974528017), (1570, 0.0), (1571, 0.0100252795307967), (1572, 0.0038521392121018904), (1573, 0.0), (1574, 0.008584026905510762), (1575, 0.0), (1576, 0.0), (1577, 0.01225081575937333), (1578, 0.012809841687655008), (1579, 0.024157992448144157), (1580, 0.0), (1581, 0.0), (1582, 0.0034833140766696398), (1583, 0.03624994867906295), (1584, 0.023357763931091454), (1585, 0.007425735828093264), (1586, 0.03013304262226997), (1587, 0.012339813576421856), (1588, 0.0), (1589, 0.003552107993336613), (1590, 0.0), (1591, 0.0), (1592, 0.007027781288081446), (1593, 0.0), (1594, 0.023216477903719), (1595, 0.00773053885963258), (1596, 0.0038560822557552653), (1597, 0.011726696147921146), (1598, 0.024195297791420357), (1599, 0.003669235919683839), (1600, 0.0), (1601, 0.0032167935606360245), (1602, 0.003760620452216517), (1603, 0.0), (1604, 0.0), (1605, 0.0), (1606, 0.0), (1607, 0.0), (1608, 0.015032814001639278), (1609, 0.003871370176558901), (1610, 0.00336164647972234), (1611, 0.003662582689180123), (1612, 0.0), (1613, 0.012623547694743647), (1614, 0.003875980617238453), (1615, 0.004305396969217315), (1616, 0.0031911477296931987), (1617, 0.008306264284247163), (1618, 0.0035143507456560125), (1619, 0.009087658843377602), (1620, 0.007983641140564005), (1621, 0.020572902696574656), (1622, 0.02854948826864533), (1623, 0.0), (1624, 0.0), (1625, 0.0), (1626, 0.011007968499039204), (1627, 0.024885860682874492), (1628, 0.0), (1629, 0.0), (1630, 0.016139271633660024), (1631, 0.027609025608243642), (1632, 0.008171756055144079), (1633, 0.0), (1634, 0.08423293307490828), (1635, 0.0), (1636, 0.008770680502810426), (1637, 0.03518270785196924), (1638, 0.0036066084140875245), (1639, 0.0030725163759483714), (1640, 0.04443983869993648), (1641, 0.027089262978127894), (1642, 0.011276214922804395), (1643, 0.0418130495742316), (1644, 0.003625243411343449), (1645, 0.008262598112461644), (1646, 0.0029177768228622063), (1647, 0.01780672345299124), (1648, 0.012702908457480556), (1649, 0.0), (1650, 0.01581807657270954), (1651, 0.0), (1652, 0.0032181942359780706), (1653, 0.00831889358461939), (1654, 0.03122881475396324), (1655, 0.0), (1656, 0.004157476064666953), (1657, 0.0), (1658, 0.0040145778881543505), (1659, 0.0), (1660, 0.012706110555537066), (1661, 0.09893325293492808), (1662, 0.007940048163297643), (1663, 0.0034236841514981753), (1664, 0.01979417143532211), (1665, 0.0), (1666, 0.016816684601215624), (1667, 0.0), (1668, 0.01988727184982497), (1669, 0.010478773186237309), (1670, 0.0), (1671, 0.0), (1672, 0.0), (1673, 0.003381768226589005), (1674, 0.0), (1675, 0.023272726039842737), (1676, 0.0028956990104250396), (1677, 0.0028527847988239147), (1678, 0.03740094066693063), (1679, 0.022398577839148323), (1680, 0.0), (1681, 0.07341753760017587), (1682, 0.007985861009390085), (1683, 0.0038821077519470594), (1684, 0.0031787344508054536), (1685, 0.0), (1686, 0.029770370995775747), (1687, 0.009041657317773401), (1688, 0.02108790930317916), (1689, 0.021697179606444343), (1690, 0.006531865313070504), (1691, 0.014537157493955427), (1692, 0.03807526035111495), (1693, 0.0034059406413837145), (1694, 0.0032188060700677934), (1695, 0.0528231001359689), (1696, 0.028520977950933005), (1697, 0.0037491832073288664), (1698, 0.03255397975772285), (1699, 0.0), (1700, 0.019686932617119162), (1701, 0.026911915568159098), (1702, 0.034340036335841616), (1703, 0.0), (1704, 0.008677928991915128), (1705, 0.0), (1706, 0.045483780123120404), (1707, 0.007279676202870949), (1708, 0.0), (1709, 0.027347583805335685), (1710, 0.008101375408302188), (1711, 0.0), (1712, 0.020244137768413162), (1713, 0.0), (1714, 0.011105469419691767), (1715, 0.023363436300304956), (1716, 0.009555843525914248), (1717, 0.03087846055039636), (1718, 0.012712307154401711), (1719, 0.029821774035760418), (1720, 0.0), (1721, 0.00339821307492079), (1722, 0.033020037034163105), (1723, 0.007998887620809173), (1724, 0.0), (1725, 0.009403133638930286), (1726, 0.03181811136199638), (1727, 0.0037776528844608546), (1728, 0.0), (1729, 0.0033018455657654183), (1730, 0.0), (1731, 0.003891053001296142), (1732, 0.003870317959599826), (1733, 0.013306066074433028), (1734, 0.0038189523360609664), (1735, 0.0037416781384759803), (1736, 0.0), (1737, 0.026133047672605658), (1738, 0.011534632567161782), (1739, 0.0), (1740, 0.0), (1741, 0.0036509616327057457), (1742, 0.008051344419815464), (1743, 0.007250779773113413), (1744, 0.031187018321798536), (1745, 0.0), (1746, 0.019271428164437623), (1747, 0.0), (1748, 0.0), (1749, 0.0), (1750, 0.003239965250563636), (1751, 0.012311338407575664), (1752, 0.0029996498099627653), (1753, 0.0), (1754, 0.0), (1755, 0.01620162629288097), (1756, 0.008059549623369126), (1757, 0.003574490414387843), (1758, 0.014033600969651654), (1759, 0.06412733775886455), (1760, 0.0), (1761, 0.0), (1762, 0.007610104245749322), (1763, 0.026827479406604123), (1764, 0.014792086349466296), (1765, 0.003754267502664716), (1766, 0.037086995311351866), (1767, 0.0034832699974084525), (1768, 0.008756687914850148), (1769, 0.0036630901176752293), (1770, 0.0), (1771, 0.003540903838509568), (1772, 0.00740356307656877), (1773, 0.0), (1774, 0.0), (1775, 0.030298106869550718), (1776, 0.0), (1777, 0.0037259051911190336), (1778, 0.038501420217569395), (1779, 0.0), (1780, 0.0), (1781, 0.017603370397311805), (1782, 0.007793304451155253), (1783, 0.003411731743156248), (1784, 0.011021228710801537), (1785, 0.0034310035407169362), (1786, 0.00399649012338901), (1787, 0.01955709028381048), (1788, 0.035503974838630735), (1789, 0.0), (1790, 0.004313541254543012), (1791, 0.0347987506835557), (1792, 0.004257783979205464), (1793, 0.007997552948112243), (1794, 0.011095890501144177), (1795, 0.0), (1796, 0.0), (1797, 0.003178136548109538), (1798, 0.009143770752708126), (1799, 0.050481272412002266), (1800, 0.0), (1801, 0.0), (1802, 0.007268227562367156), (1803, 0.007920890874218895), (1804, 0.012192999285119788), (1805, 0.0), (1806, 0.03563684298330496), (1807, 0.008350811183084297), (1808, 0.007632639084111135), (1809, 0.007692850827745778), (1810, 0.0), (1811, 0.020673358068258006), (1812, 0.018177529322253257), (1813, 0.0), (1814, 0.026926647497141423), (1815, 0.0), (1816, 0.05934434999640306), (1817, 0.015299727483364578), (1818, 0.019577293980041943), (1819, 0.0), (1820, 0.0), (1821, 0.02577551127251943), (1822, 0.0038233812432030578), (1823, 0.01580905993735614), (1824, 0.011404154092201274), (1825, 0.016284170059207653), (1826, 0.0), (1827, 0.0032771773450210456), (1828, 0.007370917397928951), (1829, 0.03168383305055053), (1830, 0.0032144146520188266), (1831, 0.0), (1832, 0.0), (1833, 0.0031075785938023104), (1834, 0.0036050974541869236), (1835, 0.0), (1836, 0.004022265055593254), (1837, 0.003586000028975161), (1838, 0.0), (1839, 0.0034585433899413606), (1840, 0.0), (1841, 0.030610990528615732), (1842, 0.0035515615304865266), (1843, 0.021339463525650314), (1844, 0.026974422728018376), (1845, 0.00719429809335264), (1846, 0.018370141703926136), (1847, 0.003747682946099585), (1848, 0.003910225618582303), (1849, 0.0035713319667397157), (1850, 0.010460357526601812), (1851, 0.012643127383332613), (1852, 0.00838643394046284), (1853, 0.030741441409722705), (1854, 0.0), (1855, 0.003390645598484656), (1856, 0.003865960445901833), (1857, 0.008391465002717627), (1858, 0.009546877442591398), (1859, 0.008971184638140282), (1860, 0.0), (1861, 0.03563798877870598), (1862, 0.0), (1863, 0.0), (1864, 0.0), (1865, 0.0), (1866, 0.0), (1867, 0.0035791807292240153), (1868, 0.006789445550403957), (1869, 0.0), (1870, 0.0032455054420507767), (1871, 0.002887627512998865), (1872, 0.0), (1873, 0.0), (1874, 0.0), (1875, 0.007834878488691258), (1876, 0.0), (1877, 0.011609859667771642), (1878, 0.0034454249945836696), (1879, 0.0036883233272268496), (1880, 0.0035330575254640777), (1881, 0.012721249700129524), (1882, 0.0), (1883, 0.02880072864538303), (1884, 0.0), (1885, 0.0), (1886, 0.006768747286555607), (1887, 0.009662738564644429), (1888, 0.015501082583956882), (1889, 0.0036780202045034534), (1890, 0.0), (1891, 0.0), (1892, 0.0), (1893, 0.01665215648244355), (1894, 0.0), (1895, 0.011464845958578036), (1896, 0.009044768544992997), (1897, 0.0), (1898, 0.0033902180346652004), (1899, 0.0033818856677521043), (1900, 0.0034924865493619604), (1901, 0.0), (1902, 0.023631163204337908), (1903, 0.011365174247361264), (1904, 0.0), (1905, 0.003952367363722073), (1906, 0.0036422077637513093), (1907, 0.013061083398714233), (1908, 0.00857231560765875), (1909, 0.0), (1910, 0.007219544456045131), (1911, 0.0037710390503125062), (1912, 0.003476304796305662), (1913, 0.0035843432589196767), (1914, 0.011418934275918497), (1915, 0.01962835328374665), (1916, 0.0), (1917, 0.003727816631753767), (1918, 0.0), (1919, 0.020382673816328092), (1920, 0.0), (1921, 0.0), (1922, 0.0), (1923, 0.004026596705578899), (1924, 0.0), (1925, 0.02230288899534742), (1926, 0.0038582036368077317), (1927, 0.01855410948266617), (1928, 0.01373398679807543), (1929, 0.023325737470606726), (1930, 0.0), (1931, 0.0), (1932, 0.0), (1933, 0.0), (1934, 0.0), (1935, 0.014335332841691376), (1936, 0.0), (1937, 0.0), (1938, 0.0030313628160671844), (1939, 0.0048127254781285215), (1940, 0.0), (1941, 0.004348868317110524), (1942, 0.0), (1943, 0.003151712982835933), (1944, 0.003015638117758457), (1945, 0.0), (1946, 0.0), (1947, 0.004206282204703542), (1948, 0.01751843657193517), (1949, 0.003762430664859672), (1950, 0.006947273457966246), (1951, 0.047652314352357415), (1952, 0.009177862054218139), (1953, 0.0), (1954, 0.003206937089827045), (1955, 0.0038280646271308524), (1956, 0.0036718465055763545), (1957, 0.017391529152795012), (1958, 0.01921465325060035), (1959, 0.02044414436467266), (1960, 0.0), (1961, 0.012513650768648405), (1962, 0.0), (1963, 0.0029322060044779832), (1964, 0.015414486781571245), (1965, 0.0037888949282794604), (1966, 0.0), (1967, 0.0), (1968, 0.009995910823305464), (1969, 0.008216532059970848), (1970, 0.0), (1971, 0.025000733428735676), (1972, 0.0), (1973, 0.011428689670751172), (1974, 0.0033154856360242744), (1975, 0.0), (1976, 0.0), (1977, 0.0), (1978, 0.003238483705564528), (1979, 0.0), (1980, 0.02929509947540834), (1981, 0.01012872986800029), (1982, 0.026703223985927803), (1983, 0.0), (1984, 0.01118444824402597), (1985, 0.00862074707754191), (1986, 0.012002409320611408), (1987, 0.04655485261919511), (1988, 0.008084224013519008), (1989, 0.0), (1990, 0.0077633492559738525), (1991, 0.0), (1992, 0.0033920975043455885), (1993, 0.0), (1994, 0.01080939125985402), (1995, 0.0), (1996, 0.03352945126582941), (1997, 0.01850028610565028), (1998, 0.0), (1999, 0.004104742936523503), (2000, 0.020369300561081664), (2001, 0.003119882281203853), (2002, 0.00379445800499489), (2003, 0.01178255126568641), (2004, 0.0), (2005, 0.018582415623292), (2006, 0.028001196255776635), (2007, 0.003308865661395446), (2008, 0.0), (2009, 0.004300805529579718), (2010, 0.0), (2011, 0.0), (2012, 0.01399156436147141), (2013, 0.013598757115489512), (2014, 0.05169502225610634), (2015, 0.008899925368921363), (2016, 0.00883571158494253), (2017, 0.04944677591359997), (2018, 0.002955283578218245), (2019, 0.003598875079056277), (2020, 0.032168953330376004), (2021, 0.003924107976210072), (2022, 0.013534283860882476), (2023, 0.00802104591251411), (2024, 0.0), (2025, 0.0029916813656505397), (2026, 0.003619828443288121), (2027, 0.008216886830780359), (2028, 0.0), (2029, 0.008307261679812583), (2030, 0.0), (2031, 0.023088307928126457), (2032, 0.1390063088145678), (2033, 0.0033025149170841524), (2034, 0.0), (2035, 0.0), (2036, 0.01878468326891375), (2037, 0.009299460515063472), (2038, 0.0), (2039, 0.0), (2040, 0.0), (2041, 0.003678070362790379), (2042, 0.003777220882263933), (2043, 0.026397477803964526), (2044, 0.0), (2045, 0.008677841697270136), (2046, 0.012130200206028535), (2047, 0.015023192180685296), (2048, 0.0), (2049, 0.003998176955207774), (2050, 0.0034538297759786674), (2051, 0.0), (2052, 0.003381894929519281), (2053, 0.008787746696968288), (2054, 0.0), (2055, 0.0077128935546207445), (2056, 0.03178245720494163), (2057, 0.0), (2058, 0.018686177143054573), (2059, 0.003162526426256046), (2060, 0.032315887004289695), (2061, 0.017250497601234344), (2062, 0.016476846650521758), (2063, 0.0032866941552379993), (2064, 0.03586731429983908), (2065, 0.015326201734074809), (2066, 0.0), (2067, 0.0), (2068, 0.003455346192683036), (2069, 0.030758733772094368), (2070, 0.007288784699357453), (2071, 0.019184960316948902), (2072, 0.008821117183096742), (2073, 0.0), (2074, 0.015035254627355606), (2075, 0.0), (2076, 0.03493408666683593), (2077, 0.004427498927292397), (2078, 0.00677670079984858), (2079, 0.013877450037509183), (2080, 0.0), (2081, 0.0036259400113159692), (2082, 0.003934929638732327), (2083, 0.0), (2084, 0.0), (2085, 0.0), (2086, 0.013020368635296499), (2087, 0.0035420687130650478), (2088, 0.0), (2089, 0.0), (2090, 0.0037814540170083245), (2091, 0.0), (2092, 0.0037326850379728973), (2093, 0.0033516192784222246), (2094, 0.008053543408086238), (2095, 0.0), (2096, 0.0), (2097, 0.0), (2098, 0.0031119154046769537), (2099, 0.0033911895115961168), (2100, 0.0), (2101, 0.003974870677886904), (2102, 0.04754878172646889), (2103, 0.008285900896526149), (2104, 0.03729115693300772), (2105, 0.0), (2106, 0.0074953136700439), (2107, 0.003456431466545148), (2108, 0.004035320533454283), (2109, 0.008610492315693765), (2110, 0.0), (2111, 0.04405077637673265), (2112, 0.009416763106383187), (2113, 0.03392600298102137), (2114, 0.04092492086665241), (2115, 0.0), (2116, 0.003916424200749439), (2117, 0.0), (2118, 0.010586522782405067), (2119, 0.0), (2120, 0.0), (2121, 0.01795512700681028), (2122, 0.003655732400900472), (2123, 0.0), (2124, 0.00388919108935671), (2125, 0.0033171873015596432), (2126, 0.008799060523469081), (2127, 0.007139298957207241), (2128, 0.011926752723107911), (2129, 0.0), (2130, 0.0), (2131, 0.01172503374072095), (2132, 0.0), (2133, 0.027486162260481537), (2134, 0.0), (2135, 0.017149083968873054), (2136, 0.0), (2137, 0.005126632475585817), (2138, 0.004122677467393303), (2139, 0.00799435305554822), (2140, 0.03105623348504923), (2141, 0.0), (2142, 0.024318201365302158), (2143, 0.06721363772047942), (2144, 0.0), (2145, 0.021588957244294098), (2146, 0.003097600058697843), (2147, 0.12186374278728719), (2148, 0.007520488791477627), (2149, 0.0), (2150, 0.0035156115866787547), (2151, 0.03973116220409434), (2152, 0.0), (2153, 0.003648956572363118), (2154, 0.0), (2155, 0.0), (2156, 0.010827090024300066), (2157, 0.00305380012617686), (2158, 0.00423634689678042), (2159, 0.0), (2160, 0.019419785597974085), (2161, 0.026003498785964457), (2162, 0.0), (2163, 0.0), (2164, 0.004059964849257374), (2165, 0.0), (2166, 0.030763620549660538), (2167, 0.01987700350962388), (2168, 0.0031092196257754548), (2169, 0.008587901174331712), (2170, 0.0033883532924618293), (2171, 0.0), (2172, 0.0), (2173, 0.0), (2174, 0.0), (2175, 0.023581618858044516), (2176, 0.0), (2177, 0.01467466535395854), (2178, 0.008297478273238026), (2179, 0.003406147615084423), (2180, 0.045984885155471514), (2181, 0.0), (2182, 0.0), (2183, 0.003359665325574215), (2184, 0.0), (2185, 0.0032508055724666998), (2186, 0.0041129047301264625), (2187, 0.004172302135210667), (2188, 0.0), (2189, 0.04891968068684179), (2190, 0.0), (2191, 0.0), (2192, 0.032887777360531195), (2193, 0.012252449034346104), (2194, 0.0037576657463941404), (2195, 0.008491587888104614), (2196, 0.0), (2197, 0.02475598298062979), (2198, 0.008519938726394083), (2199, 0.004723530082089773), (2200, 0.049883296759000356), (2201, 0.0033821184986434303), (2202, 0.03430347038194958), (2203, 0.0033165957416681265), (2204, 0.010291916605466184), (2205, 0.0), (2206, 0.0), (2207, 0.0033161362816633215), (2208, 0.10077952615676625), (2209, 0.004031319803480922), (2210, 0.008655082030457095), (2211, 0.010199748988643153), (2212, 0.0), (2213, 0.04556251767889595), (2214, 0.0), (2215, 0.01946250358590443), (2216, 0.0), (2217, 0.003800800136070725), (2218, 0.013517605148493567), (2219, 0.03970033168442505), (2220, 0.0), (2221, 0.01419166553726183), (2222, 0.012548288504183339), (2223, 0.004119326473148771), (2224, 0.016211572719604793), (2225, 0.0033191546013034046), (2226, 0.0), (2227, 0.003009195743064634), (2228, 0.04519593014354366), (2229, 0.0), (2230, 0.0), (2231, 0.0), (2232, 0.0), (2233, 0.009367975970432397), (2234, 0.007487068192983537), (2235, 0.0), (2236, 0.0187605820646615), (2237, 0.014950392100458275), (2238, 0.0), (2239, 0.024925771848429822), (2240, 0.0031833607008703337), (2241, 0.012621722900687773), (2242, 0.003477888102775761), (2243, 0.0), (2244, 0.0), (2245, 0.00822960894047889), (2246, 0.008503994745388797), (2247, 0.0), (2248, 0.0), (2249, 0.0038014038189021007), (2250, 0.008501777150559447), (2251, 0.0), (2252, 0.018339030037630245), (2253, 0.0), (2254, 0.0), (2255, 0.0), (2256, 0.0), (2257, 0.0), (2258, 0.058035196326526574), (2259, 0.008853566083659493), (2260, 0.0038781672957827543), (2261, 0.004220825433315852), (2262, 0.01094499686702464), (2263, 0.009131195579399174), (2264, 0.003220266955771463), (2265, 0.0032883065572235108), (2266, 0.0), (2267, 0.0), (2268, 0.17110348422376467), (2269, 0.0), (2270, 0.0031342426422619574), (2271, 0.0034349657390054748), (2272, 0.0033679675930517877), (2273, 0.0), (2274, 0.030076090935314017), (2275, 0.0), (2276, 0.0), (2277, 0.04080938553195383), (2278, 0.008635930164097248), (2279, 0.0), (2280, 0.0035908417390336247), (2281, 0.004807344797298781), (2282, 0.0046611864433489325), (2283, 0.009100838365905407), (2284, 0.003648569098472337), (2285, 0.015363368963749149), (2286, 0.04013070282993377), (2287, 0.01419950111096548), (2288, 0.0), (2289, 0.0), (2290, 0.00370463941704277), (2291, 0.007297320793738689), (2292, 0.022872608267215024), (2293, 0.022707345836231425), (2294, 0.007367129544387332), (2295, 0.0), (2296, 0.010205080678715199), (2297, 0.003562979089751858), (2298, 0.0035856185943099563), (2299, 0.0), (2300, 0.0), (2301, 0.015563945570994078), (2302, 0.004128357845920142), (2303, 0.011431664771544836), (2304, 0.008099922149807006), (2305, 0.05721383776136381), (2306, 0.0), (2307, 0.0037141090023678023), (2308, 0.004548989677768355), (2309, 0.003468127560168567), (2310, 0.0), (2311, 0.011440628420833761), (2312, 0.005254841888475133), (2313, 0.0), (2314, 0.0), (2315, 0.0033605980414093363), (2316, 0.0), (2317, 0.007898934582233712), (2318, 0.014047549380079573), (2319, 0.0), (2320, 0.024037987115064517), (2321, 0.0), (2322, 0.01182692380007735), (2323, 0.0), (2324, 0.0), (2325, 0.0037670720214989686), (2326, 0.006682070383216541), (2327, 0.0392570677986809), (2328, 0.0), (2329, 0.011935390722337099), (2330, 0.009048402373531791), (2331, 0.0029757375395612316), (2332, 0.0), (2333, 0.004306069754819651), (2334, 0.008770016825735815), (2335, 0.028545514150984483), (2336, 0.0036063812657019384), (2337, 0.0), (2338, 0.015393156252133344), (2339, 0.013806554047678847), (2340, 0.0036376373770110044), (2341, 0.0), (2342, 0.0), (2343, 0.0), (2344, 0.0), (2345, 0.0), (2346, 0.03304319387139015), (2347, 0.0), (2348, 0.0034217605094389557), (2349, 0.0), (2350, 0.0), (2351, 0.014522483983213156), (2352, 0.0), (2353, 0.0037287622130387807), (2354, 0.0), (2355, 0.0), (2356, 0.0), (2357, 0.004119719657688956), (2358, 0.043166684439832695), (2359, 0.024414318068257643), (2360, 0.028877189896278084), (2361, 0.0), (2362, 0.0), (2363, 0.01502469556975768), (2364, 0.002923019019825432), (2365, 0.0), (2366, 0.0032172500709259054), (2367, 0.019786654414085197), (2368, 0.004324930754159666), (2369, 0.0), (2370, 0.01966590676203724), (2371, 0.0039328277650634595), (2372, 0.0), (2373, 0.0030211184829205383), (2374, 0.0), (2375, 0.003984113516297568), (2376, 0.04273809753424669), (2377, 0.009647442891824388), (2378, 0.0), (2379, 0.0052373024930167725), (2380, 0.0038006049426947664), (2381, 0.0040461261544251), (2382, 0.0), (2383, 0.0), (2384, 0.004053578170953162), (2385, 0.0038215386427330193), (2386, 0.0), (2387, 0.0036165942184713494), (2388, 0.0), (2389, 0.0032356633819027795), (2390, 0.0), (2391, 0.003874321608867805), (2392, 0.0), (2393, 0.020113741672858253), (2394, 0.0038178689125260806), (2395, 0.005021515471742797), (2396, 0.0036704528102262904), (2397, 0.003690358397899175), (2398, 0.006431612560181127), (2399, 0.0033509169615177294), (2400, 0.0), (2401, 0.0), (2402, 0.029635073633931638), (2403, 0.05244644486404251), (2404, 0.004927253279814875), (2405, 0.0), (2406, 0.0), (2407, 0.0), (2408, 0.0), (2409, 0.011564873666448525), (2410, 0.003982771421593047), (2411, 0.004098912567745064), (2412, 0.022203243636518023), (2413, 0.0), (2414, 0.008593084211616909), (2415, 0.0), (2416, 0.008401064075669994), (2417, 0.0), (2418, 0.009066726493298727), (2419, 0.0), (2420, 0.0040618619457098385), (2421, 0.008682150428960042), (2422, 0.020073842008036774), (2423, 0.0045650399606256085), (2424, 0.0032905369875741806), (2425, 0.0), (2426, 0.0032699671359075954), (2427, 0.019782525085529485), (2428, 0.0), (2429, 0.02690546193332049), (2430, 0.04763119324175286), (2431, 0.012489170046818437), (2432, 0.008233040944391774), (2433, 0.0031733321259469986), (2434, 0.004336008558399862), (2435, 0.0035912798102979895), (2436, 0.013557259337351357), (2437, 0.0), (2438, 0.0), (2439, 0.002976183439151106), (2440, 0.003691583518867629), (2441, 0.002933696918353281), (2442, 0.0), (2443, 0.005586033986571003), (2444, 0.012382187848155554), (2445, 0.003339821517346601), (2446, 0.011272086322834982), (2447, 0.03234557911936822), (2448, 0.0), (2449, 0.003651641087863464), (2450, 0.0033671011783080983), (2451, 0.0), (2452, 0.0039777364417549884), (2453, 0.0), (2454, 0.0), (2455, 0.004602817088890919), (2456, 0.10975639237500076), (2457, 0.0), (2458, 0.013241520566210127), (2459, 0.0), (2460, 0.003159750703382662), (2461, 0.003520925318249462), (2462, 0.0), (2463, 0.008407944373343605), (2464, 0.003988967803016354), (2465, 0.003489045051754991), (2466, 0.0), (2467, 0.0035026073200571297), (2468, 0.0042432133995797), (2469, 0.0), (2470, 0.009622411599387483), (2471, 0.0), (2472, 0.0036400795484782286), (2473, 0.017911790549560585), (2474, 0.019587968163114283), (2475, 0.0), (2476, 0.0), (2477, 0.0), (2478, 0.028100305323832567), (2479, 0.004042695049818314), (2480, 0.00844871877017351), (2481, 0.007087784429558831), (2482, 0.007842833874182971), (2483, 0.004781921473313245), (2484, 0.0), (2485, 0.02856498089589154), (2486, 0.013852538137938809), (2487, 0.012298952687777191), (2488, 0.0044241010179027545), (2489, 0.0), (2490, 0.00521805571911456), (2491, 0.0400283931348449), (2492, 0.020787808797619524), (2493, 0.0040104014914018925), (2494, 0.013114292387159384), (2495, 0.0036328134352504454), (2496, 0.0), (2497, 0.011206972612851682), (2498, 0.01677300111702155), (2499, 0.007705442759090513), (2500, 0.005077718461327375), (2501, 0.008595979208754441), (2502, 0.0), (2503, 0.008446377402046908), (2504, 0.011854656924027549), (2505, 0.0), (2506, 0.0), (2507, 0.00394035368855729), (2508, 0.002998010906968395), (2509, 0.017000175934122567), (2510, 0.033456653406420206), (2511, 0.01258878154103356), (2512, 0.003603101117383089), (2513, 0.023699118206594316), (2514, 0.01091927452799408), (2515, 0.004511097210188737), (2516, 0.0259797733530483), (2517, 0.0), (2518, 0.04660651833735799), (2519, 0.0037368825510815523), (2520, 0.0), (2521, 0.0), (2522, 0.0), (2523, 0.006283385051674474), (2524, 0.0280813608041798), (2525, 0.00802718442883325), (2526, 0.006976197715762997), (2527, 0.0), (2528, 0.0), (2529, 0.0052774853190520835), (2530, 0.0), (2531, 0.012672592050891149), (2532, 0.009616517895095931), (2533, 0.0), (2534, 0.020732390360575382), (2535, 0.004037315929455898), (2536, 0.004749622045502799), (2537, 0.004969967459744905), (2538, 0.0), (2539, 0.0031515204294745), (2540, 0.0), (2541, 0.0), (2542, 0.003283809256053759), (2543, 0.004549873428238212), (2544, 0.0), (2545, 0.0), (2546, 0.012639156907046005), (2547, 0.14673051754471836), (2548, 0.03731062639252267), (2549, 0.0), (2550, 0.025483643193933782), (2551, 0.0036905933650333354), (2552, 0.007959260101217136), (2553, 0.1000262274149178), (2554, 0.003657097719972115), (2555, 0.0), (2556, 0.0), (2557, 0.03623644647746189), (2558, 0.0), (2559, 0.0), (2560, 0.009771503695686778), (2561, 0.003798193252504599), (2562, 0.012826731850041271), (2563, 0.0070379252625559895), (2564, 0.04064162700973175), (2565, 0.0), (2566, 0.007661575399145218), (2567, 0.0), (2568, 0.0335930378087393), (2569, 0.003584110753572162), (2570, 0.13742294044131254), (2571, 0.008233471893167225), (2572, 0.0), (2573, 0.023795956514438995), (2574, 0.0), (2575, 0.003973339635516387), (2576, 0.0), (2577, 0.0), (2578, 0.027226173753498804), (2579, 0.0), (2580, 0.0), (2581, 0.015212550960025283), (2582, 0.021107752985977356), (2583, 0.0), (2584, 0.057054498271724235), (2585, 0.0), (2586, 0.00367608153800074), (2587, 0.014000616689394495), (2588, 0.0038847149956431157), (2589, 0.03442738036166973), (2590, 0.0033751412934536684), (2591, 0.0032557465258491684), (2592, 0.004011561162763235), (2593, 0.0), (2594, 0.00339870898783914), (2595, 0.0), (2596, 0.0), (2597, 0.0060217286473949975), (2598, 0.0), (2599, 0.0), (2600, 0.0045718997100820825), (2601, 0.00379283309215398), (2602, 0.0), (2603, 0.0345507897091041), (2604, 0.003950579973161023), (2605, 0.003789074099122396), (2606, 0.0), (2607, 0.0), (2608, 0.01382493590246912), (2609, 0.00911313636678052), (2610, 0.016663162510778796), (2611, 0.007310258228959886), (2612, 0.00822781158272154), (2613, 0.0), (2614, 0.0), (2615, 0.05436893907333755), (2616, 0.020201416521898843), (2617, 0.0), (2618, 0.0), (2619, 0.008722144676671172), (2620, 0.0034632832587538835), (2621, 0.0), (2622, 0.03387287592920296), (2623, 0.0), (2624, 0.0), (2625, 0.02943482345030851), (2626, 0.004001613570080901), (2627, 0.007184590590419628), (2628, 0.0), (2629, 0.0), (2630, 0.0), (2631, 0.011508020709631812), (2632, 0.016620624928550078), (2633, 0.012763028128519123), (2634, 0.0), (2635, 0.004241278084847452), (2636, 0.00639499736441737), (2637, 0.013027645599102602), (2638, 0.009668579026904985), (2639, 0.0035755222306599046), (2640, 0.008909572090298537), (2641, 0.027820462254475906), (2642, 0.0117092959967331), (2643, 0.0), (2644, 0.003449003247181125), (2645, 0.01097866365170792), (2646, 0.01966307741694876), (2647, 0.008619745685919753), (2648, 0.0037390123367579925), (2649, 0.0), (2650, 0.0), (2651, 0.0), (2652, 0.0), (2653, 0.031707786402601947), (2654, 0.024925992068520128), (2655, 0.0), (2656, 0.02609416630212072), (2657, 0.0052995208844285316), (2658, 0.0), (2659, 0.00523018017997706), (2660, 0.027805117422000102), (2661, 0.024187423612394378), (2662, 0.00799997342202013), (2663, 0.007084292804501704), (2664, 0.0), (2665, 0.016999463346103135), (2666, 0.03788202888614868), (2667, 0.004940002623753055), (2668, 0.017530419272880446), (2669, 0.005358365401114687), (2670, 0.031073999551137734), (2671, 0.0026645036347360852), (2672, 0.013655184560306299), (2673, 0.011322585944181915), (2674, 0.0), (2675, 0.012715373635395455), (2676, 0.004167417670938581), (2677, 0.0035323849362426437), (2678, 0.10146058421874812), (2679, 0.0), (2680, 0.046658303050169214), (2681, 0.10229062521189632), (2682, 0.007949300916052579), (2683, 0.02112831593626135), (2684, 0.1271801741963043), (2685, 0.00369105965664652), (2686, 0.0), (2687, 0.0035731159810171733), (2688, 0.0031079583642766475), (2689, 0.00903308666739337), (2690, 0.003458428880572774), (2691, 0.008877323581842372), (2692, 0.0), (2693, 0.05975128901960874), (2694, 0.0), (2695, 0.0), (2696, 0.004223544840378765), (2697, 0.0), (2698, 0.008292882985846824), (2699, 0.0033929664076899992), (2700, 0.0), (2701, 0.005869212194739285), (2702, 0.004136436251517485), (2703, 0.005631288376579454), (2704, 0.05132040114189882), (2705, 0.0), (2706, 0.011538932185822193), (2707, 0.0), (2708, 0.0), (2709, 0.0036292931025359403), (2710, 0.0), (2711, 0.0), (2712, 0.012999612306496303), (2713, 0.008350291425978314), (2714, 0.0), (2715, 0.004769187790105501), (2716, 0.056855823198670656), (2717, 0.0), (2718, 0.0), (2719, 0.009028613762082032), (2720, 0.014229254989869863), (2721, 0.003149167510919088), (2722, 0.005095342098165999), (2723, 0.020184854187924022), (2724, 0.01514465474083972), (2725, 0.009108414261336583), (2726, 0.007478357301526639), (2727, 0.004360956475488335), (2728, 0.003310788008636542), (2729, 0.02598023362365588), (2730, 0.01491728090873545), (2731, 0.004860520291564596), (2732, 0.024819438916189047), (2733, 0.0), (2734, 0.02460493893129459), (2735, 0.0), (2736, 0.0), (2737, 0.006062251724207725), (2738, 0.014323123139143197), (2739, 0.00934277515678821), (2740, 0.009600426689696897), (2741, 0.0032652577675672738), (2742, 0.0), (2743, 0.0), (2744, 0.036200759963850575), (2745, 0.0), (2746, 0.0036854054707693928), (2747, 0.006280548086110384), (2748, 0.003940131122349259), (2749, 0.007756380559816421), (2750, 0.0), (2751, 0.0), (2752, 0.0), (2753, 0.0), (2754, 0.0038082390271202827), (2755, 0.012854300455755672), (2756, 0.00436342740457393), (2757, 0.0), (2758, 0.0030928105587781055), (2759, 0.0), (2760, 0.0), (2761, 0.007326802320083788), (2762, 0.0), (2763, 0.02019675992115954), (2764, 0.005159847902920743), (2765, 0.016172954801329274), (2766, 0.013549284263636517), (2767, 0.02438933634802074), (2768, 0.0), (2769, 0.0042891637931090024), (2770, 0.0029989577723993797), (2771, 0.024660128043345705), (2772, 0.0), (2773, 0.0), (2774, 0.009709818932155185), (2775, 0.0), (2776, 0.030259891640441225), (2777, 0.007876115106039137), (2778, 0.0), (2779, 0.0), (2780, 0.0), (2781, 0.0044090165228218734), (2782, 0.0040400591838240275), (2783, 0.0), (2784, 0.008725424772618387), (2785, 0.00975471122499153), (2786, 0.0038827362255310343), (2787, 0.0034435643197519706), (2788, 0.029942851113705527), (2789, 0.00708686440442337), (2790, 0.008973003110946894), (2791, 0.015605636694747002), (2792, 0.009028513484266995), (2793, 0.017143544502674732), (2794, 0.0037611844257394163), (2795, 0.0), (2796, 0.028043945485273357), (2797, 0.004434589343195952), (2798, 0.15123643628998296), (2799, 0.004061201759727604), (2800, 0.0), (2801, 0.0073249141585648905), (2802, 0.0), (2803, 0.026433718333223815), (2804, 0.003635427636450688), (2805, 0.010610600432320453), (2806, 0.0), (2807, 0.011941512415838382), (2808, 0.03863991115595952), (2809, 0.028783772817583757), (2810, 0.0040648134953417065), (2811, 0.03578719342746821), (2812, 0.011429262202576377), (2813, 0.07134825762587109), (2814, 0.02703131512409621), (2815, 0.0), (2816, 0.012582128987660073), (2817, 0.012977537253018824), (2818, 0.017006110873562554), (2819, 0.0), (2820, 0.0031758151022671767), (2821, 0.0), (2822, 0.003130969245448216), (2823, 0.0068652007181638055), (2824, 0.0), (2825, 0.0035838640183160284), (2826, 0.0), (2827, 0.0), (2828, 0.0), (2829, 0.011655973848526785), (2830, 0.0), (2831, 0.0), (2832, 0.004749964490969363), (2833, 0.0032346912300801377), (2834, 0.05110830422500688), (2835, 0.0), (2836, 0.003594024205689477), (2837, 0.0), (2838, 0.004641672478154218), (2839, 0.0), (2840, 0.009504786649403085), (2841, 0.014258590645709791), (2842, 0.007359453773137761), (2843, 0.004025080408747069), (2844, 0.028125017041591108), (2845, 0.0), (2846, 0.028651651826768734), (2847, 0.0), (2848, 0.0), (2849, 0.0), (2850, 0.0), (2851, 0.0), (2852, 0.008118342378831083), (2853, 0.0), (2854, 0.00945487923130251), (2855, 0.010298060264871357), (2856, 0.003725665094718655), (2857, 0.004489252175283319), (2858, 0.005145643506626647), (2859, 0.008081077648341645), (2860, 0.0), (2861, 0.0), (2862, 0.01586456744069388), (2863, 0.0), (2864, 0.021405980616589604), (2865, 0.0), (2866, 0.003372629515988259), (2867, 0.02662707108459862), (2868, 0.0), (2869, 0.0), (2870, 0.0), (2871, 0.0), (2872, 0.004179157043230552), (2873, 0.0138116972035409), (2874, 0.011287313173706433), (2875, 0.004610399505658434), (2876, 0.0030241750797044445), (2877, 0.0030423996774468593), (2878, 0.03597266147018436), (2879, 0.0), (2880, 0.0039016360886402726), (2881, 0.0), (2882, 0.003936082188287947), (2883, 0.0), (2884, 0.004182289647499569), (2885, 0.0), (2886, 0.0), (2887, 0.0), (2888, 0.0), (2889, 0.0), (2890, 0.0), (2891, 0.005128070823994263), (2892, 0.008076579014031252), (2893, 0.008222882075804681), (2894, 0.0), (2895, 0.0), (2896, 0.0036844194540143317), (2897, 0.011619579354017497), (2898, 0.0), (2899, 0.008029743902575508), (2900, 0.008532574615726431), (2901, 0.0), (2902, 0.0), (2903, 0.0), (2904, 0.0), (2905, 0.0), (2906, 0.00750296817776973), (2907, 0.0), (2908, 0.0), (2909, 0.0), (2910, 0.008322252256679737), (2911, 0.00885108876264089), (2912, 0.0035261858702409863), (2913, 0.002975894218138121), (2914, 0.004126742872816401), (2915, 0.0), (2916, 0.0), (2917, 0.0), (2918, 0.0), (2919, 0.0), (2920, 0.00782267840889655), (2921, 0.0), (2922, 0.0049249939290611795), (2923, 0.0), (2924, 0.004204195794187179), (2925, 0.002912426580177116), (2926, 0.0037923259160125376), (2927, 0.0), (2928, 0.004689032263374438), (2929, 0.007609859773884912), (2930, 0.003990698218298704), (2931, 0.015450357317236808), (2932, 0.0), (2933, 0.010312394742213776), (2934, 0.0), (2935, 0.0), (2936, 0.0), (2937, 0.0), (2938, 0.007974660500955105), (2939, 0.004519972637989199), (2940, 0.012998606584102169), (2941, 0.004660584718705737), (2942, 0.007363186511861637), (2943, 0.0), (2944, 0.01766032843941289), (2945, 0.003553990580447042), (2946, 0.0), (2947, 0.0), (2948, 0.004715572290724467), (2949, 0.0), (2950, 0.0), (2951, 0.05886785679630663), (2952, 0.0), (2953, 0.0), (2954, 0.011105592337601318), (2955, 0.0), (2956, 0.0), (2957, 0.0), (2958, 0.0), (2959, 0.0), (2960, 0.029786676936709753), (2961, 0.0), (2962, 0.019746979486729852), (2963, 0.040120384963714076), (2964, 0.009122579029777422), (2965, 0.0), (2966, 0.0), (2967, 0.0), (2968, 0.003960774358811073), (2969, 0.00705389604328488), (2970, 0.0038714084946981967), (2971, 0.0031636671283260982), (2972, 0.0034138575551162474), (2973, 0.007097799477373015), (2974, 0.0), (2975, 0.014949761638683673), (2976, 0.003254982488239286), (2977, 0.008725189019000745), (2978, 0.0039532104943801015), (2979, 0.003946903026744658), (2980, 0.04914405404520477), (2981, 0.014566704968616484), (2982, 0.00413022851803209), (2983, 0.004571359748846825), (2984, 0.0), (2985, 0.014206207157367354), (2986, 0.00429092899405334), (2987, 0.0), (2988, 0.0), (2989, 0.0), (2990, 0.004907187778389215), (2991, 0.0), (2992, 0.011337914392745613), (2993, 0.0), (2994, 0.003657446844115229), (2995, 0.042693949242474695), (2996, 0.01878415066446694), (2997, 0.0), (2998, 0.0), (2999, 0.0036036538712492503), (3000, 0.0), (3001, 0.0), (3002, 0.0), (3003, 0.00402760181801382), (3004, 0.0), (3005, 0.0), (3006, 0.0), (3007, 0.0), (3008, 0.0), (3009, 0.005076899218942025), (3010, 0.016455354200458756), (3011, 0.008237324379786835), (3012, 0.0), (3013, 0.0), (3014, 0.0), (3015, 0.0), (3016, 0.007473216616079209), (3017, 0.004305504390814978), (3018, 0.012701882856514562), (3019, 0.0), (3020, 0.0044023343623314755), (3021, 0.0), (3022, 0.05669928660011421), (3023, 0.0), (3024, 0.0), (3025, 0.0), (3026, 0.004012276910982949), (3027, 0.015354721804263111), (3028, 0.03648860620147279), (3029, 0.0), (3030, 0.0), (3031, 0.0), (3032, 0.0), (3033, 0.012140225037715469), (3034, 0.0036490044204313945), (3035, 0.0), (3036, 0.0), (3037, 0.00382114588626601), (3038, 0.0037897844345129304), (3039, 0.013728557682319426), (3040, 0.005061287225196003), (3041, 0.003833311516094592), (3042, 0.04445359363235707), (3043, 0.0), (3044, 0.003964648804365306), (3045, 0.0), (3046, 0.008359873716213334), (3047, 0.0), (3048, 0.0), (3049, 0.0), (3050, 0.0033200122416664687), (3051, 0.0), (3052, 0.0), (3053, 0.008159020135158717), (3054, 0.004356090928238907), (3055, 0.0), (3056, 0.0), (3057, 0.008001799164649387), (3058, 0.0), (3059, 0.0), (3060, 0.0036950732716564466), (3061, 0.003805839198502091), (3062, 0.0040175281013865565), (3063, 0.0032071335795430325), (3064, 0.0), (3065, 0.01597745304316549), (3066, 0.011858945763466574), (3067, 0.0), (3068, 0.025823452714045316), (3069, 0.0), (3070, 0.0032424943826087787), (3071, 0.011373698203520806), (3072, 0.0), (3073, 0.02042387313676819), (3074, 0.004457676694130417), (3075, 0.0), (3076, 0.0), (3077, 0.006862502119436931), (3078, 0.004654711378748116), (3079, 0.0), (3080, 0.004037276809246743), (3081, 0.0), (3082, 0.003223376378844302), (3083, 0.01129475322868083), (3084, 0.0038433885243296427), (3085, 0.0), (3086, 0.03415031219297332), (3087, 0.004568974253148297), (3088, 0.005386741837552301), (3089, 0.0044275768065516275), (3090, 0.003567423135489928), (3091, 0.0), (3092, 0.0), (3093, 0.0), (3094, 0.0), (3095, 0.0), (3096, 0.025259336853128037), (3097, 0.004005038622546328), (3098, 0.006589710668954077), (3099, 0.0), (3100, 0.0), (3101, 0.0), (3102, 0.0037038020724952927), (3103, 0.008990724596448296), (3104, 0.0036277234637151342), (3105, 0.0), (3106, 0.003620683796626503), (3107, 0.031317964018587115), (3108, 0.010887822896445964), (3109, 0.0038696292071355915), (3110, 0.0), (3111, 0.007640823156234684), (3112, 0.0), (3113, 0.003696674893167631), (3114, 0.0), (3115, 0.005652585625370543), (3116, 0.0), (3117, 0.0), (3118, 0.0), (3119, 0.0), (3120, 0.0), (3121, 0.0351432978946468), (3122, 0.016287260586468323), (3123, 0.0), (3124, 0.0), (3125, 0.008566601788458016), (3126, 0.0), (3127, 0.011756993072512056), (3128, 0.0), (3129, 0.014627202442097515), (3130, 0.0), (3131, 0.009118255954397888), (3132, 0.0), (3133, 0.008052865900825379), (3134, 0.0), (3135, 0.0), (3136, 0.0), (3137, 0.006744378502665164), (3138, 0.0), (3139, 0.005140910415445262), (3140, 0.0), (3141, 0.01989059368932221), (3142, 0.016773291798865872), (3143, 0.0), (3144, 0.012689928721169681), (3145, 0.011089780773221746), (3146, 0.004052586737436441), (3147, 0.0067568905924412035), (3148, 0.0), (3149, 0.011718927291250725), (3150, 0.012730346138768547), (3151, 0.008111426172032874), (3152, 0.013275807928480732), (3153, 0.0), (3154, 0.0), (3155, 0.0036482224471385285), (3156, 0.0), (3157, 0.0), (3158, 0.0), (3159, 0.0), (3160, 0.0), (3161, 0.0), (3162, 0.003787678724688716), (3163, 0.0), (3164, 0.01029890744486528), (3165, 0.0), (3166, 0.005034275611877852), (3167, 0.0), (3168, 0.004087118100738816), (3169, 0.003720693529083122), (3170, 0.0), (3171, 0.0), (3172, 0.014188749532110573), (3173, 0.0), (3174, 0.008490456373469443), (3175, 0.0038800702362746593), (3176, 0.0), (3177, 0.0034413256240738766), (3178, 0.005750677340362756), (3179, 0.02144866146602457), (3180, 0.0), (3181, 0.022515440624656696), (3182, 0.03702232271244623), (3183, 0.003969089730362047), (3184, 0.0), (3185, 0.0), (3186, 0.0), (3187, 0.003815620950618782), (3188, 0.003630327613066481), (3189, 0.003822730707384431), (3190, 0.004205166763780982), (3191, 0.0), (3192, 0.00805187593571852), (3193, 0.008024595876942325), (3194, 0.0034314278943894947), (3195, 0.0), (3196, 0.0), (3197, 0.003300442738594436), (3198, 0.0037422580312649334), (3199, 0.03578226449793446), (3200, 0.0072417845000792005), (3201, 0.015206363283498489), (3202, 0.03156664755962945), (3203, 0.004365661262605466), (3204, 0.004852974639147421), (3205, 0.05961304826160241), (3206, 0.0), (3207, 0.036002868114562686), (3208, 0.0), (3209, 0.003716445360103446), (3210, 0.0), (3211, 0.01473509584889652), (3212, 0.018645986886228254), (3213, 0.0), (3214, 0.0034562396098645537), (3215, 0.0), (3216, 0.018743779298191682), (3217, 0.004685064234948525), (3218, 0.012965807309844896), (3219, 0.0), (3220, 0.0035431162139127653), (3221, 0.013599138081081206), (3222, 0.014190960957370987), (3223, 0.0683972832990511), (3224, 0.003774710366854306), (3225, 0.019392934096274437), (3226, 0.025141176302751263), (3227, 0.0), (3228, 0.04832849599342348), (3229, 0.023337774557677823), (3230, 0.009824757868366417), (3231, 0.1028129271247753), (3232, 0.003167701384558677), (3233, 0.008781466131456337), (3234, 0.022566997037017825), (3235, 0.0), (3236, 0.0038707142547915355), (3237, 0.008414588636860404), (3238, 0.017803050969460166), (3239, 0.11232385757063655), (3240, 0.008259439502259566), (3241, 0.0), (3242, 0.0), (3243, 0.059146405375352214), (3244, 0.003321583356904624), (3245, 0.0036585095971587377), (3246, 0.011671337265241827), (3247, 0.0), (3248, 0.0), (3249, 0.04385136476437906), (3250, 0.03067562299946543), (3251, 0.0), (3252, 0.0), (3253, 0.004116954351090972), (3254, 0.0), (3255, 0.0), (3256, 0.004222283443281648), (3257, 0.004378317036560145), (3258, 0.003939827829355147), (3259, 0.012812070821021485), (3260, 0.03047799062944307), (3261, 0.0), (3262, 0.0), (3263, 0.0), (3264, 0.008984176865656562), (3265, 0.025069883695912454), (3266, 0.005049272124513881), (3267, 0.0032921960718862013), (3268, 0.0198908976215986), (3269, 0.0), (3270, 0.012090445005874369), (3271, 0.12793029665875094), (3272, 0.0), (3273, 0.0), (3274, 0.0), (3275, 0.0), (3276, 0.0), (3277, 0.012795880267932316), (3278, 0.0), (3279, 0.0), (3280, 0.007929692011542432), (3281, 0.0), (3282, 0.08022636636105432), (3283, 0.012362984107223095), (3284, 0.036749863752944464), (3285, 0.0), (3286, 0.0035313978613994595), (3287, 0.003764142364185807), (3288, 0.04253071943559021), (3289, 0.0037231950112803377), (3290, 0.0037281368542330085), (3291, 0.0), (3292, 0.0), (3293, 0.008076906833416336), (3294, 0.0392723840252721), (3295, 0.011037314041604112), (3296, 0.0), (3297, 0.016767754343001796), (3298, 0.0), (3299, 0.058075749581229616), (3300, 0.0), (3301, 0.0), (3302, 0.0), (3303, 0.012356040857949934), (3304, 0.0032945465054358596), (3305, 0.0), (3306, 0.007842342069524312), (3307, 0.0), (3308, 0.1040485371029715), (3309, 0.0069354438857126945), (3310, 0.025711918200214973), (3311, 0.011013571769309567), (3312, 0.009893053947392127), (3313, 0.0), (3314, 0.0), (3315, 0.003461775519898245), (3316, 0.006555315912198293), (3317, 0.013969034561450235), (3318, 0.0), (3319, 0.006773580889369301), (3320, 0.011397927256287816), (3321, 0.011250974483227365), (3322, 0.0), (3323, 0.021190323869015638), (3324, 0.004253791679832589), (3325, 0.0), (3326, 0.0), (3327, 0.01527115591257428), (3328, 0.011216421150282185), (3329, 0.0033140558506628876), (3330, 0.00848958747692507), (3331, 0.0), (3332, 0.003680841979834624), (3333, 0.0), (3334, 0.0), (3335, 0.0), (3336, 0.03464679135604579), (3337, 0.004176705253437071), (3338, 0.0), (3339, 0.0), (3340, 0.0), (3341, 0.0), (3342, 0.007932167044195585), (3343, 0.012147396045310932), (3344, 0.03989474723048202), (3345, 0.019867369567000265), (3346, 0.03762187462244092), (3347, 0.0), (3348, 0.00350317803270599), (3349, 0.0037780469196137772), (3350, 0.0035740311844674544), (3351, 0.02559837721130509), (3352, 0.006977665361108446), (3353, 0.0), (3354, 0.0), (3355, 0.0), (3356, 0.006419102507661624), (3357, 0.0045226433322021), (3358, 0.0), (3359, 0.0), (3360, 0.007588238346807914), (3361, 0.008060743923907416), (3362, 0.0067346139235063135), (3363, 0.0), (3364, 0.014028790980175426), (3365, 0.006022718768366599), (3366, 0.0035059646623195467), (3367, 0.0), (3368, 0.00836385364582541), (3369, 0.0), (3370, 0.02825434034102133), (3371, 0.004011771172355509), (3372, 0.0), (3373, 0.004091621125886151), (3374, 0.008438902884379219), (3375, 0.003517857048080155), (3376, 0.007267319672995224), (3377, 0.04075843548193051), (3378, 0.012719352671045379), (3379, 0.0), (3380, 0.0), (3381, 0.0), (3382, 0.0037858799299990645), (3383, 0.00410973949305308), (3384, 0.046744979368754054), (3385, 0.0), (3386, 0.012288291870040189), (3387, 0.0), (3388, 0.036811828442510346), (3389, 0.011183506685521977), (3390, 0.035948440286818095), (3391, 0.0), (3392, 0.012497142010657847), (3393, 0.010442473637638856), (3394, 0.0), (3395, 0.0033319229306877397), (3396, 0.0), (3397, 0.018561526801107057), (3398, 0.0), (3399, 0.00796730843197742), (3400, 0.0035447096272983505), (3401, 0.0), (3402, 0.003532152086822652), (3403, 0.014928778450619774), (3404, 0.0), (3405, 0.0), (3406, 0.0), (3407, 0.008025731260560755), (3408, 0.004195986792901215), (3409, 0.014572273779053655), (3410, 0.009766680458702222), (3411, 0.036289039170487494), (3412, 0.008323498793670267), (3413, 0.004355344780738029), (3414, 0.019065818388964827), (3415, 0.0037934986727945425), (3416, 0.0), (3417, 0.03202915938213285), (3418, 0.006579074654745641), (3419, 0.0), (3420, 0.023658403259800728), (3421, 0.002511970384505691), (3422, 0.04050255409937702), (3423, 0.0), (3424, 0.03194378245711335), (3425, 0.04252527941289415), (3426, 0.0), (3427, 0.0), (3428, 0.0037486091219740957), (3429, 0.0), (3430, 0.010101533849700736), (3431, 0.0), (3432, 0.0), (3433, 0.0), (3434, 0.0), (3435, 0.00846919787442025), (3436, 0.0), (3437, 0.0), (3438, 0.04822368027293335), (3439, 0.04523452795253249), (3440, 0.0), (3441, 0.0), (3442, 0.0348156514218427), (3443, 0.03219658368987289), (3444, 0.01739081374493395), (3445, 0.0), (3446, 0.008831915601068148), (3447, 0.035836888376358476), (3448, 0.045792543454979275), (3449, 0.026559401274361766), (3450, 0.00989557072224141), (3451, 0.0), (3452, 0.0), (3453, 0.03198855085302007), (3454, 0.01675300085349955), (3455, 0.0), (3456, 0.04310351425138098), (3457, 0.009108386179123164), (3458, 0.017485407747804257), (3459, 0.007738750655575809), (3460, 0.0), (3461, 0.03312600641063787), (3462, 0.10759363767147498), (3463, 0.00880074708063893), (3464, 0.012861762511914588), (3465, 0.008102908671250141), (3466, 0.0), (3467, 0.0), (3468, 0.0), (3469, 0.009605159783840717), (3470, 0.0), (3471, 0.0), (3472, 0.0), (3473, 0.0), (3474, 0.0), (3475, 0.005890581807278229), (3476, 0.0), (3477, 0.012039469400746527), (3478, 0.0), (3479, 0.004840752850445662), (3480, 0.0), (3481, 0.01021010669157364), (3482, 0.0), (3483, 0.0), (3484, 0.007093402233934737), (3485, 0.003221625732120816), (3486, 0.0), (3487, 0.0), (3488, 0.0), (3489, 0.003756902070565392), (3490, 0.003485289802540368), (3491, 0.008539620416106905), (3492, 0.008517721134291074), (3493, 0.003804148778974884), (3494, 0.003653881885100005), (3495, 0.0), (3496, 0.0038943010265660044), (3497, 0.0), (3498, 0.0), (3499, 0.0), (3500, 0.003369336415557964), (3501, 0.0), (3502, 0.010304469047363544), (3503, 0.003482045552468629), (3504, 0.008154255012470354), (3505, 0.0), (3506, 0.0), (3507, 0.008842915116534572), (3508, 0.15228104001971007), (3509, 0.021230777995240382), (3510, 0.003908082569370914), (3511, 0.0), (3512, 0.005554202068946711), (3513, 0.003798346514783847), (3514, 0.003788523594097875), (3515, 0.01855657202923114), (3516, 0.00925853240440292), (3517, 0.003759414962049538), (3518, 0.041379518950519306), (3519, 0.03609084616533716), (3520, 0.0), (3521, 0.0), (3522, 0.0), (3523, 0.0), (3524, 0.0), (3525, 0.0), (3526, 0.012415999004232486), (3527, 0.0), (3528, 0.0), (3529, 0.003980416583250965), (3530, 0.0), (3531, 0.03173671436610865), (3532, 0.024060382411070974), (3533, 0.0), (3534, 0.0), (3535, 0.0), (3536, 0.008839164931885347), (3537, 0.004494152228681523), (3538, 0.009687591167709755), (3539, 0.034908493780224696), (3540, 0.021965941492827726), (3541, 0.022605910671289812), (3542, 0.0), (3543, 0.0033654958320281187), (3544, 0.004409267427451453), (3545, 0.0035945486323874245), (3546, 0.006346942189318547), (3547, 0.0), (3548, 0.015499560861229042), (3549, 0.04359547983657052), (3550, 0.02939129397021966), (3551, 0.008612502279918575), (3552, 0.005883327818321379), (3553, 0.0), (3554, 0.004386055171137586), (3555, 0.0), (3556, 0.0), (3557, 0.008360703380337672), (3558, 0.0), (3559, 0.0030475418918874614), (3560, 0.0), (3561, 0.0), (3562, 0.011713801212382805), (3563, 0.01110570596158405), (3564, 0.008551557131962047), (3565, 0.03606927339357683), (3566, 0.00804864993274519), (3567, 0.008176252983113088), (3568, 0.008174671550696688), (3569, 0.01791433483504652), (3570, 0.003610550740369968), (3571, 0.011119099215045215), (3572, 0.004013185831195456), (3573, 0.0), (3574, 0.0027890598327699784), (3575, 0.002932191172381845), (3576, 0.0), (3577, 0.05092815960194537), (3578, 0.010798884218251087), (3579, 0.010365918046264619), (3580, 0.0035530039064681444), (3581, 0.0039866309136776905), (3582, 0.0034904940267207183), (3583, 0.0), (3584, 0.003906411673844587), (3585, 0.007062861948672823), (3586, 0.00919213411084671), (3587, 0.009614763744656576), (3588, 0.0), (3589, 0.003342204832079663), (3590, 0.0), (3591, 0.003778896757160923), (3592, 0.004516792438576274), (3593, 0.0), (3594, 0.008486236140052955), (3595, 0.003473974507554993), (3596, 0.0), (3597, 0.0), (3598, 0.010766607461572696), (3599, 0.01270102069596114), (3600, 0.0), (3601, 0.0038817819450457096), (3602, 0.0), (3603, 0.024930848389194113), (3604, 0.03195377955600553), (3605, 0.0), (3606, 0.003711153136468602), (3607, 0.0), (3608, 0.0), (3609, 0.0), (3610, 0.01433215840507652), (3611, 0.03328465071657892), (3612, 0.00855158249396546), (3613, 0.0), (3614, 0.0), (3615, 0.0), (3616, 0.015097126328458853), (3617, 0.0), (3618, 0.009027284463503241), (3619, 0.0), (3620, 0.0), (3621, 0.05870038683269939), (3622, 0.006794888270677146), (3623, 0.0), (3624, 0.0), (3625, 0.0), (3626, 0.009329046776948808), (3627, 0.01740441362221455), (3628, 0.003966790938973741), (3629, 0.0), (3630, 0.006283640016588848), (3631, 0.0), (3632, 0.0037025469553563783), (3633, 0.01848491911598166), (3634, 0.0), (3635, 0.0), (3636, 0.0), (3637, 0.032995845036426046), (3638, 0.010630145319578052), (3639, 0.0), (3640, 0.0), (3641, 0.011747424937230855), (3642, 0.0), (3643, 0.008656616198633107), (3644, 0.011932015943929505), (3645, 0.04187088100724363), (3646, 0.011499083734620722), (3647, 0.0), (3648, 0.012618834975952616), (3649, 0.0041087212724849175), (3650, 0.041755547696706995), (3651, 0.009750766599220464), (3652, 0.004008161527958738), (3653, 0.0), (3654, 0.030917961614767238), (3655, 0.007419921301350916), (3656, 0.017361753994426302), (3657, 0.0), (3658, 0.027810818666899963), (3659, 0.0), (3660, 0.0), (3661, 0.04602702790438045), (3662, 0.02258101906184719), (3663, 0.0), (3664, 0.0), (3665, 0.030920961925490948), (3666, 0.0), (3667, 0.006511808615280106), (3668, 0.007212403357232826), (3669, 0.0), (3670, 0.0), (3671, 0.004511478565372488), (3672, 0.0), (3673, 0.05904648875607502), (3674, 0.010248317866765923), (3675, 0.0), (3676, 0.0036681511148849324), (3677, 0.01870730681403789), (3678, 0.016770181412655606), (3679, 0.0), (3680, 0.0), (3681, 0.048290751923304474), (3682, 0.0), (3683, 0.0037248946331912437), (3684, 0.010557294018516478), (3685, 0.0035697413678146242), (3686, 0.004328862204340504), (3687, 0.0435411667443407), (3688, 0.004058103868305036), (3689, 0.030410746224131542), (3690, 0.04950241409187946), (3691, 0.027820587177779958), (3692, 0.0), (3693, 0.0), (3694, 0.0), (3695, 0.0), (3696, 0.01647109806757202), (3697, 0.0), (3698, 0.019346072538621573), (3699, 0.019258574076504564), (3700, 0.0), (3701, 0.00873720219032522), (3702, 0.0), (3703, 0.0), (3704, 0.0), (3705, 0.0), (3706, 0.0), (3707, 0.0), (3708, 0.033568280690531103), (3709, 0.008342292107530635), (3710, 0.0), (3711, 0.0156998593076633), (3712, 0.011494648118014726), (3713, 0.007111689137115541), (3714, 0.0), (3715, 0.04209778552322298), (3716, 0.0032590120058276174), (3717, 0.0), (3718, 0.03737798181845133), (3719, 0.0), (3720, 0.05956741245369375), (3721, 0.0), (3722, 0.04234825870905158), (3723, 0.0), (3724, 0.009031723156774479), (3725, 0.0), (3726, 0.0), (3727, 0.0), (3728, 0.0038895066130443376), (3729, 0.0), (3730, 0.013278587110063592), (3731, 0.007253279871768724), (3732, 0.022839679362574136), (3733, 0.010355225204501998), (3734, 0.0), (3735, 0.004033455403247949), (3736, 0.058126805092720474), (3737, 0.02112197212327306), (3738, 0.0), (3739, 0.09489630900062905), (3740, 0.004589763713984065), (3741, 0.0536195991654642), (3742, 0.0), (3743, 0.01773970242996366), (3744, 0.0), (3745, 0.0), (3746, 0.008376333682305032), (3747, 0.0), (3748, 0.010532141643252299), (3749, 0.0), (3750, 0.0), (3751, 0.013988858085137447), (3752, 0.014472379987400474), (3753, 0.003341145573949078), (3754, 0.004226313467078227), (3755, 0.003198837733710252), (3756, 0.0), (3757, 0.0), (3758, 0.004343724633906713), (3759, 0.00415114562364286), (3760, 0.0), (3761, 0.0), (3762, 0.0), (3763, 0.004285688169858949), (3764, 0.007159350748039347), (3765, 0.02011379255975954), (3766, 0.0), (3767, 0.0033256556595891397), (3768, 0.0), (3769, 0.0), (3770, 0.0), (3771, 0.0), (3772, 0.004125718368801107), (3773, 0.0), (3774, 0.0), (3775, 0.0), (3776, 0.0072838207037465765), (3777, 0.009011452309152651), (3778, 0.00884539584235674), (3779, 0.0), (3780, 0.00909328622257606), (3781, 0.0), (3782, 0.03132813994537567), (3783, 0.0), (3784, 0.008097977359692868), (3785, 0.0), (3786, 0.008211355428190823), (3787, 0.0), (3788, 0.0), (3789, 0.004299824312804089), (3790, 0.0037762233433114643), (3791, 0.004167465558976076), (3792, 0.022930912853005327), (3793, 0.0), (3794, 0.0), (3795, 0.0), (3796, 0.005011256289383873), (3797, 0.023218876368013272), (3798, 0.0), (3799, 0.0), (3800, 0.004792147769790357), (3801, 0.0), (3802, 0.0), (3803, 0.01061434542289464), (3804, 0.0), (3805, 0.0036161161773039896), (3806, 0.0), (3807, 0.0), (3808, 0.024963657963688973), (3809, 0.0), (3810, 0.008696819301998773), (3811, 0.003426436385330041), (3812, 0.003689441274402923), (3813, 0.0), (3814, 0.0), (3815, 0.032036348512510936), (3816, 0.0), (3817, 0.009494276572615363), (3818, 0.07201079248678866), (3819, 0.008038124806045816), (3820, 0.004098661946819043), (3821, 0.007148504944483874), (3822, 0.013622861874947836), (3823, 0.016045827619405283), (3824, 0.0034672454564224904), (3825, 0.015410829515186302), (3826, 0.008208752668105541), (3827, 0.0), (3828, 0.0), (3829, 0.0), (3830, 0.0), (3831, 0.049564765906560886), (3832, 0.008850666522620884), (3833, 0.0), (3834, 0.0), (3835, 0.0), (3836, 0.0035318433373438024), (3837, 0.02702575543254723), (3838, 0.0), (3839, 0.0033487875010442514), (3840, 0.0), (3841, 0.007647414791795303), (3842, 0.0033101120200544503), (3843, 0.0), (3844, 0.004561402153916531), (3845, 0.003791036573770433), (3846, 0.0), (3847, 0.0), (3848, 0.0), (3849, 0.0), (3850, 0.0), (3851, 0.004155829348736079), (3852, 0.023881633948931908), (3853, 0.0), (3854, 0.00788794652684078), (3855, 0.03506447519517359), (3856, 0.02121013839895765), (3857, 0.009461914173359443), (3858, 0.013912182914897864), (3859, 0.0034403461661071336), (3860, 0.0), (3861, 0.0032125223680860363), (3862, 0.0), (3863, 0.0), (3864, 0.0034425117989521654), (3865, 0.010870895782310182), (3866, 0.014015232331025031), (3867, 0.0), (3868, 0.011619871670817778), (3869, 0.0), (3870, 0.03249970292751178), (3871, 0.10515070670325553), (3872, 0.033582430138287836), (3873, 0.0), (3874, 0.0), (3875, 0.01678080413753392), (3876, 0.0), (3877, 0.00950871913154226), (3878, 0.03822192926719644), (3879, 0.02375216582024247), (3880, 0.0), (3881, 0.0), (3882, 0.0038210578344104024), (3883, 0.033245156328628844), (3884, 0.0), (3885, 0.0032967105994113587), (3886, 0.011674220205634168), (3887, 0.0), (3888, 0.044928479762147686), (3889, 0.003946728097540625), (3890, 0.023515982182277337), (3891, 0.035568818298857746), (3892, 0.004712755580403599), (3893, 0.0), (3894, 0.0074816752819113945), (3895, 0.030534282340776812), (3896, 0.031492547297932286), (3897, 0.07075702229006303), (3898, 0.0), (3899, 0.0), (3900, 0.0), (3901, 0.0), (3902, 0.0), (3903, 0.06555222707604993), (3904, 0.0), (3905, 0.0038451111967102796), (3906, 0.028605048961942527), (3907, 0.04801216631817301), (3908, 0.0), (3909, 0.011341229678964235), (3910, 0.0), (3911, 0.0), (3912, 0.0037699383649614296), (3913, 0.0), (3914, 0.021560085979603703), (3915, 0.0), (3916, 0.00315426905326138), (3917, 0.008431157024143368), (3918, 0.0), (3919, 0.04656714840100014), (3920, 0.009006688544746696), (3921, 0.024090811288309703), (3922, 0.0045927026220616085), (3923, 0.003382853633684963), (3924, 0.01893684403526961), (3925, 0.0), (3926, 0.041922509597187546), (3927, 0.007303042117420118), (3928, 0.007357854938476558), (3929, 0.0), (3930, 0.04974909410464493), (3931, 0.004340516222994505), (3932, 0.0), (3933, 0.003272000370954287), (3934, 0.030334726433506806), (3935, 0.0), (3936, 0.004728979242378917), (3937, 0.0), (3938, 0.0), (3939, 0.0), (3940, 0.0), (3941, 0.0034517166448679295), (3942, 0.0), (3943, 0.024502888722127986), (3944, 0.007051063204794308), (3945, 0.0), (3946, 0.0), (3947, 0.0), (3948, 0.026511180360537658), (3949, 0.005101219218903603), (3950, 0.008226124236224321), (3951, 0.01008986980847359), (3952, 0.004307619841933589), (3953, 0.0), (3954, 0.0), (3955, 0.008590260520550102), (3956, 0.017090925252621344), (3957, 0.007218766138510048), (3958, 0.0), (3959, 0.008997375240939295), (3960, 0.08310471130146203), (3961, 0.0), (3962, 0.004165837540851042), (3963, 0.008653479603623032), (3964, 0.03703867007937288), (3965, 0.0035232436038403394), (3966, 0.008038707699243253), (3967, 0.008176364921232304), (3968, 0.0), (3969, 0.03913957524286919), (3970, 0.016482107443977163), (3971, 0.003010431594507458), (3972, 0.0), (3973, 0.03950656868660983), (3974, 0.0), (3975, 0.041366294768178255), (3976, 0.0), (3977, 0.032809806906637734), (3978, 0.0), (3979, 0.0), (3980, 0.00692936645795195), (3981, 0.0), (3982, 0.0), (3983, 0.006574148456539499), (3984, 0.0038705558067788676), (3985, 0.0), (3986, 0.025112949190353295), (3987, 0.0), (3988, 0.0046563250179837284), (3989, 0.0), (3990, 0.0), (3991, 0.0), (3992, 0.004159172034539414), (3993, 0.0), (3994, 0.008437074349439114), (3995, 0.0), (3996, 0.004433973851054559), (3997, 0.0), (3998, 0.043023897559189485), (3999, 0.0), (4000, 0.0), (4001, 0.07399566644492456), (4002, 0.010115204119056784), (4003, 0.004050839231434832), (4004, 0.0), (4005, 0.0), (4006, 0.008738011446615238), (4007, 0.16430710561199935), (4008, 0.0038353759601754845), (4009, 0.008078575887477759), (4010, 0.004251788777900119), (4011, 0.0), (4012, 0.015053280216911678), (4013, 0.00940946957316795), (4014, 0.0), (4015, 0.03725615979292865), (4016, 0.0), (4017, 0.0), (4018, 0.006333183248931634), (4019, 0.0), (4020, 0.028981236340901394), (4021, 0.0), (4022, 0.01816535652285666), (4023, 0.004329983853862281), (4024, 0.0), (4025, 0.021779972882400887), (4026, 0.008100687954213268), (4027, 0.0895456738982933), (4028, 0.0), (4029, 0.0036290663975845562), (4030, 0.0), (4031, 0.014362778374125286), (4032, 0.03042948218153468), (4033, 0.0), (4034, 0.032778911044291086), (4035, 0.0031958643947255917), (4036, 0.0036027071315472992), (4037, 0.0034915499383916097), (4038, 0.009203866982995083), (4039, 0.0), (4040, 0.00478019657916747), (4041, 0.0), (4042, 0.0), (4043, 0.0), (4044, 0.0), (4045, 0.031000335284067652), (4046, 0.03213883711583378), (4047, 0.0), (4048, 0.0), (4049, 0.003738731587490079), (4050, 0.0), (4051, 0.004111079136540411), (4052, 0.026436463894915913), (4053, 0.0), (4054, 0.02400976363565179), (4055, 0.015555584681506703), (4056, 0.0), (4057, 0.00781899627876073), (4058, 0.0045935117907772065), (4059, 0.008141735490756266), (4060, 0.0), (4061, 0.022935361661651235), (4062, 0.04646725693719016), (4063, 0.04349827933495752), (4064, 0.01376139015243316), (4065, 0.0), (4066, 0.022019407820934686), (4067, 0.0), (4068, 0.008769016569371547), (4069, 0.0), (4070, 0.017228215209344304), (4071, 0.0035139798882513422), (4072, 0.0), (4073, 0.003605780328109946), (4074, 0.036590845558456604), (4075, 0.034627112750031455), (4076, 0.009310220429138517), (4077, 0.009508725339422331), (4078, 0.0), (4079, 0.0), (4080, 0.0), (4081, 0.0), (4082, 0.0), (4083, 0.0), (4084, 0.004786917141696484), (4085, 0.0), (4086, 0.003996437643119733), (4087, 0.03227820103216833), (4088, 0.0), (4089, 0.019862448651195887), (4090, 0.0), (4091, 0.009495075099103462), (4092, 0.0), (4093, 0.003762123168990274), (4094, 0.007907670061406595), (4095, 0.0), (4096, 0.0), (4097, 0.027086635165073893), (4098, 0.0), (4099, 0.05269281489184027), (4100, 0.0), (4101, 0.0), (4102, 0.004707240027973192), (4103, 0.029403300751071663), (4104, 0.0032463352386527832), (4105, 0.037243209984544313), (4106, 0.015540462351327104), (4107, 0.0), (4108, 0.01373532310533205), (4109, 0.011202024382400286), (4110, 0.01548141077912141), (4111, 0.003981959078356171), (4112, 0.0120049234298431), (4113, 0.0), (4114, 0.0037699383649614296), (4115, 0.0), (4116, 0.021560085979603703), (4117, 0.0), (4118, 0.00315426905326138), (4119, 0.008431157024143368), (4120, 0.0), (4121, 0.04656714840100014), (4122, 0.009006688544746696), (4123, 0.024090811288309703), (4124, 0.0045927026220616085), (4125, 0.003382853633684963), (4126, 0.01893684403526961), (4127, 0.0), (4128, 0.041922509597187546), (4129, 0.007303042117420118), (4130, 0.007357854938476558), (4131, 0.0), (4132, 0.04974909410464493), (4133, 0.004340516222994505), (4134, 0.0), (4135, 0.003272000370954287), (4136, 0.030334726433506806), (4137, 0.0), (4138, 0.004728979242378917), (4139, 0.0), (4140, 0.0), (4141, 0.0), (4142, 0.0), (4143, 0.0034517166448679295), (4144, 0.0), (4145, 0.024502888722127986), (4146, 0.007051063204794308), (4147, 0.0), (4148, 0.0), (4149, 0.0), (4150, 0.026511180360537658), (4151, 0.005101219218903603), (4152, 0.008226124236224321), (4153, 0.01008986980847359), (4154, 0.004307619841933589), (4155, 0.0), (4156, 0.0), (4157, 0.008590260520550102), (4158, 0.017090925252621344), (4159, 0.007218766138510048), (4160, 0.0), (4161, 0.008997375240939295), (4162, 0.08310471130146203), (4163, 0.0), (4164, 0.004165837540851042), (4165, 0.008653479603623032), (4166, 0.03703867007937288), (4167, 0.0035232436038403394), (4168, 0.008038707699243253), (4169, 0.008176364921232304), (4170, 0.0), (4171, 0.03913957524286919), (4172, 0.016482107443977163), (4173, 0.003010431594507458), (4174, 0.0), (4175, 0.03950656868660983), (4176, 0.0), (4177, 0.041366294768178255), (4178, 0.0), (4179, 0.032809806906637734), (4180, 0.0), (4181, 0.0), (4182, 0.00692936645795195), (4183, 0.0), (4184, 0.0), (4185, 0.006574148456539499), (4186, 0.0038705558067788676), (4187, 0.0), (4188, 0.025112949190353295), (4189, 0.0), (4190, 0.0046563250179837284), (4191, 0.0), (4192, 0.0), (4193, 0.0), (4194, 0.004159172034539414), (4195, 0.0), (4196, 0.008437074349439114), (4197, 0.0), (4198, 0.004433973851054559), (4199, 0.0), (4200, 0.043023897559189485), (4201, 0.0), (4202, 0.0), (4203, 0.07399566644492456), (4204, 0.010115204119056784), (4205, 0.004050839231434832), (4206, 0.0), (4207, 0.0), (4208, 0.008738011446615238), (4209, 0.16430710561199935), (4210, 0.0038353759601754845), (4211, 0.008078575887477759), (4212, 0.004251788777900119), (4213, 0.0), (4214, 0.015053280216911678), (4215, 0.00940946957316795), (4216, 0.0), (4217, 0.03725615979292865), (4218, 0.0), (4219, 0.0), (4220, 0.006333183248931634), (4221, 0.0), (4222, 0.028981236340901394), (4223, 0.0), (4224, 0.01816535652285666), (4225, 0.004329983853862281), (4226, 0.0), (4227, 0.021779972882400887), (4228, 0.008100687954213268), (4229, 0.0895456738982933), (4230, 0.0), (4231, 0.0036290663975845562), (4232, 0.0), (4233, 0.014362778374125286), (4234, 0.03042948218153468), (4235, 0.0), (4236, 0.032778911044291086), (4237, 0.0031958643947255917), (4238, 0.0036027071315472992), (4239, 0.0034915499383916097), (4240, 0.009203866982995083), (4241, 0.0), (4242, 0.00478019657916747), (4243, 0.0), (4244, 0.0), (4245, 0.0), (4246, 0.0), (4247, 0.031000335284067652), (4248, 0.03213883711583378), (4249, 0.0), (4250, 0.0), (4251, 0.003738731587490079), (4252, 0.0), (4253, 0.004111079136540411), (4254, 0.026436463894915913), (4255, 0.0), (4256, 0.02400976363565179), (4257, 0.015555584681506703), (4258, 0.0), (4259, 0.00781899627876073), (4260, 0.0045935117907772065), (4261, 0.008141735490756266), (4262, 0.0), (4263, 0.022935361661651235), (4264, 0.04646725693719016), (4265, 0.04349827933495752), (4266, 0.01376139015243316), (4267, 0.0), (4268, 0.022019407820934686), (4269, 0.0), (4270, 0.008769016569371547), (4271, 0.0), (4272, 0.017228215209344304), (4273, 0.0035139798882513422), (4274, 0.0), (4275, 0.003605780328109946), (4276, 0.036590845558456604), (4277, 0.034627112750031455), (4278, 0.009310220429138517), (4279, 0.009508725339422331), (4280, 0.0), (4281, 0.0), (4282, 0.0), (4283, 0.0), (4284, 0.0), (4285, 0.0), (4286, 0.004786917141696484), (4287, 0.0), (4288, 0.003996437643119733), (4289, 0.03227820103216833), (4290, 0.0), (4291, 0.019862448651195887), (4292, 0.0), (4293, 0.009495075099103462), (4294, 0.0), (4295, 0.003762123168990274), (4296, 0.007907670061406595), (4297, 0.0), (4298, 0.0), (4299, 0.027086635165073893), (4300, 0.0), (4301, 0.05269281489184027), (4302, 0.0), (4303, 0.0), (4304, 0.004707240027973192), (4305, 0.029403300751071663), (4306, 0.0032463352386527832), (4307, 0.037243209984544313), (4308, 0.015540462351327104), (4309, 0.0), (4310, 0.01373532310533205), (4311, 0.011202024382400286), (4312, 0.01548141077912141), (4313, 0.003981959078356171), (4314, 0.012012620742122991), (4315, 0.004033849337658806), (4316, 0.0), (4317, 0.05440069264059568), (4318, 0.0), (4319, 0.004137187341516446), (4320, 0.0222785666395964), (4321, 0.018965021506487413), (4322, 0.009493642882417795), (4323, 0.013820969014449902), (4324, 0.0), (4325, 0.0), (4326, 0.008062001580063306), (4327, 0.0037923103445680227), (4328, 0.0), (4329, 0.029678935272853847), (4330, 0.0), (4331, 0.0), (4332, 0.0), (4333, 0.0038732688396418383), (4334, 0.02638209414656825), (4335, 0.0), (4336, 0.0), (4337, 0.012336372826891779), (4338, 0.008878225580703803), (4339, 0.008597318651650516), (4340, 0.0), (4341, 0.0), (4342, 0.003962750086200443), (4343, 0.0), (4344, 0.0), (4345, 0.007663761978115831), (4346, 0.0), (4347, 0.03699799420529461), (4348, 0.029876722047881974), (4349, 0.004412514440154566), (4350, 0.0), (4351, 0.0426040510214604), (4352, 0.0), (4353, 0.025731042043757812), (4354, 0.026159695879873927), (4355, 0.0), (4356, 0.028292273511666043), (4357, 0.008147349367133974), (4358, 0.010641910495316369), (4359, 0.00835057662987203), (4360, 0.0073163493513576225), (4361, 0.0), (4362, 0.0), (4363, 0.0), (4364, 0.03373424856051252), (4365, 0.0), (4366, 0.0), (4367, 0.0), (4368, 0.004683050227614445), (4369, 0.0), (4370, 0.0), (4371, 0.0), (4372, 0.0), (4373, 0.006018074640991973), (4374, 0.0), (4375, 0.0038909133988863725), (4376, 0.011178747232680489), (4377, 0.0), (4378, 0.00784691074465682), (4379, 0.0), (4380, 0.0), (4381, 0.0), (4382, 0.0038292199629992546), (4383, 0.0), (4384, 0.0027474276644306786), (4385, 0.0), (4386, 0.003645774650189302), (4387, 0.0), (4388, 0.00331552448721835), (4389, 0.0), (4390, 0.0), (4391, 0.00870597812235231), (4392, 0.004337498555943495), (4393, 0.11592830591725922), (4394, 0.020044886305319136), (4395, 0.0), (4396, 0.010437957661764996), (4397, 0.003636645259099764), (4398, 0.0), (4399, 0.003711103332597191), (4400, 0.004784858452081577), (4401, 0.0045055429273255804), (4402, 0.0029953697321807734), (4403, 0.03049982994271302), (4404, 0.0), (4405, 0.014096984147665522), (4406, 0.004313296980963606), (4407, 0.022834615683151264), (4408, 0.0034510685198400424), (4409, 0.003934262152623639), (4410, 0.03632400236367087), (4411, 0.0), (4412, 0.012327480753835867), (4413, 0.0), (4414, 0.0), (4415, 0.0034683198172132234), (4416, 0.003689278467174262), (4417, 0.0), (4418, 0.0), (4419, 0.043339037548913044), (4420, 0.01194365162661348), (4421, 0.0), (4422, 0.0), (4423, 0.0), (4424, 0.004865281130493922), (4425, 0.053556183579160324), (4426, 0.0), (4427, 0.0), (4428, 0.013359558003885896), (4429, 0.0), (4430, 0.0), (4431, 0.0), (4432, 0.0), (4433, 0.0), (4434, 0.0), (4435, 0.007735291326001091), (4436, 0.0035513541080137573), (4437, 0.0), (4438, 0.0), (4439, 0.0032308451048151336), (4440, 0.0), (4441, 0.005010916142480888), (4442, 0.0438577852722203), (4443, 0.008439641097004492), (4444, 0.010571613968601816), (4445, 0.0), (4446, 0.0), (4447, 0.0), (4448, 0.003446866667713439), (4449, 0.0), (4450, 0.0), (4451, 0.0), (4452, 0.0), (4453, 0.0), (4454, 0.011722545419886732), (4455, 0.0), (4456, 0.021056689012636288), (4457, 0.0), (4458, 0.02601334289389319), (4459, 0.011438294458984304), (4460, 0.003951046998193605), (4461, 0.004040036410550261), (4462, 0.0038286933474598133), (4463, 0.0), (4464, 0.008921812535241632), (4465, 0.003999341960448999), (4466, 0.0), (4467, 0.018029483722671862), (4468, 0.0), (4469, 0.019581787674566007), (4470, 0.0), (4471, 0.009123101285864039), (4472, 0.0), (4473, 0.010549711256337007), (4474, 0.01154693249095989), (4475, 0.0), (4476, 0.02665565515087674), (4477, 0.0), (4478, 0.0), (4479, 0.04861751859760059), (4480, 0.0), (4481, 0.008166177560030297), (4482, 0.022420299785781823), (4483, 0.009871367606558278), (4484, 0.023540868962285955), (4485, 0.008710992735569842), (4486, 0.008364620033745824), (4487, 0.03842696511400633), (4488, 0.0), (4489, 0.0037509593271287567), (4490, 0.0), (4491, 0.0), (4492, 0.015370744146538077), (4493, 0.0036413141864314433), (4494, 0.0356768092849844), (4495, 0.004062315271790756), (4496, 0.0), (4497, 0.004139172422840159), (4498, 0.0), (4499, 1.0), (4500, 0.0), (4501, 0.0), (4502, 0.0036623049546710197), (4503, 0.0), (4504, 0.039371457368477275), (4505, 0.08204587864200494), (4506, 0.00324877378928426), (4507, 0.0033812947294064527), (4508, 0.0), (4509, 0.0), (4510, 0.0039736876721209345), (4511, 0.0), (4512, 0.0), (4513, 0.0029414554191187206), (4514, 0.05230455130213761), (4515, 0.0), (4516, 0.003498749957018585), (4517, 0.0038598614117807233), (4518, 0.0), (4519, 0.004127705235647657), (4520, 0.03069574245634117), (4521, 0.035867552400751), (4522, 0.0), (4523, 0.0034590810151467035), (4524, 0.0), (4525, 0.003840893720878186), (4526, 0.004026557457239773), (4527, 0.0033682467488006635), (4528, 0.0), (4529, 0.08845680914945338), (4530, 0.015925287853820684), (4531, 0.03366954236579988), (4532, 0.00851874544780181), (4533, 0.0), (4534, 0.11177216794496603), (4535, 0.0), (4536, 0.0), (4537, 0.1544398153964943), (4538, 0.0), (4539, 0.0), (4540, 0.009314425567381506), (4541, 0.0077837025119462345), (4542, 0.0), (4543, 0.00431410899850159), (4544, 0.007848165637666969), (4545, 0.0), (4546, 0.014599809365314879), (4547, 0.0), (4548, 0.028415872881395788), (4549, 0.007760045840314906), (4550, 0.11709194386721525), (4551, 0.0), (4552, 0.0), (4553, 0.013047261650656714), (4554, 0.0), (4555, 0.010567873673625152), (4556, 0.0), (4557, 0.0), (4558, 0.0033675071887666603), (4559, 0.0038838231057147917), (4560, 0.0031972141859392847), (4561, 0.0), (4562, 0.0), (4563, 0.0), (4564, 0.0), (4565, 0.008927506789516754), (4566, 0.029096018051236357), (4567, 0.0), (4568, 0.0), (4569, 0.023748011692266174), (4570, 0.00960987917965939), (4571, 0.0), (4572, 0.003879779318532027), (4573, 0.13472155365192046), (4574, 0.0), (4575, 0.006412268014355363), (4576, 0.016185834863550377), (4577, 0.0), (4578, 0.03849765096830096), (4579, 0.0), (4580, 0.0), (4581, 0.008836880215273723), (4582, 0.0), (4583, 0.0), (4584, 0.00350741138321138), (4585, 0.0), (4586, 0.0), (4587, 0.0), (4588, 0.0), (4589, 0.008316434639018482), (4590, 0.012509624043590364), (4591, 0.0), (4592, 0.0), (4593, 0.0), (4594, 0.0), (4595, 0.0), (4596, 0.04953145422390734), (4597, 0.011803356841266583), (4598, 0.0), (4599, 0.0), (4600, 0.0), (4601, 0.016150199909996662), (4602, 0.0), (4603, 0.02109860500803686), (4604, 0.007873892178547797), (4605, 0.0), (4606, 0.0037083854297435726), (4607, 0.0), (4608, 0.009086524403319007), (4609, 0.0), (4610, 0.004350277730958912), (4611, 0.0), (4612, 0.0), (4613, 0.0), (4614, 0.06821871071725351), (4615, 0.003938312977295661), (4616, 0.006445749506863436), (4617, 0.0), (4618, 0.0), (4619, 0.12036000950345863), (4620, 0.0), (4621, 0.0), (4622, 0.023851754079901154), (4623, 0.0037908941916824064), (4624, 0.0037549459798463837), (4625, 0.0), (4626, 0.0), (4627, 0.0), (4628, 0.01940375883419646), (4629, 0.0), (4630, 0.03587095517414918), (4631, 0.0), (4632, 0.0), (4633, 0.01822865168845977), (4634, 0.0), (4635, 0.0038176071318731506), (4636, 0.0034750503007141284), (4637, 0.0), (4638, 0.009185964845975452), (4639, 0.009788888641278944), (4640, 0.008181605530751005), (4641, 0.0), (4642, 0.004638468396656615), (4643, 0.008089261169902688), (4644, 0.011835141511333174), (4645, 0.0), (4646, 0.011158874574418531), (4647, 0.0), (4648, 0.0039778432662758165), (4649, 0.003312600648006589), (4650, 0.012685689319888161), (4651, 0.010013617032907653), (4652, 0.007559013180115742), (4653, 0.00429032904897767), (4654, 0.004131163920107433), (4655, 0.004059118579110419), (4656, 0.014041929807026805), (4657, 0.0), (4658, 0.0), (4659, 0.032629301377036145), (4660, 0.0), (4661, 0.016488203528112894), (4662, 0.013773005527215797), (4663, 0.0), (4664, 0.009668249424198899), (4665, 0.004017927947604987), (4666, 0.0), (4667, 0.0), (4668, 0.0), (4669, 0.008819032822927592), (4670, 0.02756303138591852), (4671, 0.0), (4672, 0.0), (4673, 0.0), (4674, 0.008246325379352746), (4675, 0.028765110456703488), (4676, 0.030637749871944224), (4677, 0.0), (4678, 0.0), (4679, 0.009958977211428067), (4680, 0.0), (4681, 0.0), (4682, 0.005101545658226158), (4683, 0.00818442560784015), (4684, 0.039539521586653206), (4685, 0.0043564525790271485), (4686, 0.004834966983043352), (4687, 0.029391453766796725), (4688, 0.012669428382376335), (4689, 0.0), (4690, 0.0), (4691, 0.0038718330037771686), (4692, 0.0), (4693, 0.0), (4694, 0.013047056758492848), (4695, 0.0), (4696, 0.04151006594885616), (4697, 0.0), (4698, 0.004160468950976278), (4699, 0.0), (4700, 0.0059444991753560975), (4701, 0.0), (4702, 0.0), (4703, 0.0), (4704, 0.026578178922433415), (4705, 0.008617393641713269), (4706, 0.008232632445334589), (4707, 0.0), (4708, 0.004332323319661997), (4709, 0.004186879831176202), (4710, 0.0), (4711, 0.0), (4712, 0.0), (4713, 0.03738641261568808), (4714, 0.0), (4715, 0.0), (4716, 0.004377690415183319), (4717, 0.04197385936932867), (4718, 0.0), (4719, 0.0), (4720, 0.0), (4721, 0.0029070451115026743), (4722, 0.0), (4723, 0.0), (4724, 0.003944009462401496), (4725, 0.026235183956211987), (4726, 0.044912436780113085), (4727, 0.0), (4728, 0.0), (4729, 0.0), (4730, 0.0), (4731, 0.0), (4732, 0.0035452505586386802), (4733, 0.009444449031930537), (4734, 0.0), (4735, 0.0), (4736, 0.0), (4737, 0.0), (4738, 0.019922876689361185), (4739, 0.004717751339969172), (4740, 0.0), (4741, 0.037558787298673686), (4742, 0.0), (4743, 0.013973546647288447), (4744, 0.039945911450909276), (4745, 0.0), (4746, 0.0), (4747, 0.0), (4748, 0.0), (4749, 0.033580125970151385), (4750, 0.007970819316318028), (4751, 0.041764057930606245), (4752, 0.00830768394039689), (4753, 0.01884747470332441), (4754, 0.0037656949079039772), (4755, 0.0), (4756, 0.0), (4757, 0.049218287441278256), (4758, 0.01136572939990185), (4759, 0.003858775574953161), (4760, 0.028779928442822494), (4761, 0.0), (4762, 0.025986109110883074), (4763, 0.0), (4764, 0.04059082974325252), (4765, 0.0), (4766, 0.01176048955286136), (4767, 0.0), (4768, 0.032958906834655785), (4769, 0.0), (4770, 0.0159913329504863), (4771, 0.0), (4772, 0.004357177528939319), (4773, 0.005791106511793591), (4774, 0.0), (4775, 0.0), (4776, 0.0), (4777, 0.0), (4778, 0.016535123978108152), (4779, 0.00334104504863233), (4780, 0.0), (4781, 0.0), (4782, 0.04500289923530008), (4783, 0.0), (4784, 0.07553424310447307), (4785, 0.0), (4786, 0.0), (4787, 0.0), (4788, 0.0), (4789, 0.0), (4790, 0.0), (4791, 0.020021865473757894), (4792, 0.007642990059002128), (4793, 0.0), (4794, 0.01210586548573638), (4795, 0.0), (4796, 0.010051210956346012), (4797, 0.0), (4798, 0.04466602907112967), (4799, 0.0), (4800, 0.0), (4801, 0.008318005844744097), (4802, 0.011152148829400209), (4803, 0.0), (4804, 0.0), (4805, 0.003380512959570455), (4806, 0.008551291991810386), (4807, 0.0), (4808, 0.0), (4809, 0.0), (4810, 0.0), (4811, 0.0036606917456459185), (4812, 0.003043940453239002), (4813, 0.0), (4814, 0.010597303952354304), (4815, 0.009019746893065263), (4816, 0.0), (4817, 0.0), (4818, 0.0), (4819, 0.0), (4820, 0.0), (4821, 0.0), (4822, 0.0), (4823, 0.008900133242587182), (4824, 0.0038520399161712142), (4825, 0.0), (4826, 0.017925371761260956), (4827, 0.0), (4828, 0.0), (4829, 0.003105370870732673), (4830, 0.007484434682769595), (4831, 0.008928094528759865), (4832, 0.0), (4833, 0.004400789198233955), (4834, 0.0), (4835, 0.00427691782324944), (4836, 0.007939036583563385), (4837, 0.012108291006438853), (4838, 0.0030587790191279503), (4839, 0.0), (4840, 0.0), (4841, 0.0), (4842, 0.018942859430596246), (4843, 0.0), (4844, 0.0), (4845, 0.0), (4846, 0.0), (4847, 0.0), (4848, 0.010866712428894969), (4849, 0.01098217574011321), (4850, 0.0037610682967099515), (4851, 0.03457117425563939), (4852, 0.004181454353594338), (4853, 0.0), (4854, 0.015773161378573545), (4855, 0.0), (4856, 0.0), (4857, 0.003842769682426483), (4858, 0.0), (4859, 0.0), (4860, 0.016444513979082382), (4861, 0.04054967183410206), (4862, 0.01051433576176159), (4863, 0.0), (4864, 0.0), (4865, 0.0), (4866, 0.1575317226633965), (4867, 0.02888280422990884), (4868, 0.0), (4869, 0.003395738346944139), (4870, 0.0), (4871, 0.0), (4872, 0.0), (4873, 0.04619508211098105), (4874, 0.0), (4875, 0.0), (4876, 0.013675376987249889), (4877, 0.048618694050030165), (4878, 0.0), (4879, 0.0), (4880, 0.0), (4881, 0.01501475190276382), (4882, 0.0), (4883, 0.0), (4884, 0.016548045658960214), (4885, 0.0), (4886, 0.0), (4887, 0.008374230134638843), (4888, 0.008573431685546452), (4889, 0.0369119503326395), (4890, 0.003599761739286539), (4891, 0.0077801449252886765), (4892, 0.0033957685687165066), (4893, 0.0), (4894, 0.0), (4895, 0.0), (4896, 0.0), (4897, 0.08639145626952034), (4898, 0.0), (4899, 0.0), (4900, 0.0), (4901, 0.0), (4902, 0.004931234926397349), (4903, 0.037279605720560056), (4904, 0.003687324745909691), (4905, 0.0), (4906, 0.0), (4907, 0.0), (4908, 0.004023315379186155), (4909, 0.0), (4910, 0.0), (4911, 0.0), (4912, 0.0), (4913, 0.004285409466966083), (4914, 0.026991754318239643), (4915, 0.0), (4916, 0.03989189670506545), (4917, 0.0), (4918, 0.0), (4919, 0.004275716786850497), (4920, 0.0), (4921, 0.007050992182141714), (4922, 0.0043977383896806384), (4923, 0.0045123220506842155), (4924, 0.0), (4925, 0.0), (4926, 0.0), (4927, 0.004428865708176887), (4928, 0.0), (4929, 0.0), (4930, 0.0), (4931, 0.0), (4932, 0.0), (4933, 0.0), (4934, 0.03206870658507251), (4935, 0.0), (4936, 0.003915650932728751), (4937, 0.0), (4938, 0.0), (4939, 0.09965563989980689), (4940, 0.0036295781306945633), (4941, 0.0), (4942, 0.0), (4943, 0.0), (4944, 0.0), (4945, 0.0), (4946, 0.0029363377357777953), (4947, 0.0), (4948, 0.004109534729231116), (4949, 0.0), (4950, 0.03919541357969953), (4951, 0.039077203629193175), (4952, 0.0), (4953, 0.0), (4954, 0.0061004262864078965), (4955, 0.0), (4956, 0.0), (4957, 0.00855603451275662), (4958, 0.03389536302971147), (4959, 0.0), (4960, 0.0), (4961, 0.0)]\n"
          ]
        }
      ]
    },
    {
      "cell_type": "code",
      "source": [
        "len(recommendation_score)"
      ],
      "metadata": {
        "colab": {
          "base_uri": "https://localhost:8080/"
        },
        "id": "eFlyA5WGKWcg",
        "outputId": "7cac4791-0518-474c-9635-9463c1fc8fb6"
      },
      "execution_count": 58,
      "outputs": [
        {
          "output_type": "execute_result",
          "data": {
            "text/plain": [
              "4962"
            ]
          },
          "metadata": {},
          "execution_count": 58
        }
      ]
    },
    {
      "cell_type": "markdown",
      "source": [
        "## Get all movies sort based on recommnedation score wrt favourite movie\n"
      ],
      "metadata": {
        "id": "F_pZk3UsK4kh"
      }
    },
    {
      "cell_type": "code",
      "source": [
        "#sorting the movie based on their similarity score\n",
        "sorted_similar_movies = sorted(recommendation_score, key = lambda x:x[1], reverse = True)\n",
        "print(sorted_similar_movies)"
      ],
      "metadata": {
        "colab": {
          "base_uri": "https://localhost:8080/"
        },
        "id": "EruR1IWwK34D",
        "outputId": "3f07c48b-c135-4715-e96f-d92d5eb56766"
      },
      "execution_count": 59,
      "outputs": [
        {
          "output_type": "stream",
          "name": "stdout",
          "text": [
            "[(4499, 1.0), (1002, 0.22666274613533516), (2268, 0.17110348422376467), (4007, 0.16430710561199935), (4209, 0.16430710561199935), (4866, 0.1575317226633965), (4537, 0.1544398153964943), (3508, 0.15228104001971007), (2798, 0.15123643628998296), (2547, 0.14673051754471836), (2032, 0.1390063088145678), (2570, 0.13742294044131254), (4573, 0.13472155365192046), (3271, 0.12793029665875094), (2684, 0.1271801741963043), (2147, 0.12186374278728719), (4619, 0.12036000950345863), (4550, 0.11709194386721525), (4393, 0.11592830591725922), (3239, 0.11232385757063655), (4534, 0.11177216794496603), (2456, 0.10975639237500076), (3462, 0.10759363767147498), (845, 0.10747187842969037), (3871, 0.10515070670325553), (141, 0.10492876108009845), (3308, 0.1040485371029715), (1172, 0.10294904349872112), (3231, 0.1028129271247753), (2681, 0.10229062521189632), (2678, 0.10146058421874812), (2208, 0.10077952615676625), (2553, 0.1000262274149178), (4939, 0.09965563989980689), (1661, 0.09893325293492808), (1501, 0.0960635137288937), (3739, 0.09489630900062905), (4027, 0.0895456738982933), (4229, 0.0895456738982933), (830, 0.08850888983243846), (4529, 0.08845680914945338), (4897, 0.08639145626952034), (154, 0.08611386820774128), (1634, 0.08423293307490828), (3960, 0.08310471130146203), (4162, 0.08310471130146203), (4505, 0.08204587864200494), (3282, 0.08022636636105432), (1072, 0.07640296224851302), (4784, 0.07553424310447307), (889, 0.07511390478001931), (4001, 0.07399566644492456), (4203, 0.07399566644492456), (1681, 0.07341753760017587), (3818, 0.07201079248678866), (2813, 0.07134825762587109), (3897, 0.07075702229006303), (3223, 0.0683972832990511), (4614, 0.06821871071725351), (2143, 0.06721363772047942), (3903, 0.06555222707604993), (1759, 0.06412733775886455), (1461, 0.06322736427800862), (42, 0.06315610765327313), (1430, 0.06206227012247755), (1319, 0.062059873036105356), (697, 0.062021256533942665), (1168, 0.060459338674345185), (2693, 0.05975128901960874), (3205, 0.05961304826160241), (3720, 0.05956741245369375), (1816, 0.05934434999640306), (3243, 0.059146405375352214), (3673, 0.05904648875607502), (2951, 0.05886785679630663), (3621, 0.05870038683269939), (840, 0.05859362227399746), (3736, 0.058126805092720474), (3299, 0.058075749581229616), (2258, 0.058035196326526574), (1182, 0.05780856571061276), (2305, 0.05721383776136381), (995, 0.05709348653234705), (2584, 0.057054498271724235), (2716, 0.056855823198670656), (3022, 0.05669928660011421), (1206, 0.05471682893595894), (4317, 0.05440069264059568), (2615, 0.05436893907333755), (952, 0.05408633453853831), (3741, 0.0536195991654642), (4425, 0.053556183579160324), (1695, 0.0528231001359689), (4099, 0.05269281489184027), (4301, 0.05269281489184027), (2403, 0.05244644486404251), (4514, 0.05230455130213761), (130, 0.0519582808693134), (67, 0.05181502382339437), (2014, 0.05169502225610634), (220, 0.05158898855835197), (2704, 0.05132040114189882), (2834, 0.05110830422500688), (1273, 0.050985491537890226), (3577, 0.05092815960194537), (1054, 0.050648156290406435), (1799, 0.050481272412002266), (1284, 0.05031630990372957), (1110, 0.05026003847980113), (920, 0.050088655100012335), (2200, 0.049883296759000356), (370, 0.04987994761346295), (1259, 0.04987964202036589), (3930, 0.04974909410464493), (4132, 0.04974909410464493), (3831, 0.049564765906560886), (4596, 0.04953145422390734), (3690, 0.04950241409187946), (1010, 0.04946159502605797), (2017, 0.04944677591359997), (4757, 0.049218287441278256), (2980, 0.04914405404520477), (2189, 0.04891968068684179), (4877, 0.048618694050030165), (4479, 0.04861751859760059), (3228, 0.04832849599342348), (3681, 0.048290751923304474), (3438, 0.04822368027293335), (3907, 0.04801216631817301), (1296, 0.04785718717022793), (530, 0.0476613756698577), (1951, 0.047652314352357415), (2430, 0.04763119324175286), (2102, 0.04754878172646889), (752, 0.04705789911101742), (947, 0.0469967789005323), (3384, 0.046744979368754054), (2680, 0.046658303050169214), (1210, 0.0466492235230795), (2518, 0.04660651833735799), (3919, 0.04656714840100014), (4121, 0.04656714840100014), (1987, 0.04655485261919511), (4062, 0.04646725693719016), (4264, 0.04646725693719016), (4873, 0.04619508211098105), (1129, 0.04605664144974929), (3661, 0.04602702790438045), (768, 0.04601132503207121), (2180, 0.045984885155471514), (3448, 0.045792543454979275), (2213, 0.04556251767889595), (1706, 0.045483780123120404), (3439, 0.04523452795253249), (2228, 0.04519593014354366), (4782, 0.04500289923530008), (3888, 0.044928479762147686), (4726, 0.044912436780113085), (1412, 0.04478860829072194), (4798, 0.04466602907112967), (735, 0.04459191702297715), (3042, 0.04445359363235707), (1640, 0.04443983869993648), (2111, 0.04405077637673265), (428, 0.04390244657792485), (4442, 0.0438577852722203), (3249, 0.04385136476437906), (531, 0.043698561861643496), (3549, 0.04359547983657052), (1511, 0.04358240422597291), (3687, 0.0435411667443407), (4063, 0.04349827933495752), (4265, 0.04349827933495752), (4419, 0.043339037548913044), (2358, 0.043166684439832695), (890, 0.04314602656715516), (1322, 0.043117360035944755), (3456, 0.04310351425138098), (3998, 0.043023897559189485), (4200, 0.043023897559189485), (12, 0.042855589026959254), (2376, 0.04273809753424669), (2995, 0.042693949242474695), (4351, 0.0426040510214604), (1349, 0.04258817527984422), (540, 0.042561373202030656), (3288, 0.04253071943559021), (3425, 0.04252527941289415), (3722, 0.04234825870905158), (1426, 0.04213464278382663), (3715, 0.04209778552322298), (4717, 0.04197385936932867), (654, 0.041944321449187694), (3926, 0.041922509597187546), (4128, 0.041922509597187546), (3645, 0.04187088100724363), (1643, 0.0418130495742316), (4751, 0.041764057930606245), (3650, 0.041755547696706995), (4696, 0.04151006594885616), (938, 0.041422173048976316), (3518, 0.041379518950519306), (3975, 0.041366294768178255), (4177, 0.041366294768178255), (0, 0.04130523155437213), (2114, 0.04092492086665241), (2277, 0.04080938553195383), (3377, 0.04075843548193051), (2564, 0.04064162700973175), (4764, 0.04059082974325252), (4861, 0.04054967183410206), (3422, 0.04050255409937702), (916, 0.040270869132558375), (897, 0.04019474902535037), (1526, 0.040194727019058664), (2286, 0.04013070282993377), (2963, 0.040120384963714076), (741, 0.040033608974456625), (2491, 0.0400283931348449), (4744, 0.039945911450909276), (3344, 0.03989474723048202), (4916, 0.03989189670506545), (1436, 0.039830789164664544), (2151, 0.03973116220409434), (2219, 0.03970033168442505), (689, 0.03957232650493288), (4684, 0.039539521586653206), (3973, 0.03950656868660983), (4175, 0.03950656868660983), (1563, 0.03938224027276002), (4504, 0.039371457368477275), (3294, 0.0392723840252721), (2327, 0.0392570677986809), (4950, 0.03919541357969953), (1359, 0.039144087578073694), (3969, 0.03913957524286919), (4171, 0.03913957524286919), (108, 0.0391275667860414), (4951, 0.039077203629193175), (1049, 0.03890204184552576), (469, 0.038812018135175264), (261, 0.038686729903455654), (2808, 0.03863991115595952), (1778, 0.038501420217569395), (4578, 0.03849765096830096), (711, 0.038467923233408925), (4487, 0.03842696511400633), (1187, 0.038418372919837886), (660, 0.03839218446727839), (3878, 0.03822192926719644), (1692, 0.03807526035111495), (824, 0.038011908094720076), (1157, 0.037990085717165764), (2666, 0.03788202888614868), (3346, 0.03762187462244092), (4741, 0.037558787298673686), (1678, 0.03740094066693063), (4713, 0.03738641261568808), (1418, 0.03737900414400186), (3718, 0.03737798181845133), (2548, 0.03731062639252267), (2104, 0.03729115693300772), (4903, 0.037279605720560056), (4015, 0.03725615979292865), (4217, 0.03725615979292865), (4105, 0.037243209984544313), (4307, 0.037243209984544313), (1766, 0.037086995311351866), (1437, 0.03707065715285927), (3964, 0.03703867007937288), (4166, 0.03703867007937288), (3182, 0.03702232271244623), (4347, 0.03699799420529461), (4889, 0.0369119503326395), (3388, 0.036811828442510346), (1560, 0.036797153889261254), (3284, 0.036749863752944464), (609, 0.03668563459652477), (292, 0.03666452260983673), (4074, 0.036590845558456604), (4276, 0.036590845558456604), (3028, 0.03648860620147279), (1071, 0.03641237536007057), (4410, 0.03632400236367087), (3411, 0.036289039170487494), (1583, 0.03624994867906295), (2557, 0.03623644647746189), (2744, 0.036200759963850575), (337, 0.03614425139100822), (3519, 0.03609084616533716), (3565, 0.03606927339357683), (3207, 0.036002868114562686), (2878, 0.03597266147018436), (1465, 0.035956848068389356), (3390, 0.035948440286818095), (1479, 0.03593866396047645), (4630, 0.03587095517414918), (4521, 0.035867552400751), (2064, 0.03586731429983908), (721, 0.03585042826639374), (3447, 0.035836888376358476), (144, 0.035817821134400185), (2811, 0.03578719342746821), (3199, 0.03578226449793446), (1184, 0.03571582661468222), (4494, 0.0356768092849844), (1861, 0.03563798877870598), (1806, 0.03563684298330496), (3891, 0.035568818298857746), (1788, 0.035503974838630735), (426, 0.03528205243865992), (212, 0.03527762429001053), (706, 0.03527166124982008), (1637, 0.03518270785196924), (3121, 0.0351432978946468), (1107, 0.035089497891237935), (3855, 0.03506447519517359), (596, 0.035062093908144076), (2076, 0.03493408666683593), (3539, 0.034908493780224696), (1456, 0.03486055269053127), (1444, 0.03481735486844039), (3442, 0.0348156514218427), (443, 0.03480415830661302), (1791, 0.0347987506835557), (3336, 0.03464679135604579), (4075, 0.034627112750031455), (4277, 0.034627112750031455), (1516, 0.03460334396439919), (4851, 0.03457117425563939), (2603, 0.0345507897091041), (814, 0.03454062368119588), (829, 0.0345108329814776), (2589, 0.03442738036166973), (1702, 0.034340036335841616), (2202, 0.03430347038194958), (802, 0.03429349147943865), (1166, 0.03419813368520112), (219, 0.03418338640358369), (3086, 0.03415031219297332), (586, 0.034075001694991024), (1476, 0.03404973297673343), (430, 0.03402509665406832), (2113, 0.03392600298102137), (4958, 0.03389536302971147), (2622, 0.03387287592920296), (1398, 0.03383004422109868), (671, 0.033812833025619805), (961, 0.03378692572862185), (708, 0.03376680146099409), (1041, 0.033734544881674364), (4364, 0.03373424856051252), (4531, 0.03366954236579988), (2568, 0.0335930378087393), (3872, 0.033582430138287836), (4749, 0.033580125970151385), (3708, 0.033568280690531103), (969, 0.03356210350409645), (1996, 0.03352945126582941), (2510, 0.033456653406420206), (3611, 0.03328465071657892), (3883, 0.033245156328628844), (1123, 0.033162565465812414), (3461, 0.03312600641063787), (2346, 0.03304319387139015), (1722, 0.033020037034163105), (3637, 0.032995845036426046), (4768, 0.032958906834655785), (758, 0.03293631779656197), (2192, 0.032887777360531195), (1148, 0.03287568733726606), (3977, 0.032809806906637734), (4179, 0.032809806906637734), (4034, 0.032778911044291086), (4236, 0.032778911044291086), (1023, 0.0327405552115257), (4659, 0.032629301377036145), (887, 0.03256766531469277), (1698, 0.03255397975772285), (3870, 0.03249970292751178), (50, 0.032437831564975005), (720, 0.03237211298278535), (2447, 0.03234557911936822), (2060, 0.032315887004289695), (4087, 0.03227820103216833), (4289, 0.03227820103216833), (3443, 0.03219658368987289), (2020, 0.032168953330376004), (1460, 0.03216628117635723), (4046, 0.03213883711583378), (4248, 0.03213883711583378), (71, 0.03208603188224799), (4934, 0.03206870658507251), (715, 0.032049606645776926), (3815, 0.032036348512510936), (3417, 0.03202915938213285), (3453, 0.03198855085302007), (3604, 0.03195377955600553), (3424, 0.03194378245711335), (157, 0.03191954637145967), (691, 0.03191251677598561), (1564, 0.031841914668380066), (1726, 0.03181811136199638), (2056, 0.03178245720494163), (3531, 0.03173671436610865), (2653, 0.031707786402601947), (1829, 0.03168383305055053), (49, 0.031661565960555374), (1446, 0.031618663366696095), (1535, 0.03157353529669421), (3202, 0.03156664755962945), (1151, 0.031501983719872846), (3896, 0.031492547297932286), (561, 0.0314325534574484), (1569, 0.03141868974528017), (161, 0.031391625307391105), (391, 0.03134735499321071), (485, 0.031340079217572904), (3782, 0.03132813994537567), (3107, 0.031317964018587115), (1654, 0.03122881475396324), (1744, 0.031187018321798536), (1073, 0.031074122016350368), (2670, 0.031073999551137734), (2140, 0.03105623348504923), (4045, 0.031000335284067652), (4247, 0.031000335284067652), (1363, 0.03099134326689685), (1106, 0.03098299028364822), (26, 0.030946574628809093), (3665, 0.030920961925490948), (3654, 0.030917961614767238), (1452, 0.030891033622640302), (1717, 0.03087846055039636), (712, 0.03087761525994598), (1369, 0.030862476528447244), (960, 0.030817831737081313), (612, 0.030800351971618612), (2166, 0.030763620549660538), (2069, 0.030758733772094368), (1853, 0.030741441409722705), (1400, 0.03071453051012538), (4520, 0.03069574245634117), (3250, 0.03067562299946543), (4676, 0.030637749871944224), (1841, 0.030610990528615732), (1393, 0.030545644361094415), (3895, 0.030534282340776812), (4403, 0.03049982994271302), (321, 0.030482035701595706), (3260, 0.03047799062944307), (4032, 0.03042948218153468), (4234, 0.03042948218153468), (1440, 0.030429225303999757), (3689, 0.030410746224131542), (811, 0.030398379105776103), (710, 0.0303609423049619), (447, 0.030358747850802965), (3934, 0.030334726433506806), (4136, 0.030334726433506806), (386, 0.030326189673930824), (1775, 0.030298106869550718), (2776, 0.030259891640441225), (1586, 0.03013304262226997), (606, 0.03008989254384796), (2274, 0.030076090935314017), (842, 0.02997283871690124), (2788, 0.029942851113705527), (4348, 0.029876722047881974), (1719, 0.029821774035760418), (2960, 0.029786676936709753), (1686, 0.029770370995775747), (1003, 0.02976827034891874), (4329, 0.029678935272853847), (1515, 0.02964083455289218), (2402, 0.029635073633931638), (1485, 0.02949384049503255), (2625, 0.02943482345030851), (4103, 0.029403300751071663), (4305, 0.029403300751071663), (4687, 0.029391453766796725), (3550, 0.02939129397021966), (848, 0.02934738746115162), (172, 0.029323270594206096), (1980, 0.02929509947540834), (4566, 0.029096018051236357), (1420, 0.02904146866422388), (4020, 0.028981236340901394), (4222, 0.028981236340901394), (619, 0.028939540986105013), (4867, 0.02888280422990884), (2360, 0.028877189896278084), (1194, 0.02881599377829475), (1883, 0.02880072864538303), (2809, 0.028783772817583757), (4760, 0.028779928442822494), (870, 0.028777323657603528), (4675, 0.028765110456703488), (2846, 0.028651651826768734), (75, 0.028648067868400077), (3906, 0.028605048961942527), (2485, 0.02856498089589154), (1082, 0.02855676259204662), (1622, 0.02854948826864533), (2335, 0.028545514150984483), (1696, 0.028520977950933005), (633, 0.0284893735773419), (4548, 0.028415872881395788), (615, 0.028414531540194403), (14, 0.02840751163435908), (627, 0.02837249925272139), (1195, 0.028356873033755246), (1421, 0.028352258489811724), (4356, 0.028292273511666043), (349, 0.028257752940448213), (3370, 0.02825434034102133), (2844, 0.028125017041591108), (651, 0.02810672905504371), (2478, 0.028100305323832567), (2524, 0.0280813608041798), (162, 0.02806405557402969), (2796, 0.028043945485273357), (555, 0.02801876645938322), (2006, 0.028001196255776635), (323, 0.02799097577160472), (1154, 0.02793557450406345), (175, 0.027918649810886032), (3691, 0.027820587177779958), (2641, 0.027820462254475906), (3658, 0.027810818666899963), (2660, 0.027805117422000102), (1351, 0.027703757446599604), (263, 0.027623929815557523), (827, 0.027618193809866593), (1631, 0.027609025608243642), (4670, 0.02756303138591852), (2133, 0.027486162260481537), (709, 0.02736730796275779), (1709, 0.027347583805335685), (2578, 0.027226173753498804), (988, 0.02717808112361783), (1641, 0.027089262978127894), (4097, 0.027086635165073893), (4299, 0.027086635165073893), (598, 0.027085615184113416), (2814, 0.02703131512409621), (3837, 0.02702575543254723), (4914, 0.026991754318239643), (1844, 0.026974422728018376), (1109, 0.026966165894090937), (1080, 0.026933005768058377), (1814, 0.026926647497141423), (1701, 0.026911915568159098), (2429, 0.02690546193332049), (881, 0.026872379195664008), (1763, 0.026827479406604123), (1982, 0.026703223985927803), (863, 0.02667669167943911), (4476, 0.02665565515087674), (2867, 0.02662707108459862), (4704, 0.026578178922433415), (506, 0.026572614163520924), (3449, 0.026559401274361766), (1216, 0.02653374219823785), (643, 0.026527009379730817), (3948, 0.026511180360537658), (4150, 0.026511180360537658), (4052, 0.026436463894915913), (4254, 0.026436463894915913), (2803, 0.026433718333223815), (2043, 0.026397477803964526), (214, 0.026390310638173122), (4334, 0.02638209414656825), (4725, 0.026235183956211987), (1180, 0.02617500010963329), (4354, 0.026159695879873927), (1737, 0.026133047672605658), (2656, 0.02609416630212072), (4458, 0.02601334289389319), (2161, 0.026003498785964457), (4762, 0.025986109110883074), (2729, 0.02598023362365588), (2516, 0.0259797733530483), (1472, 0.025944690906196177), (202, 0.025906832592040244), (3068, 0.025823452714045316), (1821, 0.02577551127251943), (47, 0.025771649829713215), (4353, 0.025731042043757812), (3310, 0.025711918200214973), (548, 0.02568619151129236), (3, 0.025657278440275322), (1142, 0.025628342238158672), (3351, 0.02559837721130509), (76, 0.02558006848641503), (2550, 0.025483643193933782), (1500, 0.025324260235744286), (3096, 0.025259336853128037), (3226, 0.025141176302751263), (3986, 0.025112949190353295), (4188, 0.025112949190353295), (3265, 0.025069883695912454), (1971, 0.025000733428735676), (3808, 0.024963657963688973), (3603, 0.024930848389194113), (2654, 0.024925992068520128), (2239, 0.024925771848429822), (1627, 0.024885860682874492), (2732, 0.024819438916189047), (2197, 0.02475598298062979), (2771, 0.024660128043345705), (2734, 0.02460493893129459), (621, 0.024556251167964293), (1118, 0.024525503712802085), (3943, 0.024502888722127986), (4145, 0.024502888722127986), (852, 0.024432864565392346), (731, 0.02441926231243341), (2359, 0.024414318068257643), (2767, 0.02438933634802074), (2142, 0.024318201365302158), (146, 0.0242264489336125), (1598, 0.024195297791420357), (2661, 0.024187423612394378), (1579, 0.024157992448144157), (3921, 0.024090811288309703), (4123, 0.024090811288309703), (3532, 0.024060382411070974), (1409, 0.024041658772401865), (2320, 0.024037987115064517), (4054, 0.02400976363565179), (4256, 0.02400976363565179), (1329, 0.023966362168048844), (287, 0.02393579140077902), (3852, 0.023881633948931908), (4622, 0.023851754079901154), (895, 0.02384500690547415), (2573, 0.023795956514438995), (935, 0.023760123536248286), (3879, 0.02375216582024247), (4569, 0.023748011692266174), (1389, 0.02371829459061272), (2513, 0.023699118206594316), (3420, 0.023658403259800728), (1902, 0.023631163204337908), (2175, 0.023581618858044516), (35, 0.02356323119886578), (4484, 0.023540868962285955), (3890, 0.023515982182277337), (2, 0.023441288579218116), (1715, 0.023363436300304956), (1584, 0.023357763931091454), (3229, 0.023337774557677823), (1929, 0.023325737470606726), (757, 0.023322821768869417), (37, 0.023311113744462847), (1675, 0.023272726039842737), (3797, 0.023218876368013272), (1594, 0.023216477903719), (2031, 0.023088307928126457), (1557, 0.023076974553593952), (597, 0.02293733912465142), (4061, 0.022935361661651235), (4263, 0.022935361661651235), (3792, 0.022930912853005327), (803, 0.022885125324287905), (2292, 0.022872608267215024), (659, 0.02285463295821832), (3732, 0.022839679362574136), (4407, 0.022834615683151264), (982, 0.022812214092262136), (2293, 0.022707345836231425), (657, 0.022693245004768114), (1152, 0.022689820978008795), (3541, 0.022605910671289812), (3662, 0.02258101906184719), (3234, 0.022566997037017825), (3181, 0.022515440624656696), (222, 0.02246970723675803), (4482, 0.022420299785781823), (249, 0.02241360988462808), (1090, 0.022412521056032475), (1679, 0.022398577839148323), (653, 0.022303227075785092), (1925, 0.02230288899534742), (4320, 0.0222785666395964), (2412, 0.022203243636518023), (4066, 0.022019407820934686), (4268, 0.022019407820934686), (3540, 0.021965941492827726), (269, 0.02190602012925743), (418, 0.02186188702327356), (496, 0.021831715307640654), (4025, 0.021779972882400887), (4227, 0.021779972882400887), (1278, 0.021757741650175882), (1689, 0.021697179606444343), (723, 0.02168521342574774), (155, 0.021672709993070517), (1365, 0.02159063841408701), (2145, 0.021588957244294098), (3914, 0.021560085979603703), (4116, 0.021560085979603703), (3179, 0.02144866146602457), (566, 0.021411940337267676), (2864, 0.021405980616589604), (1494, 0.02135907218085656), (1843, 0.021339463525650314), (1376, 0.021338751118190835), (53, 0.02126925425874366), (3509, 0.021230777995240382), (3856, 0.02121013839895765), (3323, 0.021190323869015638), (2683, 0.02112831593626135), (3737, 0.02112197212327306), (2582, 0.021107752985977356), (4603, 0.02109860500803686), (1688, 0.02108790930317916), (4456, 0.021056689012636288), (57, 0.02104280585881605), (1105, 0.021008578738610468), (1495, 0.02100510681987462), (182, 0.020839309670397092), (2492, 0.020787808797619524), (2534, 0.020732390360575382), (1304, 0.0206808569085527), (1811, 0.020673358068258006), (785, 0.020672469969923196), (1517, 0.020594873274103438), (1162, 0.02059409188948918), (1621, 0.020572902696574656), (1038, 0.020544346083978128), (719, 0.020512762722571156), (407, 0.020473664633514393), (1959, 0.02044414436467266), (1527, 0.020431241540026512), (3073, 0.02042387313676819), (973, 0.020394806176979294), (1919, 0.020382673816328092), (2000, 0.020369300561081664), (1712, 0.020244137768413162), (2616, 0.020201416521898843), (2763, 0.02019675992115954), (2723, 0.020184854187924022), (3765, 0.02011379255975954), (2393, 0.020113741672858253), (2422, 0.020073842008036774), (208, 0.02006737481781384), (4394, 0.020044886305319136), (4791, 0.020021865473757894), (1506, 0.019999008411211824), (1113, 0.01994851170736757), (4738, 0.019922876689361185), (3268, 0.0198908976215986), (3141, 0.01989059368932221), (1668, 0.01988727184982497), (2167, 0.01987700350962388), (3345, 0.019867369567000265), (4089, 0.019862448651195887), (4291, 0.019862448651195887), (1664, 0.01979417143532211), (2367, 0.019786654414085197), (2427, 0.019782525085529485), (173, 0.019767216261782003), (1405, 0.01974915611426117), (2962, 0.019746979486729852), (266, 0.01969192344253756), (1700, 0.019686932617119162), (2370, 0.01966590676203724), (2646, 0.01966307741694876), (1915, 0.01962835328374665), (780, 0.01962488291998224), (1487, 0.01959654481958482), (2474, 0.019587968163114283), (4469, 0.019581787674566007), (1818, 0.019577293980041943), (1787, 0.01955709028381048), (1029, 0.019556416814703725), (2215, 0.01946250358590443), (293, 0.019433744012859036), (629, 0.019421160623561147), (2160, 0.019419785597974085), (4628, 0.01940375883419646), (3225, 0.019392934096274437), (1496, 0.01938107330369219), (3698, 0.019346072538621573), (1746, 0.019271428164437623), (452, 0.01926640345021361), (3699, 0.019258574076504564), (1176, 0.019245602984972878), (1523, 0.019224202682785154), (1958, 0.01921465325060035), (1088, 0.019210121149636224), (2071, 0.019184960316948902), (457, 0.01918198412057202), (813, 0.01917039411426805), (198, 0.019164963687999866), (1291, 0.01913456929887764), (3414, 0.019065818388964827), (1477, 0.019060808043603442), (4321, 0.018965021506487413), (4842, 0.018942859430596246), (3924, 0.01893684403526961), (4126, 0.01893684403526961), (338, 0.0188794939193934), (101, 0.0188756416863597), (4753, 0.01884747470332441), (109, 0.018786925391253723), (2036, 0.01878468326891375), (2996, 0.01878415066446694), (2236, 0.0187605820646615), (684, 0.018749626296966904), (3216, 0.018743779298191682), (3677, 0.01870730681403789), (2058, 0.018686177143054573), (635, 0.018671117363754805), (3212, 0.018645986886228254), (247, 0.018597633983093387), (898, 0.018590007771176295), (2005, 0.018582415623292), (3397, 0.018561526801107057), (3515, 0.01855657202923114), (1927, 0.01855410948266617), (1997, 0.01850028610565028), (3633, 0.01848491911598166), (594, 0.018456838059423754), (1846, 0.018370141703926136), (341, 0.01834679688794125), (7, 0.018343959973867088), (2252, 0.018339030037630245), (4633, 0.01822865168845977), (817, 0.018219209268334053), (488, 0.018199821690775966), (1812, 0.018177529322253257), (167, 0.01816939736360266), (4022, 0.01816535652285666), (4224, 0.01816535652285666), (225, 0.018164436123712567), (930, 0.01812750661270556), (74, 0.018089994514551965), (4467, 0.018029483722671862), (297, 0.018027709041583403), (862, 0.01799266065590938), (2121, 0.01795512700681028), (523, 0.017937433938266783), (4826, 0.017925371761260956), (3569, 0.01791433483504652), (2473, 0.017911790549560585), (1192, 0.017903025658671193), (164, 0.01790286368960658), (1255, 0.017891859416424145), (357, 0.017837800911190548), (1396, 0.017834119778257735), (737, 0.017814410607249406), (1647, 0.01780672345299124), (3238, 0.017803050969460166), (3743, 0.01773970242996366), (140, 0.017676265155299638), (2944, 0.01766032843941289), (1781, 0.017603370397311805), (1443, 0.01758711264075229), (1433, 0.01754033734226427), (2668, 0.017530419272880446), (1948, 0.01751843657193517), (685, 0.017495801675193236), (3458, 0.017485407747804257), (1254, 0.0174705087454272), (1111, 0.017427650007160924), (695, 0.01740672488000756), (3627, 0.01740441362221455), (1957, 0.017391529152795012), (3444, 0.01739081374493395), (56, 0.01737978168841599), (3656, 0.017361753994426302), (1087, 0.017352602954911596), (1214, 0.0173251595711226), (1413, 0.017319203608907992), (726, 0.017313708720633137), (2061, 0.017250497601234344), (4070, 0.017228215209344304), (4272, 0.017228215209344304), (1522, 0.01721128914732189), (2135, 0.017149083968873054), (1191, 0.017145169375711464), (2793, 0.017143544502674732), (39, 0.017140128714094656), (3956, 0.017090925252621344), (4158, 0.017090925252621344), (749, 0.017051635862737103), (135, 0.017034357512688055), (538, 0.01703245306054982), (645, 0.017027655778625406), (2818, 0.017006110873562554), (1341, 0.017003794830149938), (2509, 0.017000175934122567), (2665, 0.016999463346103135), (460, 0.016987607651716898), (259, 0.01694985697562807), (319, 0.016925074051243667), (501, 0.016914175121408907), (932, 0.016859901953695466), (1666, 0.016816684601215624), (3875, 0.01678080413753392), (3142, 0.016773291798865872), (2498, 0.01677300111702155), (3678, 0.016770181412655606), (3297, 0.016767754343001796), (1257, 0.016766585980594162), (3454, 0.01675300085349955), (1459, 0.01675080660631629), (727, 0.016731714457195374), (119, 0.016714049617604844), (705, 0.01668930128413578), (2610, 0.016663162510778796), (1893, 0.01665215648244355), (1453, 0.016649207522013383), (2632, 0.016620624928550078), (500, 0.01661829532733443), (344, 0.016574737533816355), (4884, 0.016548045658960214), (4778, 0.016535123978108152), (211, 0.016519710104732795), (328, 0.016509133072660182), (4661, 0.016488203528112894), (3970, 0.016482107443977163), (4172, 0.016482107443977163), (1060, 0.016479203116107777), (2062, 0.016476846650521758), (3696, 0.01647109806757202), (3010, 0.016455354200458756), (4860, 0.016444513979082382), (310, 0.016374765947582193), (1033, 0.016324188857373002), (3122, 0.016287260586468323), (1825, 0.016284170059207653), (798, 0.016255796666308265), (1001, 0.016249951338743313), (778, 0.01623842701721429), (2224, 0.016211572719604793), (1755, 0.01620162629288097), (4576, 0.016185834863550377), (911, 0.016184276123462182), (2765, 0.016172954801329274), (221, 0.016171582621319243), (4601, 0.016150199909996662), (962, 0.016143117178361192), (763, 0.016142648587008007), (1630, 0.016139271633660024), (1307, 0.016049694678732546), (3823, 0.016045827619405283), (1451, 0.016017596722047684), (4770, 0.0159913329504863), (3065, 0.01597745304316549), (963, 0.015954854668133813), (4530, 0.015925287853820684), (372, 0.015877955692258493), (2862, 0.01586456744069388), (1650, 0.01581807657270954), (1823, 0.01580905993735614), (568, 0.01578403318690185), (4854, 0.015773161378573545), (1297, 0.01576011264813152), (1354, 0.015736537282094516), (3711, 0.0156998593076633), (1066, 0.01569482486627175), (306, 0.015683120872866052), (122, 0.01567787501932756), (82, 0.015657247282236608), (569, 0.01565570824030199), (524, 0.015647499838488926), (1270, 0.015635262427986695), (2791, 0.015605636694747002), (901, 0.015593749978091497), (2301, 0.015563945570994078), (4055, 0.015555584681506703), (4257, 0.015555584681506703), (1208, 0.015552335780877795), (4106, 0.015540462351327104), (4308, 0.015540462351327104), (124, 0.01553518053577354), (934, 0.015514940940735472), (1888, 0.015501082583956882), (3548, 0.015499560861229042), (1039, 0.015498808595953366), (4110, 0.01548141077912141), (4312, 0.01548141077912141), (1503, 0.01547213047196027), (2931, 0.015450357317236808), (1964, 0.015414486781571245), (3825, 0.015410829515186302), (170, 0.015406697656063397), (2338, 0.015393156252133344), (4492, 0.015370744146538077), (2285, 0.015363368963749149), (3027, 0.015354721804263111), (1422, 0.015340324618545427), (981, 0.015336396228951223), (699, 0.015328439860129595), (2065, 0.015326201734074809), (948, 0.015303203354155602), (1817, 0.015299727483364578), (3327, 0.01527115591257428), (1095, 0.015223392018172814), (2581, 0.015212550960025283), (3201, 0.015206363283498489), (191, 0.015184412223552242), (2724, 0.01514465474083972), (1553, 0.015104928556931555), (3616, 0.015097126328458853), (4012, 0.015053280216911678), (4214, 0.015053280216911678), (2074, 0.015035254627355606), (1608, 0.015032814001639278), (2363, 0.01502469556975768), (2047, 0.015023192180685296), (4881, 0.01501475190276382), (277, 0.014967714409208226), (2237, 0.014950392100458275), (2975, 0.014949761638683673), (3403, 0.014928778450619774), (1136, 0.014918557553251756), (2730, 0.01491728090873545), (336, 0.014796166412257892), (1764, 0.014792086349466296), (762, 0.014785481258619818), (733, 0.01474841760476493), (3211, 0.01473509584889652), (692, 0.01471561075310574), (165, 0.01470291086398843), (874, 0.014680837066871347), (2177, 0.01467466535395854), (3129, 0.014627202442097515), (368, 0.01460901997297117), (978, 0.014604676413687925), (4546, 0.014599809365314879), (251, 0.014581857454870272), (3409, 0.014572273779053655), (2981, 0.014566704968616484), (1691, 0.014537157493955427), (2351, 0.014522483983213156), (177, 0.014511402779782868), (416, 0.014473685340716441), (3752, 0.014472379987400474), (288, 0.01445726409735576), (403, 0.014445232868013745), (776, 0.014380143552064559), (4031, 0.014362778374125286), (4233, 0.014362778374125286), (583, 0.014337474466176666), (1935, 0.014335332841691376), (3610, 0.01433215840507652), (2738, 0.014323123139143197), (153, 0.014308027738022389), (640, 0.014272784502739737), (904, 0.014269369038201004), (2841, 0.014258590645709791), (2720, 0.014229254989869863), (2985, 0.014206207157367354), (2287, 0.01419950111096548), (2221, 0.01419166553726183), (3222, 0.014190960957370987), (3172, 0.014188749532110573), (4405, 0.014096984147665522), (441, 0.01409492694830748), (1305, 0.014088657068508023), (1539, 0.01406479082388367), (2318, 0.014047549380079573), (4656, 0.014041929807026805), (738, 0.014037972393084821), (1758, 0.014033600969651654), (3364, 0.014028790980175426), (1392, 0.01402524932263817), (3866, 0.014015232331025031), (2587, 0.014000616689394495), (2012, 0.01399156436147141), (3751, 0.013988858085137447), (1241, 0.013986780514379184), (1321, 0.013985542199570133), (508, 0.013984709390144087), (4743, 0.013973546647288447), (3317, 0.013969034561450235), (1464, 0.013949236158139576), (412, 0.013931205077797947), (847, 0.013929213436656627), (3858, 0.013912182914897864), (2079, 0.013877450037509183), (2486, 0.013852538137938809), (38, 0.013844666935018658), (2608, 0.01382493590246912), (4323, 0.013820969014449902), (2873, 0.0138116972035409), (2339, 0.013806554047678847), (4662, 0.013773005527215797), (4064, 0.01376139015243316), (4266, 0.01376139015243316), (4108, 0.01373532310533205), (4310, 0.01373532310533205), (1928, 0.01373398679807543), (789, 0.01372982928212547), (3039, 0.013728557682319426), (4876, 0.013675376987249889), (2672, 0.013655184560306299), (3822, 0.013622861874947836), (3221, 0.013599138081081206), (2013, 0.013598757115489512), (477, 0.013578548989399714), (309, 0.013562304814776513), (2436, 0.013557259337351357), (2766, 0.013549284263636517), (2022, 0.013534283860882476), (2218, 0.013517605148493567), (687, 0.01346363190514508), (1467, 0.01340997216198898), (1486, 0.013382986047759915), (159, 0.01337039029214436), (4428, 0.013359558003885896), (1733, 0.013306066074433028), (3730, 0.013278587110063592), (3152, 0.013275807928480732), (2458, 0.013241520566210127), (2494, 0.013114292387159384), (1246, 0.013107136953731106), (1390, 0.013078099484058778), (1520, 0.013067300310670342), (1907, 0.013061083398714233), (4553, 0.013047261650656714), (4694, 0.013047056758492848), (1005, 0.013044433830196963), (775, 0.013037732206107655), (2637, 0.013027645599102602), (2086, 0.013020368635296499), (1537, 0.013019584733818892), (2712, 0.012999612306496303), (2940, 0.012998606584102169), (1282, 0.012978349317850472), (2817, 0.012977537253018824), (3218, 0.012965807309844896), (392, 0.012937852431380886), (228, 0.012904568022224039), (361, 0.012902440022033754), (3464, 0.012861762511914588), (2755, 0.012854300455755672), (2562, 0.012826731850041271), (3259, 0.012812070821021485), (1578, 0.012809841687655008), (3277, 0.012795880267932316), (781, 0.01277945232296877), (2633, 0.012763028128519123), (1336, 0.012749237951329389), (3150, 0.012730346138768547), (1006, 0.012725156752794977), (1881, 0.012721249700129524), (3378, 0.012719352671045379), (2675, 0.012715373635395455), (1718, 0.012712307154401711), (1660, 0.012706110555537066), (1648, 0.012702908457480556), (3018, 0.012701882856514562), (3599, 0.01270102069596114), (3144, 0.012689928721169681), (4650, 0.012685689319888161), (2531, 0.012672592050891149), (4688, 0.012669428382376335), (1047, 0.012662802286797914), (1851, 0.012643127383332613), (2546, 0.012639156907046005), (1471, 0.012631682129172024), (1613, 0.012623547694743647), (787, 0.012622962915135564), (2241, 0.012621722900687773), (1364, 0.012620374746343501), (3648, 0.012618834975952616), (1155, 0.012610339632893002), (2511, 0.01258878154103356), (2816, 0.012582128987660073), (2222, 0.012548288504183339), (971, 0.01253698378719876), (1961, 0.012513650768648405), (807, 0.012510174175485275), (4590, 0.012509624043590364), (3392, 0.012497142010657847), (2431, 0.012489170046818437), (1525, 0.012474475758985259), (1306, 0.012423622432205168), (110, 0.012421958268206475), (3526, 0.012415999004232486), (908, 0.012407984518609673), (1425, 0.012391682830915931), (2444, 0.012382187848155554), (3283, 0.012362984107223095), (929, 0.012358834170093036), (3303, 0.012356040857949934), (28, 0.012353614356995866), (1587, 0.012339813576421856), (4337, 0.012336372826891779), (4412, 0.012327480753835867), (1751, 0.012311338407575664), (2487, 0.012298952687777191), (945, 0.012289001684797466), (3386, 0.012288291870040189), (2193, 0.012252449034346104), (1577, 0.01225081575937333), (504, 0.012225548168701613), (736, 0.012217030783507176), (529, 0.01221189921004518), (1804, 0.012192999285119788), (1170, 0.012173292725966865), (264, 0.01217022419548349), (3343, 0.012147396045310932), (3033, 0.012140225037715469), (931, 0.012132363640480624), (2046, 0.012130200206028535), (553, 0.012118764943246011), (4837, 0.012108291006438853), (4794, 0.01210586548573638), (3270, 0.012090445005874369), (1022, 0.012087653250841442), (525, 0.012076095762926287), (346, 0.012070936241416898), (1238, 0.012050945994620461), (3477, 0.012039469400746527), (1411, 0.012016191814715334), (4314, 0.012012620742122991), (4112, 0.0120049234298431), (1986, 0.012002409320611408), (1130, 0.011990588110060795), (1447, 0.01198652404372473), (243, 0.011973428258555173), (169, 0.011947312107548543), (4420, 0.01194365162661348), (2807, 0.011941512415838382), (2329, 0.011935390722337099), (3644, 0.011932015943929505), (215, 0.011928056448447327), (2128, 0.011926752723107911), (3066, 0.011858945763466574), (2504, 0.011854656924027549), (4644, 0.011835141511333174), (2322, 0.01182692380007735), (4597, 0.011803356841266583), (1373, 0.011801932969089159), (2003, 0.01178255126568641), (330, 0.011779084016860307), (4766, 0.01176048955286136), (345, 0.011759960488405972), (3127, 0.011756993072512056), (1368, 0.011751162011792497), (3641, 0.011747424937230855), (1267, 0.011740671679925301), (773, 0.011736407266619503), (1597, 0.011726696147921146), (2131, 0.01172503374072095), (4454, 0.011722545419886732), (3149, 0.011718927291250725), (521, 0.011717110398472615), (3562, 0.011713801212382805), (2642, 0.0117092959967331), (3886, 0.011674220205634168), (3246, 0.011671337265241827), (585, 0.011668901615505014), (2829, 0.011655973848526785), (427, 0.01165490125458784), (3868, 0.011619871670817778), (2897, 0.011619579354017497), (1877, 0.011609859667771642), (883, 0.011583903091341325), (498, 0.01157026887213946), (2409, 0.011564873666448525), (45, 0.011554555275936396), (4474, 0.01154693249095989), (2706, 0.011538932185822193), (1738, 0.011534632567161782), (2631, 0.011508020709631812), (3646, 0.011499083734620722), (3712, 0.011494648118014726), (1895, 0.011464845958578036), (2311, 0.011440628420833761), (4459, 0.011438294458984304), (507, 0.01143621397953838), (2303, 0.011431664771544836), (2812, 0.011429262202576377), (1973, 0.011428689670751172), (484, 0.011422456407561584), (1914, 0.011418934275918497), (1824, 0.011404154092201274), (3320, 0.011397927256287816), (279, 0.011377997577979746), (3071, 0.011373698203520806), (4758, 0.01136572939990185), (1903, 0.011365174247361264), (3909, 0.011341229678964235), (2992, 0.011337914392745613), (2673, 0.011322585944181915), (3083, 0.01129475322868083), (690, 0.01129215749651479), (2874, 0.011287313173706433), (1642, 0.011276214922804395), (2446, 0.011272086322834982), (417, 0.01127025657100435), (454, 0.011266940404512291), (3321, 0.011250974483227365), (3328, 0.011216421150282185), (2497, 0.011206972612851682), (4109, 0.011202024382400286), (4311, 0.011202024382400286), (1984, 0.01118444824402597), (409, 0.011183704220478067), (3389, 0.011183506685521977), (4376, 0.011178747232680489), (4646, 0.011158874574418531), (907, 0.011157419026168668), (788, 0.011156303666793705), (4802, 0.011152148829400209), (1308, 0.01113842056455349), (957, 0.011134043317802102), (3571, 0.011119099215045215), (821, 0.011110249392698128), (1524, 0.011109711160356021), (3563, 0.01110570596158405), (2954, 0.011105592337601318), (1714, 0.011105469419691767), (1794, 0.011095890501144177), (3145, 0.011089780773221746), (1288, 0.011041142016817922), (3295, 0.011037314041604112), (1784, 0.011021228710801537), (3311, 0.011013571769309567), (1626, 0.011007968499039204), (1173, 0.011003804713102201), (4849, 0.01098217574011321), (2645, 0.01097866365170792), (2262, 0.01094499686702464), (2514, 0.01091927452799408), (664, 0.010898286117262328), (3108, 0.010887822896445964), (577, 0.010887218068675543), (885, 0.010882878913484087), (3865, 0.010870895782310182), (4848, 0.010866712428894969), (1548, 0.010829739435553775), (2156, 0.010827090024300066), (1025, 0.010826729843741468), (1994, 0.01080939125985402), (3578, 0.010798884218251087), (497, 0.010790361958127638), (1394, 0.010781414559469103), (91, 0.010770797582831816), (1468, 0.010770008325421566), (3598, 0.010766607461572696), (820, 0.01074443068364463), (545, 0.010669369429078559), (4358, 0.010641910495316369), (3638, 0.010630145319578052), (3803, 0.01061434542289464), (2805, 0.010610600432320453), (1482, 0.010609694614873749), (4814, 0.010597303952354304), (2118, 0.010586522782405067), (4444, 0.010571613968601816), (4555, 0.010567873673625152), (3684, 0.010557294018516478), (4473, 0.010549711256337007), (3748, 0.010532141643252299), (1521, 0.010518705062034594), (4862, 0.01051433576176159), (1669, 0.010478773186237309), (1850, 0.010460357526601812), (86, 0.010451022478922892), (3393, 0.010442473637638856), (4396, 0.010437957661764996), (60, 0.010398128323688825), (3579, 0.010365918046264619), (3733, 0.010355225204501998), (2933, 0.010312394742213776), (3502, 0.010304469047363544), (1178, 0.010303994643833483), (3164, 0.01029890744486528), (2855, 0.010298060264871357), (2204, 0.010291916605466184), (1312, 0.010254489822922517), (195, 0.01025209226882666), (3674, 0.010248317866765923), (970, 0.010245516953758794), (3481, 0.01021010669157364), (2296, 0.010205080678715199), (2211, 0.010199748988643153), (1981, 0.01012872986800029), (512, 0.010116946205316356), (4002, 0.010115204119056784), (4204, 0.010115204119056784), (1343, 0.01011505446384446), (3430, 0.010101533849700736), (3951, 0.01008986980847359), (4153, 0.01008986980847359), (4796, 0.010051210956346012), (25, 0.010038570188546493), (1571, 0.0100252795307967), (4651, 0.010013617032907653), (1968, 0.009995910823305464), (491, 0.009968198338937938), (4679, 0.009958977211428067), (3450, 0.00989557072224141), (3312, 0.009893053947392127), (4483, 0.009871367606558278), (156, 0.009867072185788035), (448, 0.009844357142272128), (3230, 0.009824757868366417), (614, 0.009810226785501388), (4639, 0.009788888641278944), (1381, 0.009773744661799994), (2560, 0.009771503695686778), (380, 0.009768847275342744), (3410, 0.009766680458702222), (2785, 0.00975471122499153), (3651, 0.009750766599220464), (2774, 0.009709818932155185), (510, 0.009698451832214676), (3538, 0.009687591167709755), (424, 0.009674569345859724), (2638, 0.009668579026904985), (4664, 0.009668249424198899), (1887, 0.009662738564644429), (425, 0.00965609842683253), (2377, 0.009647442891824388), (666, 0.009638331119939478), (681, 0.009636284459689804), (683, 0.009627518042063844), (2470, 0.009622411599387483), (1011, 0.009616809225913962), (2532, 0.009616517895095931), (3587, 0.009614763744656576), (4570, 0.00960987917965939), (3469, 0.009605159783840717), (2740, 0.009600426689696897), (1716, 0.009555843525914248), (1858, 0.009546877442591398), (250, 0.009526984627800194), (747, 0.009511619872041473), (4077, 0.009508725339422331), (4279, 0.009508725339422331), (3877, 0.00950871913154226), (2840, 0.009504786649403085), (701, 0.009500637676903022), (1474, 0.009496684715198605), (4091, 0.009495075099103462), (4293, 0.009495075099103462), (3817, 0.009494276572615363), (4322, 0.009493642882417795), (3857, 0.009461914173359443), (2854, 0.00945487923130251), (4733, 0.009444449031930537), (2112, 0.009416763106383187), (4013, 0.00940946957316795), (4215, 0.00940946957316795), (1725, 0.009403133638930286), (48, 0.00939357064438375), (677, 0.009380589407038873), (371, 0.009378027434369026), (421, 0.00937522339923721), (2233, 0.009367975970432397), (700, 0.00935590129346034), (2739, 0.00934277515678821), (3626, 0.009329046776948808), (123, 0.00932734717929441), (1043, 0.009323773517025853), (102, 0.009316761720541458), (4540, 0.009314425567381506), (4076, 0.009310220429138517), (4278, 0.009310220429138517), (675, 0.009307640943921352), (2037, 0.009299460515063472), (1056, 0.00928889533037932), (369, 0.009276682344424327), (342, 0.009274132320464699), (3516, 0.00925853240440292), (704, 0.009214723896918723), (192, 0.00921075457061153), (4038, 0.009203866982995083), (4240, 0.009203866982995083), (3586, 0.00919213411084671), (4638, 0.009185964845975452), (232, 0.009184255943541112), (1150, 0.009178575962796958), (1952, 0.009177862054218139), (420, 0.009164544689956583), (1798, 0.009143770752708126), (1140, 0.009140556919772511), (1277, 0.009134638250712786), (2263, 0.009131195579399174), (4471, 0.009123101285864039), (2964, 0.009122579029777422), (3131, 0.009118255954397888), (2609, 0.00911313636678052), (2725, 0.009108414261336583), (3457, 0.009108386179123164), (2283, 0.009100838365905407), (1031, 0.009099406820583428), (10, 0.00909686001191197), (3780, 0.00909328622257606), (1619, 0.009087658843377602), (4608, 0.009086524403319007), (792, 0.009074086087971264), (603, 0.009072560390812097), (2418, 0.009066726493298727), (680, 0.009064832430221704), (2330, 0.009048402373531791), (913, 0.009047431979632216), (1896, 0.009044768544992997), (748, 0.009041821514576727), (1687, 0.009041657317773401), (239, 0.009034709302457379), (2689, 0.00903308666739337), (3724, 0.009031723156774479), (2719, 0.009028613762082032), (2792, 0.009028513484266995), (3618, 0.009027284463503241), (765, 0.009025588227514753), (483, 0.00902538089132544), (301, 0.009023566464763277), (4815, 0.009019746893065263), (3777, 0.009011452309152651), (3920, 0.009006688544746696), (4122, 0.009006688544746696), (1502, 0.00900236134200428), (3959, 0.008997375240939295), (4161, 0.008997375240939295), (3103, 0.008990724596448296), (3264, 0.008984176865656562), (891, 0.008980512325487496), (1380, 0.008979987036774056), (599, 0.008975811655502108), (1185, 0.008974961193448995), (2790, 0.008973003110946894), (600, 0.008972731235095269), (1859, 0.008971184638140282), (1104, 0.00897014987895208), (1402, 0.008937186230925091), (4831, 0.008928094528759865), (4565, 0.008927506789516754), (4464, 0.008921812535241632), (928, 0.00891244516491123), (2640, 0.008909572090298537), (298, 0.008900240278764276), (4823, 0.008900133242587182), (2015, 0.008899925368921363), (201, 0.008895179719945318), (717, 0.0088801213439707), (4338, 0.008878225580703803), (2691, 0.008877323581842372), (551, 0.008861175837674018), (2259, 0.008853566083659493), (2911, 0.00885108876264089), (3832, 0.008850666522620884), (588, 0.008845880419868139), (3778, 0.00884539584235674), (1048, 0.008845240907275283), (3507, 0.008842915116534572), (3536, 0.008839164931885347), (4581, 0.008836880215273723), (2016, 0.00883571158494253), (189, 0.008835026192739901), (3446, 0.008831915601068148), (11, 0.00882782385565137), (216, 0.008822665274542764), (2072, 0.008821117183096742), (4669, 0.008819032822927592), (918, 0.008817075351629608), (3463, 0.00880074708063893), (2126, 0.008799060523469081), (137, 0.008794182359280289), (2053, 0.008787746696968288), (631, 0.00878312665067114), (3233, 0.008781466131456337), (472, 0.008776451126422901), (1636, 0.008770680502810426), (2334, 0.008770016825735815), (4068, 0.008769016569371547), (4270, 0.008769016569371547), (1768, 0.008756687914850148), (1077, 0.008740893913672705), (4006, 0.008738011446615238), (4208, 0.008738011446615238), (3701, 0.00873720219032522), (1431, 0.008726991301645693), (2784, 0.008725424772618387), (2977, 0.008725189019000745), (2619, 0.008722144676671172), (4485, 0.008710992735569842), (4391, 0.00870597812235231), (850, 0.00870034666346043), (3810, 0.008696819301998773), (1266, 0.008696713074648534), (919, 0.008691653064521155), (2421, 0.008682150428960042), (1250, 0.008678032465159155), (1704, 0.008677928991915128), (2045, 0.008677841697270136), (832, 0.008658761272471872), (3643, 0.008656616198633107), (2210, 0.008655082030457095), (3963, 0.008653479603623032), (4165, 0.008653479603623032), (353, 0.0086405064859661), (131, 0.008639441668402964), (2278, 0.008635930164097248), (83, 0.008623318427334152), (1985, 0.00862074707754191), (2647, 0.008619745685919753), (4705, 0.008617393641713269), (3551, 0.008612502279918575), (209, 0.00861097324899191), (2109, 0.008610492315693765), (1510, 0.008598831139531766), (864, 0.008598804175781643), (4339, 0.008597318651650516), (2501, 0.008595979208754441), (2414, 0.008593084211616909), (104, 0.008591557511856886), (3955, 0.008590260520550102), (4157, 0.008590260520550102), (343, 0.008589720749164307), (993, 0.0085881507228333), (2169, 0.008587901174331712), (1574, 0.008584026905510762), (4888, 0.008573431685546452), (1908, 0.00857231560765875), (1346, 0.008567946625583427), (3125, 0.008566601788458016), (4957, 0.00855603451275662), (347, 0.008555078093149584), (3612, 0.00855158249396546), (3564, 0.008551557131962047), (4806, 0.008551291991810386), (1223, 0.008543749427668253), (560, 0.008541914274658818), (3491, 0.008539620416106905), (2900, 0.008532574615726431), (1374, 0.008530526764346518), (272, 0.008522904824621542), (299, 0.008521257327791812), (2198, 0.008519938726394083), (1179, 0.008518774364186738), (4532, 0.00851874544780181), (3492, 0.008517721134291074), (1262, 0.008513399426742715), (280, 0.008509605712851741), (305, 0.00850656735227293), (2246, 0.008503994745388797), (2250, 0.008501777150559447), (2195, 0.008491587888104614), (3174, 0.008490456373469443), (3330, 0.00848958747692507), (3594, 0.008486236140052955), (79, 0.008483203992223456), (105, 0.008479783383371037), (3435, 0.00846919787442025), (610, 0.008458296745743275), (439, 0.00845453136783236), (1239, 0.008452852327042074), (894, 0.008449455040377708), (2480, 0.00844871877017351), (2503, 0.008446377402046908), (348, 0.008441925615082167), (4443, 0.008439641097004492), (3374, 0.008438902884379219), (3994, 0.008437074349439114), (4196, 0.008437074349439114), (1059, 0.008433475194329316), (65, 0.008432494922042155), (3917, 0.008431157024143368), (4119, 0.008431157024143368), (1442, 0.008428867673085958), (769, 0.008418533745012), (3237, 0.008414588636860404), (1314, 0.008411631139548568), (2463, 0.008407944373343605), (613, 0.008401079481170743), (2416, 0.008401064075669994), (1857, 0.008391465002717627), (1338, 0.00838711405181825), (1852, 0.00838643394046284), (3746, 0.008376333682305032), (4887, 0.008374230134638843), (4486, 0.008364620033745824), (1551, 0.00836411268904035), (3368, 0.00836385364582541), (3557, 0.008360703380337672), (150, 0.008359941494196978), (3046, 0.008359873716213334), (1807, 0.008350811183084297), (4359, 0.00835057662987203), (2713, 0.008350291425978314), (3709, 0.008342292107530635), (84, 0.008342208546418753), (3412, 0.008323498793670267), (2910, 0.008322252256679737), (152, 0.008321415049532552), (1653, 0.00831889358461939), (4801, 0.008318005844744097), (4589, 0.008316434639018482), (618, 0.008311651979302385), (1035, 0.008308552533592554), (4752, 0.00830768394039689), (2029, 0.008307261679812583), (1617, 0.008306264284247163), (2178, 0.008297478273238026), (2698, 0.008292882985846824), (2103, 0.008285900896526149), (72, 0.008278792297055802), (1645, 0.008262598112461644), (3240, 0.008259439502259566), (790, 0.008253182331438817), (4674, 0.008246325379352746), (1146, 0.008241919240566584), (3011, 0.008237324379786835), (2571, 0.008233471893167225), (2432, 0.008233040944391774), (4706, 0.008232632445334589), (2245, 0.00822960894047889), (2612, 0.00822781158272154), (3950, 0.008226124236224321), (4152, 0.008226124236224321), (1493, 0.008223985776601439), (2893, 0.008222882075804681), (1201, 0.008218265601992005), (2027, 0.008216886830780359), (1969, 0.008216532059970848), (1347, 0.008212048960211977), (3786, 0.008211355428190823), (3826, 0.008208752668105541), (112, 0.008207450774637349), (915, 0.008202951446342973), (1463, 0.008200079341375673), (223, 0.008198623869244134), (4683, 0.00818442560784015), (179, 0.008183785608136714), (4640, 0.008181605530751005), (486, 0.00817871540227439), (3967, 0.008176364921232304), (4169, 0.008176364921232304), (3567, 0.008176252983113088), (3568, 0.008174671550696688), (782, 0.008173492227873256), (138, 0.008171838854604981), (1632, 0.008171756055144079), (4481, 0.008166177560030297), (18, 0.00816479132347805), (3053, 0.008159020135158717), (3504, 0.008154255012470354), (4357, 0.008147349367133974), (4059, 0.008141735490756266), (4261, 0.008141735490756266), (356, 0.008131427361959593), (29, 0.008130615386940843), (1218, 0.008130458339881479), (854, 0.008130279524237808), (284, 0.00812565505154622), (2852, 0.008118342378831083), (3151, 0.008111426172032874), (3465, 0.008102908671250141), (1375, 0.008101458560509823), (1710, 0.008101375408302188), (4026, 0.008100687954213268), (4228, 0.008100687954213268), (2304, 0.008099922149807006), (3784, 0.008097977359692868), (1132, 0.00809705533370074), (1274, 0.008092566647913411), (4643, 0.008089261169902688), (1988, 0.008084224013519008), (260, 0.00808414005644344), (767, 0.00808217664530253), (2859, 0.008081077648341645), (644, 0.008080320466607246), (4009, 0.008078575887477759), (4211, 0.008078575887477759), (3293, 0.008076906833416336), (2892, 0.008076579014031252), (171, 0.00807423185043134), (1404, 0.008067245815526564), (4326, 0.008062001580063306), (3361, 0.008060743923907416), (1756, 0.008059549623369126), (408, 0.008054494481306934), (2094, 0.008053543408086238), (3133, 0.008052865900825379), (3192, 0.00805187593571852), (1742, 0.008051344419815464), (3566, 0.00804864993274519), (388, 0.00804790557396677), (878, 0.00804057373540689), (966, 0.008039259600471488), (3966, 0.008038707699243253), (4168, 0.008038707699243253), (3819, 0.008038124806045816), (387, 0.008037819952507864), (2899, 0.008029743902575508), (2525, 0.00802718442883325), (3407, 0.008025731260560755), (3193, 0.008024595876942325), (2023, 0.00802104591251411), (742, 0.008004370048322017), (3057, 0.008001799164649387), (2662, 0.00799997342202013), (1723, 0.007998887620809173), (1793, 0.007997552948112243), (661, 0.007995855097065158), (2139, 0.00799435305554822), (974, 0.007990040804904732), (1682, 0.007985861009390085), (492, 0.007985265025992859), (1620, 0.007983641140564005), (2938, 0.007974660500955105), (4750, 0.007970819316318028), (3399, 0.00796730843197742), (2552, 0.007959260101217136), (810, 0.007959009648893638), (2682, 0.007949300916052579), (1555, 0.007944181343709646), (1662, 0.007940048163297643), (4836, 0.007939036583563385), (3342, 0.007932167044195585), (410, 0.007929939476058741), (3280, 0.007929692011542432), (1803, 0.007920890874218895), (549, 0.007920369504286063), (866, 0.00791234744292164), (4094, 0.007907670061406595), (4296, 0.007907670061406595), (744, 0.007900059370517696), (2317, 0.007898934582233712), (96, 0.007898432368534965), (9, 0.007893837908114662), (1068, 0.007890045802759885), (3854, 0.00788794652684078), (1052, 0.007883663875788847), (240, 0.007880930375201564), (2777, 0.007876115106039137), (805, 0.007873930879841938), (4604, 0.007873892178547797), (899, 0.007867648737101723), (335, 0.00786634453952898), (324, 0.007866151946985433), (1114, 0.007852342569305285), (4544, 0.007848165637666969), (4378, 0.00784691074465682), (2482, 0.007842833874182971), (3306, 0.007842342069524312), (590, 0.007840828054291763), (1875, 0.007834878488691258), (669, 0.007833846443587728), (2920, 0.00782267840889655), (4057, 0.00781899627876073), (4259, 0.00781899627876073), (94, 0.007817851120615598), (411, 0.007816270528911711), (80, 0.007815138375548439), (1782, 0.007793304451155253), (354, 0.007789893489099762), (4541, 0.0077837025119462345), (4891, 0.0077801449252886765), (1568, 0.007770761140018984), (511, 0.007770473157909297), (1360, 0.007765659788845473), (1990, 0.0077633492559738525), (4549, 0.007760045840314906), (2749, 0.007756380559816421), (291, 0.007755602824591446), (413, 0.007749540131217356), (3459, 0.007738750655575809), (148, 0.007737372298974511), (4435, 0.007735291326001091), (352, 0.0077352572825281594), (1595, 0.00773053885963258), (246, 0.0077212890942026345), (1171, 0.00771615402350468), (2055, 0.0077128935546207445), (2499, 0.007705442759090513), (1809, 0.007692850827745778), (456, 0.007685294485590374), (1220, 0.0076788011186759465), (1000, 0.007668933924120236), (4345, 0.007663761978115831), (2566, 0.007661575399145218), (722, 0.007653385639276316), (3841, 0.007647414791795303), (4792, 0.007642990059002128), (327, 0.007642062616389912), (3111, 0.007640823156234684), (1808, 0.007632639084111135), (1762, 0.007610104245749322), (2929, 0.007609859773884912), (3360, 0.007588238346807914), (1384, 0.0075695148294003655), (4652, 0.007559013180115742), (33, 0.007546090708610958), (882, 0.007535751129149394), (495, 0.0075316689811067185), (166, 0.007530207712893884), (2148, 0.007520488791477627), (1186, 0.007512348618537502), (2906, 0.00750296817776973), (184, 0.007501139079289801), (2106, 0.0074953136700439), (756, 0.007488988443251236), (2234, 0.007487068192983537), (4830, 0.007484434682769595), (3894, 0.0074816752819113945), (2726, 0.007478357301526639), (97, 0.0074735948347634485), (3016, 0.007473216616079209), (1301, 0.007444388977373017), (1018, 0.00743773234205399), (1585, 0.007425735828093264), (3655, 0.007419921301350916), (924, 0.007412728846499934), (1772, 0.00740356307656877), (1559, 0.007376737773254037), (1828, 0.007370917397928951), (2294, 0.007367129544387332), (2942, 0.007363186511861637), (2842, 0.007359453773137761), (3928, 0.007357854938476558), (4130, 0.007357854938476558), (234, 0.007331833821106962), (1546, 0.007327527594258913), (2761, 0.007326802320083788), (2801, 0.0073249141585648905), (4360, 0.0073163493513576225), (2611, 0.007310258228959886), (3927, 0.007303042117420118), (4129, 0.007303042117420118), (2291, 0.007297320793738689), (2070, 0.007288784699357453), (1215, 0.007284266675007738), (3776, 0.0072838207037465765), (1565, 0.007281273827233184), (475, 0.0072811759965691345), (1707, 0.007279676202870949), (1120, 0.007276805411788005), (779, 0.007272507640621677), (1488, 0.007271711535995545), (665, 0.00727019513789217), (1802, 0.007268227562367156), (3376, 0.007267319672995224), (3731, 0.007253279871768724), (1743, 0.007250779773113413), (725, 0.007247627678609613), (3200, 0.0072417845000792005), (1046, 0.007229688581020971), (1352, 0.007223715339842197), (1910, 0.007219544456045131), (3957, 0.007218766138510048), (4159, 0.007218766138510048), (331, 0.0072149290242796305), (3668, 0.007212403357232826), (639, 0.007206689415501979), (1845, 0.00719429809335264), (2627, 0.007184590590419628), (1279, 0.007183459535894247), (547, 0.007172821421826006), (3764, 0.007159350748039347), (575, 0.007153273100258593), (78, 0.007150330376519195), (3821, 0.007148504944483874), (58, 0.007140135320580792), (2127, 0.007139298957207241), (1508, 0.007136985843989486), (64, 0.00713166171009437), (186, 0.007120365803896054), (3713, 0.007111689137115541), (2973, 0.007097799477373015), (3484, 0.007093402233934737), (2481, 0.007087784429558831), (2789, 0.00708686440442337), (2663, 0.007084292804501704), (1221, 0.007078984113188768), (442, 0.007064279178929214), (3585, 0.007062861948672823), (2969, 0.00705389604328488), (3944, 0.007051063204794308), (4146, 0.007051063204794308), (4921, 0.007050992182141714), (2563, 0.0070379252625559895), (88, 0.007031520790458333), (1592, 0.007027781288081446), (1530, 0.00699202635655593), (3352, 0.006977665361108446), (2526, 0.006976197715762997), (381, 0.006963967401317779), (1950, 0.006947273457966246), (3309, 0.0069354438857126945), (3980, 0.00692936645795195), (4182, 0.00692936645795195), (237, 0.0069196863204525364), (1377, 0.0068885204819723565), (2823, 0.0068652007181638055), (3077, 0.006862502119436931), (1395, 0.006847703353546767), (3622, 0.006794888270677146), (1868, 0.006789445550403957), (1144, 0.00678430377138779), (294, 0.006782605117621078), (2078, 0.00677670079984858), (3319, 0.006773580889369301), (1886, 0.006768747286555607), (3147, 0.0067568905924412035), (3137, 0.006744378502665164), (3362, 0.0067346139235063135), (668, 0.006728863223572777), (168, 0.006698724813564231), (2326, 0.006682070383216541), (853, 0.006599201102224817), (3098, 0.006589710668954077), (3418, 0.006579074654745641), (3983, 0.006574148456539499), (4185, 0.006574148456539499), (106, 0.006568098616933073), (3316, 0.006555315912198293), (1690, 0.006531865313070504), (3667, 0.006511808615280106), (562, 0.006465558434595098), (4616, 0.006445749506863436), (2398, 0.006431612560181127), (3356, 0.006419102507661624), (4575, 0.006412268014355363), (2636, 0.00639499736441737), (3546, 0.006346942189318547), (4018, 0.006333183248931634), (4220, 0.006333183248931634), (3630, 0.006283640016588848), (2523, 0.006283385051674474), (2747, 0.006280548086110384), (1309, 0.006223215579065734), (4954, 0.0061004262864078965), (2737, 0.006062251724207725), (3365, 0.006022718768366599), (2597, 0.0060217286473949975), (4373, 0.006018074640991973), (113, 0.005961524837798587), (4700, 0.0059444991753560975), (3475, 0.005890581807278229), (3552, 0.005883327818321379), (2701, 0.005869212194739285), (1509, 0.005817628234336418), (4773, 0.005791106511793591), (3178, 0.005750677340362756), (3115, 0.005652585625370543), (2703, 0.005631288376579454), (2443, 0.005586033986571003), (3512, 0.005554202068946711), (3088, 0.005386741837552301), (2669, 0.005358365401114687), (2657, 0.0052995208844285316), (764, 0.005293717220412106), (2529, 0.0052774853190520835), (2312, 0.005254841888475133), (2379, 0.0052373024930167725), (2659, 0.00523018017997706), (2490, 0.00521805571911456), (2764, 0.005159847902920743), (2858, 0.005145643506626647), (3139, 0.005140910415445262), (2891, 0.005128070823994263), (2137, 0.005126632475585817), (996, 0.005114024511457433), (4682, 0.005101545658226158), (3949, 0.005101219218903603), (4151, 0.005101219218903603), (2722, 0.005095342098165999), (2500, 0.005077718461327375), (3009, 0.005076899218942025), (3040, 0.005061287225196003), (3266, 0.005049272124513881), (3166, 0.005034275611877852), (2395, 0.005021515471742797), (3796, 0.005011256289383873), (4441, 0.005010916142480888), (2537, 0.004969967459744905), (2667, 0.004940002623753055), (4902, 0.004931234926397349), (2404, 0.004927253279814875), (2922, 0.0049249939290611795), (2990, 0.004907187778389215), (4424, 0.004865281130493922), (2731, 0.004860520291564596), (3204, 0.004852974639147421), (3479, 0.004840752850445662), (4686, 0.004834966983043352), (1939, 0.0048127254781285215), (2281, 0.004807344797298781), (3800, 0.004792147769790357), (4084, 0.004786917141696484), (4286, 0.004786917141696484), (4400, 0.004784858452081577), (2483, 0.004781921473313245), (4040, 0.00478019657916747), (4242, 0.00478019657916747), (2715, 0.004769187790105501), (2832, 0.004749964490969363), (2536, 0.004749622045502799), (3936, 0.004728979242378917), (4138, 0.004728979242378917), (2199, 0.004723530082089773), (4739, 0.004717751339969172), (2948, 0.004715572290724467), (3892, 0.004712755580403599), (4102, 0.004707240027973192), (4304, 0.004707240027973192), (2928, 0.004689032263374438), (3217, 0.004685064234948525), (4368, 0.004683050227614445), (2282, 0.0046611864433489325), (2941, 0.004660584718705737), (3988, 0.0046563250179837284), (4190, 0.0046563250179837284), (3078, 0.004654711378748116), (2838, 0.004641672478154218), (4642, 0.004638468396656615), (2875, 0.004610399505658434), (2455, 0.004602817088890919), (4058, 0.0045935117907772065), (4260, 0.0045935117907772065), (3922, 0.0045927026220616085), (4124, 0.0045927026220616085), (3740, 0.004589763713984065), (2600, 0.0045718997100820825), (2983, 0.004571359748846825), (3087, 0.004568974253148297), (2423, 0.0045650399606256085), (3844, 0.004561402153916531), (2543, 0.004549873428238212), (2308, 0.004548989677768355), (3357, 0.0045226433322021), (2939, 0.004519972637989199), (3592, 0.004516792438576274), (4923, 0.0045123220506842155), (3671, 0.004511478565372488), (2515, 0.004511097210188737), (4401, 0.0045055429273255804), (3537, 0.004494152228681523), (2857, 0.004489252175283319), (3074, 0.004457676694130417), (2797, 0.004434589343195952), (3996, 0.004433973851054559), (4198, 0.004433973851054559), (4927, 0.004428865708176887), (3089, 0.0044275768065516275), (2077, 0.004427498927292397), (2488, 0.0044241010179027545), (4349, 0.004412514440154566), (3544, 0.004409267427451453), (2781, 0.0044090165228218734), (3020, 0.0044023343623314755), (4833, 0.004400789198233955), (4922, 0.0043977383896806384), (3554, 0.004386055171137586), (3257, 0.004378317036560145), (4716, 0.004377690415183319), (751, 0.004376789231427524), (3203, 0.004365661262605466), (2756, 0.00436342740457393), (2727, 0.004360956475488335), (4772, 0.004357177528939319), (4685, 0.0043564525790271485), (3054, 0.004356090928238907), (3413, 0.004355344780738029), (4610, 0.004350277730958912), (1941, 0.004348868317110524), (3758, 0.004343724633906713), (3931, 0.004340516222994505), (4133, 0.004340516222994505), (4392, 0.004337498555943495), (2434, 0.004336008558399862), (4708, 0.004332323319661997), (4023, 0.004329983853862281), (4225, 0.004329983853862281), (3686, 0.004328862204340504), (2368, 0.004324930754159666), (4543, 0.00431410899850159), (1790, 0.004313541254543012), (4406, 0.004313296980963606), (3952, 0.004307619841933589), (4154, 0.004307619841933589), (2333, 0.004306069754819651), (3017, 0.004305504390814978), (1615, 0.004305396969217315), (2009, 0.004300805529579718), (3789, 0.004299824312804089), (461, 0.004293757206308676), (2986, 0.00429092899405334), (4653, 0.00429032904897767), (2769, 0.0042891637931090024), (3763, 0.004285688169858949), (4913, 0.004285409466966083), (431, 0.0042824482674793584), (795, 0.004280810752486313), (955, 0.004277541596777658), (4835, 0.00427691782324944), (582, 0.004276483258969895), (4919, 0.004275716786850497), (1792, 0.004257783979205464), (3324, 0.004253791679832589), (4010, 0.004251788777900119), (4212, 0.004251788777900119), (1169, 0.004243215976290779), (2468, 0.0042432133995797), (2635, 0.004241278084847452), (2158, 0.00423634689678042), (3754, 0.004226313467078227), (2696, 0.004223544840378765), (3256, 0.004222283443281648), (2261, 0.004220825433315852), (1947, 0.004206282204703542), (3190, 0.004205166763780982), (2924, 0.004204195794187179), (3408, 0.004195986792901215), (905, 0.004194117064024077), (4709, 0.004186879831176202), (679, 0.004184335008230557), (2884, 0.004182289647499569), (4852, 0.004181454353594338), (925, 0.004180244200898981), (2872, 0.004179157043230552), (3337, 0.004176705253437071), (2187, 0.004172302135210667), (3791, 0.004167465558976076), (2676, 0.004167417670938581), (3962, 0.004165837540851042), (4164, 0.004165837540851042), (985, 0.0041653961020948925), (4698, 0.004160468950976278), (3992, 0.004159172034539414), (4194, 0.004159172034539414), (1656, 0.004157476064666953), (760, 0.0041566770144438004), (3851, 0.004155829348736079), (3759, 0.00415114562364286), (1507, 0.0041501267495883815), (4497, 0.004139172422840159), (1424, 0.004138456907673084), (4319, 0.004137187341516446), (2702, 0.004136436251517485), (4654, 0.004131163920107433), (2982, 0.00413022851803209), (2302, 0.004128357845920142), (4519, 0.004127705235647657), (2914, 0.004126742872816401), (3772, 0.004125718368801107), (2138, 0.004122677467393303), (2357, 0.004119719657688956), (2223, 0.004119326473148771), (3253, 0.004116954351090972), (998, 0.004113824293361102), (2186, 0.0041129047301264625), (4051, 0.004111079136540411), (4253, 0.004111079136540411), (999, 0.004110255121327796), (3383, 0.00410973949305308), (4948, 0.004109534729231116), (3649, 0.0041087212724849175), (839, 0.00410681550535141), (1999, 0.004104742936523503), (2411, 0.004098912567745064), (3820, 0.004098661946819043), (3373, 0.004091621125886151), (3168, 0.004087118100738816), (40, 0.004074285064152992), (1489, 0.004073496457640991), (1311, 0.004070983555057506), (2810, 0.0040648134953417065), (4495, 0.004062315271790756), (2420, 0.0040618619457098385), (139, 0.004061707837724911), (2799, 0.004061201759727604), (2164, 0.004059964849257374), (4655, 0.004059118579110419), (3688, 0.004058103868305036), (2384, 0.004053578170953162), (3146, 0.004052586737436441), (4003, 0.004050839231434832), (4205, 0.004050839231434832), (2381, 0.0040461261544251), (2479, 0.004042695049818314), (2782, 0.0040400591838240275), (4461, 0.004040036410550261), (1260, 0.0040392631105410064), (2535, 0.004037315929455898), (3080, 0.004037276809246743), (2108, 0.004035320533454283), (4315, 0.004033849337658806), (3735, 0.004033455403247949), (2209, 0.004031319803480922), (1371, 0.004030112975489349), (3003, 0.00402760181801382), (1923, 0.004026596705578899), (4526, 0.004026557457239773), (365, 0.004026490961552975), (2843, 0.004025080408747069), (4908, 0.004023315379186155), (1836, 0.004022265055593254), (4665, 0.004017927947604987), (3062, 0.0040175281013865565), (385, 0.004015891958551591), (1658, 0.0040145778881543505), (3572, 0.004013185831195456), (3026, 0.004012276910982949), (3371, 0.004011771172355509), (2592, 0.004011561162763235), (2493, 0.0040104014914018925), (3652, 0.004008161527958738), (841, 0.004008023075994464), (362, 0.004006918736524095), (3097, 0.004005038622546328), (2626, 0.004001613570080901), (4465, 0.003999341960448999), (990, 0.00399841019882987), (2049, 0.003998176955207774), (1786, 0.00399649012338901), (4086, 0.003996437643119733), (4288, 0.003996437643119733), (1089, 0.003992510856362123), (2930, 0.003990698218298704), (2464, 0.003988967803016354), (3581, 0.0039866309136776905), (2375, 0.003984113516297568), (2410, 0.003982771421593047), (4111, 0.003981959078356171), (4313, 0.003981959078356171), (3529, 0.003980416583250965), (4648, 0.0039778432662758165), (2452, 0.0039777364417549884), (253, 0.0039760554547958), (318, 0.0039754451500396155), (2101, 0.003974870677886904), (4510, 0.0039736876721209345), (2575, 0.003973339635516387), (3183, 0.003969089730362047), (956, 0.003969086043779078), (3628, 0.003966790938973741), (3044, 0.003964648804365306), (4342, 0.003962750086200443), (2968, 0.003960774358811073), (363, 0.003956878634378584), (678, 0.00395630317337508), (1243, 0.003955530821196524), (2978, 0.0039532104943801015), (1905, 0.003952367363722073), (350, 0.003951251525404844), (4460, 0.003951046998193605), (2604, 0.003950579973161023), (1491, 0.003948092433212762), (2979, 0.003946903026744658), (3889, 0.003946728097540625), (4724, 0.003944009462401496), (2507, 0.00394035368855729), (2748, 0.003940131122349259), (3258, 0.003939827829355147), (4615, 0.003938312977295661), (2882, 0.003936082188287947), (2082, 0.003934929638732327), (4409, 0.003934262152623639), (2371, 0.0039328277650634595), (2021, 0.003924107976210072), (2116, 0.003916424200749439), (4936, 0.003915650932728751), (771, 0.003915476342632601), (1441, 0.003913004728527228), (1848, 0.003910225618582303), (1103, 0.003910198668445123), (3510, 0.003908082569370914), (3584, 0.003906411673844587), (1518, 0.0039030427605290818), (2880, 0.0039016360886402726), (3496, 0.0038943010265660044), (754, 0.0038914818661422833), (1731, 0.003891053001296142), (4375, 0.0038909133988863725), (3728, 0.0038895066130443376), (1333, 0.0038893857559757286), (2124, 0.00388919108935671), (405, 0.003886955544765989), (872, 0.003884905890895453), (2588, 0.0038847149956431157), (4559, 0.0038838231057147917), (2786, 0.0038827362255310343), (1683, 0.0038821077519470594), (3601, 0.0038817819450457096), (873, 0.003881614971072325), (3175, 0.0038800702362746593), (4572, 0.003879779318532027), (2260, 0.0038781672957827543), (1614, 0.003875980617238453), (2391, 0.003874321608867805), (4333, 0.0038732688396418383), (4691, 0.0038718330037771686), (2970, 0.0038714084946981967), (1609, 0.003871370176558901), (3236, 0.0038707142547915355), (3984, 0.0038705558067788676), (4186, 0.0038705558067788676), (1732, 0.003870317959599826), (3109, 0.0038696292071355915), (1856, 0.003865960445901833), (1205, 0.0038627015246105872), (536, 0.003860588584245943), (4517, 0.0038598614117807233), (4759, 0.003858775574953161), (1926, 0.0038582036368077317), (1596, 0.0038560822557552653), (1572, 0.0038521392121018904), (4824, 0.0038520399161712142), (1099, 0.0038512057296144733), (205, 0.003845456654461225), (3905, 0.0038451111967102796), (3084, 0.0038433885243296427), (4857, 0.003842769682426483), (4525, 0.003840893720878186), (1234, 0.0038385364939948095), (4008, 0.0038353759601754845), (4210, 0.0038353759601754845), (3041, 0.003833311516094592), (415, 0.003832588248371101), (1007, 0.0038321607752176577), (4382, 0.0038292199629992546), (1013, 0.003829166729498759), (4462, 0.0038286933474598133), (1955, 0.0038280646271308524), (1401, 0.003823883186634435), (1822, 0.0038233812432030578), (3189, 0.003822730707384431), (2385, 0.0038215386427330193), (3037, 0.00382114588626601), (3882, 0.0038210578344104024), (1734, 0.0038189523360609664), (2394, 0.0038178689125260806), (4635, 0.0038176071318731506), (667, 0.003816076490506397), (3187, 0.003815620950618782), (1299, 0.0038084784607778023), (2754, 0.0038082390271202827), (474, 0.003807243324126572), (3061, 0.003805839198502091), (3493, 0.003804148778974884), (2249, 0.0038014038189021007), (2217, 0.003800800136070725), (2380, 0.0038006049426947664), (1193, 0.0037984270840550026), (3513, 0.003798346514783847), (2561, 0.003798193252504599), (1224, 0.0037948985625911908), (2002, 0.00379445800499489), (3415, 0.0037934986727945425), (2601, 0.00379283309215398), (2926, 0.0037923259160125376), (4327, 0.0037923103445680227), (797, 0.0037913113489562475), (3845, 0.003791036573770433), (1445, 0.0037909351426203314), (4623, 0.0037908941916824064), (3038, 0.0037897844345129304), (2605, 0.003789074099122396), (1965, 0.0037888949282794604), (3514, 0.003788523594097875), (3162, 0.003787678724688716), (3382, 0.0037858799299990645), (1432, 0.003782866536885249), (1024, 0.0037825096325048257), (884, 0.0037821597148494524), (204, 0.003782079537571651), (2090, 0.0037814540170083245), (3591, 0.003778896757160923), (879, 0.0037780574775943816), (3349, 0.0037780469196137772), (1727, 0.0037776528844608546), (2042, 0.003777220882263933), (3790, 0.0037762233433114643), (1513, 0.003775106119544735), (3224, 0.003774710366854306), (1911, 0.0037710390503125062), (3912, 0.0037699383649614296), (4114, 0.0037699383649614296), (2325, 0.0037670720214989686), (4754, 0.0037656949079039772), (3287, 0.003764142364185807), (1949, 0.003762430664859672), (4093, 0.003762123168990274), (4295, 0.003762123168990274), (793, 0.0037619430110240252), (2794, 0.0037611844257394163), (4850, 0.0037610682967099515), (1602, 0.003760620452216517), (1542, 0.003760085550230775), (3517, 0.003759414962049538), (1124, 0.003759295608301189), (2194, 0.0037576657463941404), (3489, 0.003756902070565392), (784, 0.003755116373310709), (4624, 0.0037549459798463837), (1765, 0.003754267502664716), (1469, 0.0037541334888780875), (1165, 0.003753940613574453), (4489, 0.0037509593271287567), (1697, 0.0037491832073288664), (3428, 0.0037486091219740957), (1847, 0.003747682946099585), (1382, 0.003744301744038335), (1244, 0.003742923227175059), (3198, 0.0037422580312649334), (1735, 0.0037416781384759803), (2648, 0.0037390123367579925), (4049, 0.003738731587490079), (4251, 0.003738731587490079), (2519, 0.0037368825510815523), (730, 0.0037367810067351613), (869, 0.003736673195838042), (377, 0.0037350677259981846), (2092, 0.0037326850379728973), (59, 0.003730046134407628), (2353, 0.0037287622130387807), (3290, 0.0037281368542330085), (1917, 0.003727816631753767), (245, 0.003727359300379477), (1777, 0.0037259051911190336), (2856, 0.003725665094718655), (3683, 0.0037248946331912437), (3289, 0.0037231950112803377), (3169, 0.003720693529083122), (3209, 0.003716445360103446), (846, 0.0037149822086675255), (2307, 0.0037141090023678023), (1108, 0.003711745887563965), (3606, 0.003711153136468602), (4399, 0.003711103332597191), (4606, 0.0037083854297435726), (1337, 0.003707642101226847), (115, 0.0037063703685377486), (238, 0.003706278841916321), (2290, 0.00370463941704277), (134, 0.003704099896803372), (3102, 0.0037038020724952927), (3632, 0.0037025469553563783), (1085, 0.003699319703010581), (933, 0.003698554272225554), (3113, 0.003696674893167631), (3060, 0.0036950732716564466), (528, 0.003692151313785699), (2440, 0.003691583518867629), (2685, 0.00369105965664652), (2551, 0.0036905933650333354), (2397, 0.003690358397899175), (3812, 0.003689441274402923), (4416, 0.003689278467174262), (1879, 0.0036883233272268496), (1533, 0.003687863545873867), (4904, 0.003687324745909691), (1361, 0.0036872263629948486), (2746, 0.0036854054707693928), (2896, 0.0036844194540143317), (3332, 0.003680841979834624), (1204, 0.003679859571035419), (1302, 0.003679023135002809), (2041, 0.003678070362790379), (1889, 0.0036780202045034534), (579, 0.0036773885803980675), (2586, 0.00367608153800074), (401, 0.0036745610231423633), (1473, 0.0036722155016689624), (1956, 0.0036718465055763545), (2396, 0.0036704528102262904), (1599, 0.003669235919683839), (3676, 0.0036681511148849324), (1410, 0.0036664282516531664), (1769, 0.0036630901176752293), (1611, 0.003662582689180123), (4502, 0.0036623049546710197), (630, 0.003661220785896249), (4811, 0.0036606917456459185), (3245, 0.0036585095971587377), (2994, 0.003657446844115229), (2554, 0.003657097719972115), (2122, 0.003655732400900472), (1232, 0.003655143719209403), (3494, 0.003653881885100005), (2449, 0.003651641087863464), (312, 0.00365104934440837), (1741, 0.0036509616327057457), (3034, 0.0036490044204313945), (2153, 0.003648956572363118), (494, 0.003648767158416289), (2284, 0.003648569098472337), (3155, 0.0036482224471385285), (398, 0.0036480930965161616), (1074, 0.0036480411955674384), (1505, 0.0036469179121452235), (4386, 0.003645774650189302), (1906, 0.0036422077637513093), (4493, 0.0036413141864314433), (1388, 0.003640443313686604), (2472, 0.0036400795484782286), (822, 0.003639042640941275), (2340, 0.0036376373770110044), (4397, 0.003636645259099764), (2804, 0.003635427636450688), (943, 0.003633085510080155), (2495, 0.0036328134352504454), (114, 0.003630451903973519), (3188, 0.003630327613066481), (4940, 0.0036295781306945633), (2709, 0.0036292931025359403), (4029, 0.0036290663975845562), (4231, 0.0036290663975845562), (3104, 0.0036277234637151342), (479, 0.003626989119098142), (2081, 0.0036259400113159692), (1644, 0.003625243411343449), (849, 0.0036237671097319652), (3106, 0.003620683796626503), (2026, 0.003619828443288121), (1227, 0.003619025089720601), (1133, 0.003618253456285968), (1112, 0.003617330305828815), (2387, 0.0036165942184713494), (3805, 0.0036161161773039896), (1345, 0.0036126497212217346), (965, 0.0036107079974246055), (3570, 0.003610550740369968), (1021, 0.0036085243543350436), (946, 0.003607404002698145), (1298, 0.0036066885368046453), (1638, 0.0036066084140875245), (2336, 0.0036063812657019384), (4073, 0.003605780328109946), (4275, 0.003605780328109946), (1834, 0.0036050974541869236), (2999, 0.0036036538712492503), (2512, 0.003603101117383089), (4036, 0.0036027071315472992), (4238, 0.0036027071315472992), (1196, 0.003602053587248711), (4890, 0.003599761739286539), (2019, 0.003598875079056277), (22, 0.003597883532098599), (188, 0.0035975297877864497), (3545, 0.0035945486323874245), (2836, 0.003594024205689477), (2435, 0.0035912798102979895), (2280, 0.0035908417390336247), (1198, 0.003589085266711354), (1837, 0.003586000028975161), (2298, 0.0035856185943099563), (1913, 0.0035843432589196767), (2569, 0.003584110753572162), (2825, 0.0035838640183160284), (1028, 0.003583166269953403), (1126, 0.0035814712868742055), (1867, 0.0035791807292240153), (1549, 0.0035784565717614566), (535, 0.0035770797588811614), (1313, 0.003575527838996438), (2639, 0.0035755222306599046), (1757, 0.003574490414387843), (3350, 0.0035740311844674544), (867, 0.00357376553347123), (2687, 0.0035731159810171733), (174, 0.0035725168618581217), (1849, 0.0035713319667397157), (3685, 0.0035697413678146242), (1286, 0.0035682762191929494), (3090, 0.003567423135489928), (1100, 0.003567191535106814), (1292, 0.003566196663617458), (983, 0.00356547020494993), (2297, 0.003562979089751858), (1330, 0.0035574299609160364), (1094, 0.0035551826257123357), (2945, 0.003553990580447042), (3580, 0.0035530039064681444), (1589, 0.003552107993336613), (1842, 0.0035515615304865266), (4436, 0.0035513541080137573), (1084, 0.003549990223996007), (459, 0.0035469002129359523), (4732, 0.0035452505586386802), (3400, 0.0035447096272983505), (3220, 0.0035431162139127653), (2087, 0.0035420687130650478), (1771, 0.003540903838509568), (755, 0.0035369440094315534), (1880, 0.0035330575254640777), (2677, 0.0035323849362426437), (3402, 0.003532152086822652), (3836, 0.0035318433373438024), (3286, 0.0035313978613994595), (1408, 0.0035313366307603727), (217, 0.003529390913778604), (503, 0.003529141810473855), (2912, 0.0035261858702409863), (3965, 0.0035232436038403394), (4167, 0.0035232436038403394), (662, 0.0035230668528051347), (2461, 0.003520925318249462), (1235, 0.003518926174973961), (3375, 0.003517857048080155), (404, 0.0035175908313860734), (2150, 0.0035156115866787547), (1618, 0.0035143507456560125), (1261, 0.003514005121908132), (4071, 0.0035139798882513422), (4273, 0.0035139798882513422), (339, 0.0035117275136494854), (4584, 0.00350741138321138), (3366, 0.0035059646623195467), (3348, 0.00350317803270599), (2467, 0.0035026073200571297), (1561, 0.003501950578117602), (546, 0.0034988188113593043), (4516, 0.003498749957018585), (1117, 0.003495012800544634), (923, 0.0034927931455980936), (1900, 0.0034924865493619604), (4037, 0.0034915499383916097), (4239, 0.0034915499383916097), (3582, 0.0034904940267207183), (1293, 0.0034898272487575814), (2465, 0.003489045051754991), (1125, 0.0034886573717667823), (3490, 0.003485289802540368), (1544, 0.00348484151683685), (1582, 0.0034833140766696398), (1767, 0.0034832699974084525), (772, 0.0034829132335913397), (3503, 0.003482045552468629), (2242, 0.003477888102775761), (1545, 0.003476673606391691), (1912, 0.003476304796305662), (4636, 0.0034750503007141284), (367, 0.0034747406592487277), (3595, 0.003473974507554993), (1231, 0.0034700191190933476), (4415, 0.0034683198172132234), (2309, 0.003468127560168567), (3824, 0.0034672454564224904), (1552, 0.003465973260769347), (2620, 0.0034632832587538835), (3315, 0.003461775519898245), (1490, 0.0034609218329518473), (4523, 0.0034590810151467035), (1839, 0.0034585433899413606), (2690, 0.003458428880572774), (505, 0.0034570079650684767), (2107, 0.003456431466545148), (3214, 0.0034562396098645537), (2068, 0.003455346192683036), (1327, 0.003454727849687134), (2050, 0.0034538297759786674), (3941, 0.0034517166448679295), (4143, 0.0034517166448679295), (4408, 0.0034510685198400424), (1190, 0.003449809013424134), (2644, 0.003449003247181125), (4448, 0.003446866667713439), (1532, 0.003446743185776155), (1878, 0.0034454249945836696), (984, 0.0034439367872715885), (2787, 0.0034435643197519706), (3864, 0.0034425117989521654), (3177, 0.0034413256240738766), (3859, 0.0034403461661071336), (185, 0.003435706077592272), (2271, 0.0034349657390054748), (1211, 0.003434500279542852), (649, 0.0034329673535591254), (422, 0.003432378849210227), (3194, 0.0034314278943894947), (1785, 0.0034310035407169362), (859, 0.003430720857778447), (3811, 0.003426436385330041), (1663, 0.0034236841514981753), (325, 0.003422381249229033), (2348, 0.0034217605094389557), (939, 0.0034208489199501484), (1256, 0.0034195256304674873), (197, 0.003417188138330833), (2972, 0.0034138575551162474), (1783, 0.003411731743156248), (1139, 0.0034104174000928627), (886, 0.0034089171780579985), (2179, 0.003406147615084423), (1693, 0.0034059406413837145), (1372, 0.0034056525334384136), (1203, 0.0034035735498780693), (2594, 0.00339870898783914), (1721, 0.00339821307492079), (311, 0.0033981604415065482), (4892, 0.0033957685687165066), (4869, 0.003395738346944139), (903, 0.003393860074765546), (2699, 0.0033929664076899992), (1992, 0.0033920975043455885), (648, 0.0033915767738853008), (2099, 0.0033911895115961168), (1855, 0.003390645598484656), (1898, 0.0033902180346652004), (702, 0.0033891992904919233), (941, 0.0033888778012192344), (471, 0.0033885661200797833), (2170, 0.0033883532924618293), (3923, 0.003382853633684963), (4125, 0.003382853633684963), (2201, 0.0033821184986434303), (2052, 0.003381894929519281), (1899, 0.0033818856677521043), (1673, 0.003381768226589005), (4507, 0.0033812947294064527), (4805, 0.003380512959570455), (1457, 0.003376900918589073), (2590, 0.0033751412934536684), (2866, 0.003372629515988259), (532, 0.0033712277100656747), (1353, 0.0033702762541432123), (3500, 0.003369336415557964), (4527, 0.0033682467488006635), (2272, 0.0033679675930517877), (4558, 0.0033675071887666603), (2450, 0.0033671011783080983), (3543, 0.0033654958320281187), (1610, 0.00336164647972234), (2315, 0.0033605980414093363), (745, 0.0033596856392715106), (2183, 0.003359665325574215), (589, 0.0033590530042638777), (2093, 0.0033516192784222246), (2399, 0.0033509169615177294), (3839, 0.0033487875010442514), (770, 0.003346841380105774), (1149, 0.003346714417389198), (1543, 0.0033462525364067563), (3589, 0.003342204832079663), (3753, 0.003341145573949078), (4779, 0.00334104504863233), (2445, 0.003339821517346601), (1079, 0.003336152841368477), (3395, 0.0033319229306877397), (1331, 0.0033310530358798855), (3767, 0.0033256556595891397), (3244, 0.003321583356904624), (1242, 0.0033212969980529828), (3050, 0.0033200122416664687), (2225, 0.0033191546013034046), (2125, 0.0033171873015596432), (2203, 0.0033165957416681265), (2207, 0.0033161362816633215), (4388, 0.00331552448721835), (1974, 0.0033154856360242744), (3329, 0.0033140558506628876), (4649, 0.003312600648006589), (958, 0.0033124340744008908), (2728, 0.003310788008636542), (3842, 0.0033101120200544503), (2007, 0.003308865661395446), (2033, 0.0033025149170841524), (1729, 0.0033018455657654183), (3197, 0.003300442738594436), (1200, 0.003298237130990305), (3885, 0.0032967105994113587), (759, 0.0032959386004887017), (3304, 0.0032945465054358596), (1528, 0.003292608546840484), (3267, 0.0032921960718862013), (2424, 0.0032905369875741806), (2265, 0.0032883065572235108), (632, 0.003287309487546231), (1567, 0.003286828667745144), (2063, 0.0032866941552379993), (2542, 0.003283809256053759), (473, 0.00328202658742102), (1827, 0.0032771773450210456), (1093, 0.0032758942916312718), (1310, 0.0032748883923347785), (3933, 0.003272000370954287), (4135, 0.003272000370954287), (515, 0.0032702263894295695), (2426, 0.0032699671359075954), (2741, 0.0032652577675672738), (1061, 0.0032641963536244652), (3716, 0.0032590120058276174), (2591, 0.0032557465258491684), (2976, 0.003254982488239286), (2185, 0.0032508055724666998), (4506, 0.00324877378928426), (4104, 0.0032463352386527832), (4306, 0.0032463352386527832), (1870, 0.0032455054420507767), (3070, 0.0032424943826087787), (1750, 0.003239965250563636), (1978, 0.003238483705564528), (383, 0.003237696697816602), (2389, 0.0032356633819027795), (1318, 0.003234821575019989), (2833, 0.0032346912300801377), (4439, 0.0032308451048151336), (672, 0.0032303435317107853), (3082, 0.003223376378844302), (3485, 0.003221625732120816), (2264, 0.003220266955771463), (1694, 0.0032188060700677934), (1652, 0.0032181942359780706), (703, 0.0032173814490661), (2366, 0.0032172500709259054), (1601, 0.0032167935606360245), (1830, 0.0032144146520188266), (3861, 0.0032125223680860363), (393, 0.0032110337263372007), (3063, 0.0032071335795430325), (1954, 0.003206937089827045), (1251, 0.003206438003729824), (1199, 0.0032001368646656023), (836, 0.0031988597261864535), (3755, 0.003198837733710252), (4560, 0.0031972141859392847), (605, 0.0031964693170415024), (4035, 0.0031958643947255917), (4237, 0.0031958643947255917), (1213, 0.0031920147448312682), (1616, 0.0031911477296931987), (912, 0.0031879367379703508), (2240, 0.0031833607008703337), (851, 0.003180365630526026), (1684, 0.0031787344508054536), (1797, 0.003178136548109538), (520, 0.0031767538527701527), (2820, 0.0031758151022671767), (2433, 0.0031733321259469986), (3232, 0.003167701384558677), (2971, 0.0031636671283260982), (2059, 0.003162526426256046), (2460, 0.003159750703382662), (1348, 0.0031565345551238296), (3916, 0.00315426905326138), (4118, 0.00315426905326138), (1943, 0.003151712982835933), (2539, 0.0031515204294745), (2721, 0.003149167510919088), (73, 0.003146621615847713), (1217, 0.003146090943864147), (1249, 0.0031456506709345677), (1379, 0.003143796631878436), (892, 0.003140965201662989), (103, 0.0031377772516844584), (1492, 0.0031374076099092768), (2270, 0.0031342426422619574), (1397, 0.003132295059248211), (2822, 0.003130969245448216), (1212, 0.0031280723751645027), (1370, 0.003125757647524046), (1070, 0.003122866495608042), (278, 0.0031213123379884087), (2001, 0.003119882281203853), (1323, 0.003113602582408394), (2098, 0.0031119154046769537), (1008, 0.0031115202943194924), (2168, 0.0031092196257754548), (2688, 0.0031079583642766475), (1833, 0.0031075785938023104), (4829, 0.003105370870732673), (2146, 0.003097600058697843), (2758, 0.0030928105587781055), (1340, 0.0030799078060794573), (1639, 0.0030725163759483714), (1300, 0.0030668403366913605), (4838, 0.0030587790191279503), (951, 0.0030564704442435768), (2157, 0.00305380012617686), (3559, 0.0030475418918874614), (707, 0.0030455291895153625), (4812, 0.003043940453239002), (1222, 0.0030429095275582517), (2877, 0.0030423996774468593), (786, 0.0030349160607333623), (1938, 0.0030313628160671844), (964, 0.0030289325647826857), (1062, 0.0030277704439637004), (1367, 0.0030261078467708202), (2876, 0.0030241750797044445), (2373, 0.0030211184829205383), (1078, 0.0030180678335438734), (1944, 0.003015638117758457), (3971, 0.003010431594507458), (4173, 0.003010431594507458), (2227, 0.003009195743064634), (1752, 0.0029996498099627653), (2770, 0.0029989577723993797), (2508, 0.002998010906968395), (4402, 0.0029953697321807734), (2025, 0.0029916813656505397), (1156, 0.002981333142601784), (1289, 0.0029786990378185747), (2439, 0.002976183439151106), (2913, 0.002975894218138121), (2331, 0.0029757375395612316), (1427, 0.002972003828079536), (366, 0.0029560120805801485), (2018, 0.002955283578218245), (1326, 0.0029546185492700674), (4513, 0.0029414554191187206), (1317, 0.0029409851282232525), (1344, 0.002937176165205503), (4946, 0.0029363377357777953), (2441, 0.002933696918353281), (1963, 0.0029322060044779832), (3575, 0.002932191172381845), (2364, 0.002923019019825432), (1646, 0.0029177768228622063), (1115, 0.00291487672055943), (2925, 0.002912426580177116), (4721, 0.0029070451115026743), (1268, 0.0028992538864628203), (1676, 0.0028956990104250396), (1871, 0.002887627512998865), (1677, 0.0028527847988239147), (1320, 0.0028472243685732715), (926, 0.0028450982229161945), (1040, 0.002827053715410776), (837, 0.002796550265889352), (1403, 0.002790148285975195), (3574, 0.0027890598327699784), (972, 0.002781722226071139), (351, 0.0027631210731429816), (4384, 0.0027474276644306786), (414, 0.0027240456210356426), (1362, 0.002702238130350379), (2671, 0.0026645036347360852), (1153, 0.002544360641220502), (940, 0.002541238474669877), (129, 0.002532626154942699), (3421, 0.002511970384505691), (740, 0.002440108991478296), (1, 0.0), (4, 0.0), (5, 0.0), (6, 0.0), (8, 0.0), (13, 0.0), (15, 0.0), (16, 0.0), (17, 0.0), (19, 0.0), (20, 0.0), (21, 0.0), (23, 0.0), (24, 0.0), (27, 0.0), (30, 0.0), (31, 0.0), (32, 0.0), (34, 0.0), (36, 0.0), (41, 0.0), (43, 0.0), (44, 0.0), (46, 0.0), (51, 0.0), (52, 0.0), (54, 0.0), (55, 0.0), (61, 0.0), (62, 0.0), (63, 0.0), (66, 0.0), (68, 0.0), (69, 0.0), (70, 0.0), (77, 0.0), (81, 0.0), (85, 0.0), (87, 0.0), (89, 0.0), (90, 0.0), (92, 0.0), (93, 0.0), (95, 0.0), (98, 0.0), (99, 0.0), (100, 0.0), (107, 0.0), (111, 0.0), (116, 0.0), (117, 0.0), (118, 0.0), (120, 0.0), (121, 0.0), (125, 0.0), (126, 0.0), (127, 0.0), (128, 0.0), (132, 0.0), (133, 0.0), (136, 0.0), (142, 0.0), (143, 0.0), (145, 0.0), (147, 0.0), (149, 0.0), (151, 0.0), (158, 0.0), (160, 0.0), (163, 0.0), (176, 0.0), (178, 0.0), (180, 0.0), (181, 0.0), (183, 0.0), (187, 0.0), (190, 0.0), (193, 0.0), (194, 0.0), (196, 0.0), (199, 0.0), (200, 0.0), (203, 0.0), (206, 0.0), (207, 0.0), (210, 0.0), (213, 0.0), (218, 0.0), (224, 0.0), (226, 0.0), (227, 0.0), (229, 0.0), (230, 0.0), (231, 0.0), (233, 0.0), (235, 0.0), (236, 0.0), (241, 0.0), (242, 0.0), (244, 0.0), (248, 0.0), (252, 0.0), (254, 0.0), (255, 0.0), (256, 0.0), (257, 0.0), (258, 0.0), (262, 0.0), (265, 0.0), (267, 0.0), (268, 0.0), (270, 0.0), (271, 0.0), (273, 0.0), (274, 0.0), (275, 0.0), (276, 0.0), (281, 0.0), (282, 0.0), (283, 0.0), (285, 0.0), (286, 0.0), (289, 0.0), (290, 0.0), (295, 0.0), (296, 0.0), (300, 0.0), (302, 0.0), (303, 0.0), (304, 0.0), (307, 0.0), (308, 0.0), (313, 0.0), (314, 0.0), (315, 0.0), (316, 0.0), (317, 0.0), (320, 0.0), (322, 0.0), (326, 0.0), (329, 0.0), (332, 0.0), (333, 0.0), (334, 0.0), (340, 0.0), (355, 0.0), (358, 0.0), (359, 0.0), (360, 0.0), (364, 0.0), (373, 0.0), (374, 0.0), (375, 0.0), (376, 0.0), (378, 0.0), (379, 0.0), (382, 0.0), (384, 0.0), (389, 0.0), (390, 0.0), (394, 0.0), (395, 0.0), (396, 0.0), (397, 0.0), (399, 0.0), (400, 0.0), (402, 0.0), (406, 0.0), (419, 0.0), (423, 0.0), (429, 0.0), (432, 0.0), (433, 0.0), (434, 0.0), (435, 0.0), (436, 0.0), (437, 0.0), (438, 0.0), (440, 0.0), (444, 0.0), (445, 0.0), (446, 0.0), (449, 0.0), (450, 0.0), (451, 0.0), (453, 0.0), (455, 0.0), (458, 0.0), (462, 0.0), (463, 0.0), (464, 0.0), (465, 0.0), (466, 0.0), (467, 0.0), (468, 0.0), (470, 0.0), (476, 0.0), (478, 0.0), (480, 0.0), (481, 0.0), (482, 0.0), (487, 0.0), (489, 0.0), (490, 0.0), (493, 0.0), (499, 0.0), (502, 0.0), (509, 0.0), (513, 0.0), (514, 0.0), (516, 0.0), (517, 0.0), (518, 0.0), (519, 0.0), (522, 0.0), (526, 0.0), (527, 0.0), (533, 0.0), (534, 0.0), (537, 0.0), (539, 0.0), (541, 0.0), (542, 0.0), (543, 0.0), (544, 0.0), (550, 0.0), (552, 0.0), (554, 0.0), (556, 0.0), (557, 0.0), (558, 0.0), (559, 0.0), (563, 0.0), (564, 0.0), (565, 0.0), (567, 0.0), (570, 0.0), (571, 0.0), (572, 0.0), (573, 0.0), (574, 0.0), (576, 0.0), (578, 0.0), (580, 0.0), (581, 0.0), (584, 0.0), (587, 0.0), (591, 0.0), (592, 0.0), (593, 0.0), (595, 0.0), (601, 0.0), (602, 0.0), (604, 0.0), (607, 0.0), (608, 0.0), (611, 0.0), (616, 0.0), (617, 0.0), (620, 0.0), (622, 0.0), (623, 0.0), (624, 0.0), (625, 0.0), (626, 0.0), (628, 0.0), (634, 0.0), (636, 0.0), (637, 0.0), (638, 0.0), (641, 0.0), (642, 0.0), (646, 0.0), (647, 0.0), (650, 0.0), (652, 0.0), (655, 0.0), (656, 0.0), (658, 0.0), (663, 0.0), (670, 0.0), (673, 0.0), (674, 0.0), (676, 0.0), (682, 0.0), (686, 0.0), (688, 0.0), (693, 0.0), (694, 0.0), (696, 0.0), (698, 0.0), (713, 0.0), (714, 0.0), (716, 0.0), (718, 0.0), (724, 0.0), (728, 0.0), (729, 0.0), (732, 0.0), (734, 0.0), (739, 0.0), (743, 0.0), (746, 0.0), (750, 0.0), (753, 0.0), (761, 0.0), (766, 0.0), (774, 0.0), (777, 0.0), (783, 0.0), (791, 0.0), (794, 0.0), (796, 0.0), (799, 0.0), (800, 0.0), (801, 0.0), (804, 0.0), (806, 0.0), (808, 0.0), (809, 0.0), (812, 0.0), (815, 0.0), (816, 0.0), (818, 0.0), (819, 0.0), (823, 0.0), (825, 0.0), (826, 0.0), (828, 0.0), (831, 0.0), (833, 0.0), (834, 0.0), (835, 0.0), (838, 0.0), (843, 0.0), (844, 0.0), (855, 0.0), (856, 0.0), (857, 0.0), (858, 0.0), (860, 0.0), (861, 0.0), (865, 0.0), (868, 0.0), (871, 0.0), (875, 0.0), (876, 0.0), (877, 0.0), (880, 0.0), (888, 0.0), (893, 0.0), (896, 0.0), (900, 0.0), (902, 0.0), (906, 0.0), (909, 0.0), (910, 0.0), (914, 0.0), (917, 0.0), (921, 0.0), (922, 0.0), (927, 0.0), (936, 0.0), (937, 0.0), (942, 0.0), (944, 0.0), (949, 0.0), (950, 0.0), (953, 0.0), (954, 0.0), (959, 0.0), (967, 0.0), (968, 0.0), (975, 0.0), (976, 0.0), (977, 0.0), (979, 0.0), (980, 0.0), (986, 0.0), (987, 0.0), (989, 0.0), (991, 0.0), (992, 0.0), (994, 0.0), (997, 0.0), (1004, 0.0), (1009, 0.0), (1012, 0.0), (1014, 0.0), (1015, 0.0), (1016, 0.0), (1017, 0.0), (1019, 0.0), (1020, 0.0), (1026, 0.0), (1027, 0.0), (1030, 0.0), (1032, 0.0), (1034, 0.0), (1036, 0.0), (1037, 0.0), (1042, 0.0), (1044, 0.0), (1045, 0.0), (1050, 0.0), (1051, 0.0), (1053, 0.0), (1055, 0.0), (1057, 0.0), (1058, 0.0), (1063, 0.0), (1064, 0.0), (1065, 0.0), (1067, 0.0), (1069, 0.0), (1075, 0.0), (1076, 0.0), (1081, 0.0), (1083, 0.0), (1086, 0.0), (1091, 0.0), (1092, 0.0), (1096, 0.0), (1097, 0.0), (1098, 0.0), (1101, 0.0), (1102, 0.0), (1116, 0.0), (1119, 0.0), (1121, 0.0), (1122, 0.0), (1127, 0.0), (1128, 0.0), (1131, 0.0), (1134, 0.0), (1135, 0.0), (1137, 0.0), (1138, 0.0), (1141, 0.0), (1143, 0.0), (1145, 0.0), (1147, 0.0), (1158, 0.0), (1159, 0.0), (1160, 0.0), (1161, 0.0), (1163, 0.0), (1164, 0.0), (1167, 0.0), (1174, 0.0), (1175, 0.0), (1177, 0.0), (1181, 0.0), (1183, 0.0), (1188, 0.0), (1189, 0.0), (1197, 0.0), (1202, 0.0), (1207, 0.0), (1209, 0.0), (1219, 0.0), (1225, 0.0), (1226, 0.0), (1228, 0.0), (1229, 0.0), (1230, 0.0), (1233, 0.0), (1236, 0.0), (1237, 0.0), (1240, 0.0), (1245, 0.0), (1247, 0.0), (1248, 0.0), (1252, 0.0), (1253, 0.0), (1258, 0.0), (1263, 0.0), (1264, 0.0), (1265, 0.0), (1269, 0.0), (1271, 0.0), (1272, 0.0), (1275, 0.0), (1276, 0.0), (1280, 0.0), (1281, 0.0), (1283, 0.0), (1285, 0.0), (1287, 0.0), (1290, 0.0), (1294, 0.0), (1295, 0.0), (1303, 0.0), (1315, 0.0), (1316, 0.0), (1324, 0.0), (1325, 0.0), (1328, 0.0), (1332, 0.0), (1334, 0.0), (1335, 0.0), (1339, 0.0), (1342, 0.0), (1350, 0.0), (1355, 0.0), (1356, 0.0), (1357, 0.0), (1358, 0.0), (1366, 0.0), (1378, 0.0), (1383, 0.0), (1385, 0.0), (1386, 0.0), (1387, 0.0), (1391, 0.0), (1399, 0.0), (1406, 0.0), (1407, 0.0), (1414, 0.0), (1415, 0.0), (1416, 0.0), (1417, 0.0), (1419, 0.0), (1423, 0.0), (1428, 0.0), (1429, 0.0), (1434, 0.0), (1435, 0.0), (1438, 0.0), (1439, 0.0), (1448, 0.0), (1449, 0.0), (1450, 0.0), (1454, 0.0), (1455, 0.0), (1458, 0.0), (1462, 0.0), (1466, 0.0), (1470, 0.0), (1475, 0.0), (1478, 0.0), (1480, 0.0), (1481, 0.0), (1483, 0.0), (1484, 0.0), (1497, 0.0), (1498, 0.0), (1499, 0.0), (1504, 0.0), (1512, 0.0), (1514, 0.0), (1519, 0.0), (1529, 0.0), (1531, 0.0), (1534, 0.0), (1536, 0.0), (1538, 0.0), (1540, 0.0), (1541, 0.0), (1547, 0.0), (1550, 0.0), (1554, 0.0), (1556, 0.0), (1558, 0.0), (1562, 0.0), (1566, 0.0), (1570, 0.0), (1573, 0.0), (1575, 0.0), (1576, 0.0), (1580, 0.0), (1581, 0.0), (1588, 0.0), (1590, 0.0), (1591, 0.0), (1593, 0.0), (1600, 0.0), (1603, 0.0), (1604, 0.0), (1605, 0.0), (1606, 0.0), (1607, 0.0), (1612, 0.0), (1623, 0.0), (1624, 0.0), (1625, 0.0), (1628, 0.0), (1629, 0.0), (1633, 0.0), (1635, 0.0), (1649, 0.0), (1651, 0.0), (1655, 0.0), (1657, 0.0), (1659, 0.0), (1665, 0.0), (1667, 0.0), (1670, 0.0), (1671, 0.0), (1672, 0.0), (1674, 0.0), (1680, 0.0), (1685, 0.0), (1699, 0.0), (1703, 0.0), (1705, 0.0), (1708, 0.0), (1711, 0.0), (1713, 0.0), (1720, 0.0), (1724, 0.0), (1728, 0.0), (1730, 0.0), (1736, 0.0), (1739, 0.0), (1740, 0.0), (1745, 0.0), (1747, 0.0), (1748, 0.0), (1749, 0.0), (1753, 0.0), (1754, 0.0), (1760, 0.0), (1761, 0.0), (1770, 0.0), (1773, 0.0), (1774, 0.0), (1776, 0.0), (1779, 0.0), (1780, 0.0), (1789, 0.0), (1795, 0.0), (1796, 0.0), (1800, 0.0), (1801, 0.0), (1805, 0.0), (1810, 0.0), (1813, 0.0), (1815, 0.0), (1819, 0.0), (1820, 0.0), (1826, 0.0), (1831, 0.0), (1832, 0.0), (1835, 0.0), (1838, 0.0), (1840, 0.0), (1854, 0.0), (1860, 0.0), (1862, 0.0), (1863, 0.0), (1864, 0.0), (1865, 0.0), (1866, 0.0), (1869, 0.0), (1872, 0.0), (1873, 0.0), (1874, 0.0), (1876, 0.0), (1882, 0.0), (1884, 0.0), (1885, 0.0), (1890, 0.0), (1891, 0.0), (1892, 0.0), (1894, 0.0), (1897, 0.0), (1901, 0.0), (1904, 0.0), (1909, 0.0), (1916, 0.0), (1918, 0.0), (1920, 0.0), (1921, 0.0), (1922, 0.0), (1924, 0.0), (1930, 0.0), (1931, 0.0), (1932, 0.0), (1933, 0.0), (1934, 0.0), (1936, 0.0), (1937, 0.0), (1940, 0.0), (1942, 0.0), (1945, 0.0), (1946, 0.0), (1953, 0.0), (1960, 0.0), (1962, 0.0), (1966, 0.0), (1967, 0.0), (1970, 0.0), (1972, 0.0), (1975, 0.0), (1976, 0.0), (1977, 0.0), (1979, 0.0), (1983, 0.0), (1989, 0.0), (1991, 0.0), (1993, 0.0), (1995, 0.0), (1998, 0.0), (2004, 0.0), (2008, 0.0), (2010, 0.0), (2011, 0.0), (2024, 0.0), (2028, 0.0), (2030, 0.0), (2034, 0.0), (2035, 0.0), (2038, 0.0), (2039, 0.0), (2040, 0.0), (2044, 0.0), (2048, 0.0), (2051, 0.0), (2054, 0.0), (2057, 0.0), (2066, 0.0), (2067, 0.0), (2073, 0.0), (2075, 0.0), (2080, 0.0), (2083, 0.0), (2084, 0.0), (2085, 0.0), (2088, 0.0), (2089, 0.0), (2091, 0.0), (2095, 0.0), (2096, 0.0), (2097, 0.0), (2100, 0.0), (2105, 0.0), (2110, 0.0), (2115, 0.0), (2117, 0.0), (2119, 0.0), (2120, 0.0), (2123, 0.0), (2129, 0.0), (2130, 0.0), (2132, 0.0), (2134, 0.0), (2136, 0.0), (2141, 0.0), (2144, 0.0), (2149, 0.0), (2152, 0.0), (2154, 0.0), (2155, 0.0), (2159, 0.0), (2162, 0.0), (2163, 0.0), (2165, 0.0), (2171, 0.0), (2172, 0.0), (2173, 0.0), (2174, 0.0), (2176, 0.0), (2181, 0.0), (2182, 0.0), (2184, 0.0), (2188, 0.0), (2190, 0.0), (2191, 0.0), (2196, 0.0), (2205, 0.0), (2206, 0.0), (2212, 0.0), (2214, 0.0), (2216, 0.0), (2220, 0.0), (2226, 0.0), (2229, 0.0), (2230, 0.0), (2231, 0.0), (2232, 0.0), (2235, 0.0), (2238, 0.0), (2243, 0.0), (2244, 0.0), (2247, 0.0), (2248, 0.0), (2251, 0.0), (2253, 0.0), (2254, 0.0), (2255, 0.0), (2256, 0.0), (2257, 0.0), (2266, 0.0), (2267, 0.0), (2269, 0.0), (2273, 0.0), (2275, 0.0), (2276, 0.0), (2279, 0.0), (2288, 0.0), (2289, 0.0), (2295, 0.0), (2299, 0.0), (2300, 0.0), (2306, 0.0), (2310, 0.0), (2313, 0.0), (2314, 0.0), (2316, 0.0), (2319, 0.0), (2321, 0.0), (2323, 0.0), (2324, 0.0), (2328, 0.0), (2332, 0.0), (2337, 0.0), (2341, 0.0), (2342, 0.0), (2343, 0.0), (2344, 0.0), (2345, 0.0), (2347, 0.0), (2349, 0.0), (2350, 0.0), (2352, 0.0), (2354, 0.0), (2355, 0.0), (2356, 0.0), (2361, 0.0), (2362, 0.0), (2365, 0.0), (2369, 0.0), (2372, 0.0), (2374, 0.0), (2378, 0.0), (2382, 0.0), (2383, 0.0), (2386, 0.0), (2388, 0.0), (2390, 0.0), (2392, 0.0), (2400, 0.0), (2401, 0.0), (2405, 0.0), (2406, 0.0), (2407, 0.0), (2408, 0.0), (2413, 0.0), (2415, 0.0), (2417, 0.0), (2419, 0.0), (2425, 0.0), (2428, 0.0), (2437, 0.0), (2438, 0.0), (2442, 0.0), (2448, 0.0), (2451, 0.0), (2453, 0.0), (2454, 0.0), (2457, 0.0), (2459, 0.0), (2462, 0.0), (2466, 0.0), (2469, 0.0), (2471, 0.0), (2475, 0.0), (2476, 0.0), (2477, 0.0), (2484, 0.0), (2489, 0.0), (2496, 0.0), (2502, 0.0), (2505, 0.0), (2506, 0.0), (2517, 0.0), (2520, 0.0), (2521, 0.0), (2522, 0.0), (2527, 0.0), (2528, 0.0), (2530, 0.0), (2533, 0.0), (2538, 0.0), (2540, 0.0), (2541, 0.0), (2544, 0.0), (2545, 0.0), (2549, 0.0), (2555, 0.0), (2556, 0.0), (2558, 0.0), (2559, 0.0), (2565, 0.0), (2567, 0.0), (2572, 0.0), (2574, 0.0), (2576, 0.0), (2577, 0.0), (2579, 0.0), (2580, 0.0), (2583, 0.0), (2585, 0.0), (2593, 0.0), (2595, 0.0), (2596, 0.0), (2598, 0.0), (2599, 0.0), (2602, 0.0), (2606, 0.0), (2607, 0.0), (2613, 0.0), (2614, 0.0), (2617, 0.0), (2618, 0.0), (2621, 0.0), (2623, 0.0), (2624, 0.0), (2628, 0.0), (2629, 0.0), (2630, 0.0), (2634, 0.0), (2643, 0.0), (2649, 0.0), (2650, 0.0), (2651, 0.0), (2652, 0.0), (2655, 0.0), (2658, 0.0), (2664, 0.0), (2674, 0.0), (2679, 0.0), (2686, 0.0), (2692, 0.0), (2694, 0.0), (2695, 0.0), (2697, 0.0), (2700, 0.0), (2705, 0.0), (2707, 0.0), (2708, 0.0), (2710, 0.0), (2711, 0.0), (2714, 0.0), (2717, 0.0), (2718, 0.0), (2733, 0.0), (2735, 0.0), (2736, 0.0), (2742, 0.0), (2743, 0.0), (2745, 0.0), (2750, 0.0), (2751, 0.0), (2752, 0.0), (2753, 0.0), (2757, 0.0), (2759, 0.0), (2760, 0.0), (2762, 0.0), (2768, 0.0), (2772, 0.0), (2773, 0.0), (2775, 0.0), (2778, 0.0), (2779, 0.0), (2780, 0.0), (2783, 0.0), (2795, 0.0), (2800, 0.0), (2802, 0.0), (2806, 0.0), (2815, 0.0), (2819, 0.0), (2821, 0.0), (2824, 0.0), (2826, 0.0), (2827, 0.0), (2828, 0.0), (2830, 0.0), (2831, 0.0), (2835, 0.0), (2837, 0.0), (2839, 0.0), (2845, 0.0), (2847, 0.0), (2848, 0.0), (2849, 0.0), (2850, 0.0), (2851, 0.0), (2853, 0.0), (2860, 0.0), (2861, 0.0), (2863, 0.0), (2865, 0.0), (2868, 0.0), (2869, 0.0), (2870, 0.0), (2871, 0.0), (2879, 0.0), (2881, 0.0), (2883, 0.0), (2885, 0.0), (2886, 0.0), (2887, 0.0), (2888, 0.0), (2889, 0.0), (2890, 0.0), (2894, 0.0), (2895, 0.0), (2898, 0.0), (2901, 0.0), (2902, 0.0), (2903, 0.0), (2904, 0.0), (2905, 0.0), (2907, 0.0), (2908, 0.0), (2909, 0.0), (2915, 0.0), (2916, 0.0), (2917, 0.0), (2918, 0.0), (2919, 0.0), (2921, 0.0), (2923, 0.0), (2927, 0.0), (2932, 0.0), (2934, 0.0), (2935, 0.0), (2936, 0.0), (2937, 0.0), (2943, 0.0), (2946, 0.0), (2947, 0.0), (2949, 0.0), (2950, 0.0), (2952, 0.0), (2953, 0.0), (2955, 0.0), (2956, 0.0), (2957, 0.0), (2958, 0.0), (2959, 0.0), (2961, 0.0), (2965, 0.0), (2966, 0.0), (2967, 0.0), (2974, 0.0), (2984, 0.0), (2987, 0.0), (2988, 0.0), (2989, 0.0), (2991, 0.0), (2993, 0.0), (2997, 0.0), (2998, 0.0), (3000, 0.0), (3001, 0.0), (3002, 0.0), (3004, 0.0), (3005, 0.0), (3006, 0.0), (3007, 0.0), (3008, 0.0), (3012, 0.0), (3013, 0.0), (3014, 0.0), (3015, 0.0), (3019, 0.0), (3021, 0.0), (3023, 0.0), (3024, 0.0), (3025, 0.0), (3029, 0.0), (3030, 0.0), (3031, 0.0), (3032, 0.0), (3035, 0.0), (3036, 0.0), (3043, 0.0), (3045, 0.0), (3047, 0.0), (3048, 0.0), (3049, 0.0), (3051, 0.0), (3052, 0.0), (3055, 0.0), (3056, 0.0), (3058, 0.0), (3059, 0.0), (3064, 0.0), (3067, 0.0), (3069, 0.0), (3072, 0.0), (3075, 0.0), (3076, 0.0), (3079, 0.0), (3081, 0.0), (3085, 0.0), (3091, 0.0), (3092, 0.0), (3093, 0.0), (3094, 0.0), (3095, 0.0), (3099, 0.0), (3100, 0.0), (3101, 0.0), (3105, 0.0), (3110, 0.0), (3112, 0.0), (3114, 0.0), (3116, 0.0), (3117, 0.0), (3118, 0.0), (3119, 0.0), (3120, 0.0), (3123, 0.0), (3124, 0.0), (3126, 0.0), (3128, 0.0), (3130, 0.0), (3132, 0.0), (3134, 0.0), (3135, 0.0), (3136, 0.0), (3138, 0.0), (3140, 0.0), (3143, 0.0), (3148, 0.0), (3153, 0.0), (3154, 0.0), (3156, 0.0), (3157, 0.0), (3158, 0.0), (3159, 0.0), (3160, 0.0), (3161, 0.0), (3163, 0.0), (3165, 0.0), (3167, 0.0), (3170, 0.0), (3171, 0.0), (3173, 0.0), (3176, 0.0), (3180, 0.0), (3184, 0.0), (3185, 0.0), (3186, 0.0), (3191, 0.0), (3195, 0.0), (3196, 0.0), (3206, 0.0), (3208, 0.0), (3210, 0.0), (3213, 0.0), (3215, 0.0), (3219, 0.0), (3227, 0.0), (3235, 0.0), (3241, 0.0), (3242, 0.0), (3247, 0.0), (3248, 0.0), (3251, 0.0), (3252, 0.0), (3254, 0.0), (3255, 0.0), (3261, 0.0), (3262, 0.0), (3263, 0.0), (3269, 0.0), (3272, 0.0), (3273, 0.0), (3274, 0.0), (3275, 0.0), (3276, 0.0), (3278, 0.0), (3279, 0.0), (3281, 0.0), (3285, 0.0), (3291, 0.0), (3292, 0.0), (3296, 0.0), (3298, 0.0), (3300, 0.0), (3301, 0.0), (3302, 0.0), (3305, 0.0), (3307, 0.0), (3313, 0.0), (3314, 0.0), (3318, 0.0), (3322, 0.0), (3325, 0.0), (3326, 0.0), (3331, 0.0), (3333, 0.0), (3334, 0.0), (3335, 0.0), (3338, 0.0), (3339, 0.0), (3340, 0.0), (3341, 0.0), (3347, 0.0), (3353, 0.0), (3354, 0.0), (3355, 0.0), (3358, 0.0), (3359, 0.0), (3363, 0.0), (3367, 0.0), (3369, 0.0), (3372, 0.0), (3379, 0.0), (3380, 0.0), (3381, 0.0), (3385, 0.0), (3387, 0.0), (3391, 0.0), (3394, 0.0), (3396, 0.0), (3398, 0.0), (3401, 0.0), (3404, 0.0), (3405, 0.0), (3406, 0.0), (3416, 0.0), (3419, 0.0), (3423, 0.0), (3426, 0.0), (3427, 0.0), (3429, 0.0), (3431, 0.0), (3432, 0.0), (3433, 0.0), (3434, 0.0), (3436, 0.0), (3437, 0.0), (3440, 0.0), (3441, 0.0), (3445, 0.0), (3451, 0.0), (3452, 0.0), (3455, 0.0), (3460, 0.0), (3466, 0.0), (3467, 0.0), (3468, 0.0), (3470, 0.0), (3471, 0.0), (3472, 0.0), (3473, 0.0), (3474, 0.0), (3476, 0.0), (3478, 0.0), (3480, 0.0), (3482, 0.0), (3483, 0.0), (3486, 0.0), (3487, 0.0), (3488, 0.0), (3495, 0.0), (3497, 0.0), (3498, 0.0), (3499, 0.0), (3501, 0.0), (3505, 0.0), (3506, 0.0), (3511, 0.0), (3520, 0.0), (3521, 0.0), (3522, 0.0), (3523, 0.0), (3524, 0.0), (3525, 0.0), (3527, 0.0), (3528, 0.0), (3530, 0.0), (3533, 0.0), (3534, 0.0), (3535, 0.0), (3542, 0.0), (3547, 0.0), (3553, 0.0), (3555, 0.0), (3556, 0.0), (3558, 0.0), (3560, 0.0), (3561, 0.0), (3573, 0.0), (3576, 0.0), (3583, 0.0), (3588, 0.0), (3590, 0.0), (3593, 0.0), (3596, 0.0), (3597, 0.0), (3600, 0.0), (3602, 0.0), (3605, 0.0), (3607, 0.0), (3608, 0.0), (3609, 0.0), (3613, 0.0), (3614, 0.0), (3615, 0.0), (3617, 0.0), (3619, 0.0), (3620, 0.0), (3623, 0.0), (3624, 0.0), (3625, 0.0), (3629, 0.0), (3631, 0.0), (3634, 0.0), (3635, 0.0), (3636, 0.0), (3639, 0.0), (3640, 0.0), (3642, 0.0), (3647, 0.0), (3653, 0.0), (3657, 0.0), (3659, 0.0), (3660, 0.0), (3663, 0.0), (3664, 0.0), (3666, 0.0), (3669, 0.0), (3670, 0.0), (3672, 0.0), (3675, 0.0), (3679, 0.0), (3680, 0.0), (3682, 0.0), (3692, 0.0), (3693, 0.0), (3694, 0.0), (3695, 0.0), (3697, 0.0), (3700, 0.0), (3702, 0.0), (3703, 0.0), (3704, 0.0), (3705, 0.0), (3706, 0.0), (3707, 0.0), (3710, 0.0), (3714, 0.0), (3717, 0.0), (3719, 0.0), (3721, 0.0), (3723, 0.0), (3725, 0.0), (3726, 0.0), (3727, 0.0), (3729, 0.0), (3734, 0.0), (3738, 0.0), (3742, 0.0), (3744, 0.0), (3745, 0.0), (3747, 0.0), (3749, 0.0), (3750, 0.0), (3756, 0.0), (3757, 0.0), (3760, 0.0), (3761, 0.0), (3762, 0.0), (3766, 0.0), (3768, 0.0), (3769, 0.0), (3770, 0.0), (3771, 0.0), (3773, 0.0), (3774, 0.0), (3775, 0.0), (3779, 0.0), (3781, 0.0), (3783, 0.0), (3785, 0.0), (3787, 0.0), (3788, 0.0), (3793, 0.0), (3794, 0.0), (3795, 0.0), (3798, 0.0), (3799, 0.0), (3801, 0.0), (3802, 0.0), (3804, 0.0), (3806, 0.0), (3807, 0.0), (3809, 0.0), (3813, 0.0), (3814, 0.0), (3816, 0.0), (3827, 0.0), (3828, 0.0), (3829, 0.0), (3830, 0.0), (3833, 0.0), (3834, 0.0), (3835, 0.0), (3838, 0.0), (3840, 0.0), (3843, 0.0), (3846, 0.0), (3847, 0.0), (3848, 0.0), (3849, 0.0), (3850, 0.0), (3853, 0.0), (3860, 0.0), (3862, 0.0), (3863, 0.0), (3867, 0.0), (3869, 0.0), (3873, 0.0), (3874, 0.0), (3876, 0.0), (3880, 0.0), (3881, 0.0), (3884, 0.0), (3887, 0.0), (3893, 0.0), (3898, 0.0), (3899, 0.0), (3900, 0.0), (3901, 0.0), (3902, 0.0), (3904, 0.0), (3908, 0.0), (3910, 0.0), (3911, 0.0), (3913, 0.0), (3915, 0.0), (3918, 0.0), (3925, 0.0), (3929, 0.0), (3932, 0.0), (3935, 0.0), (3937, 0.0), (3938, 0.0), (3939, 0.0), (3940, 0.0), (3942, 0.0), (3945, 0.0), (3946, 0.0), (3947, 0.0), (3953, 0.0), (3954, 0.0), (3958, 0.0), (3961, 0.0), (3968, 0.0), (3972, 0.0), (3974, 0.0), (3976, 0.0), (3978, 0.0), (3979, 0.0), (3981, 0.0), (3982, 0.0), (3985, 0.0), (3987, 0.0), (3989, 0.0), (3990, 0.0), (3991, 0.0), (3993, 0.0), (3995, 0.0), (3997, 0.0), (3999, 0.0), (4000, 0.0), (4004, 0.0), (4005, 0.0), (4011, 0.0), (4014, 0.0), (4016, 0.0), (4017, 0.0), (4019, 0.0), (4021, 0.0), (4024, 0.0), (4028, 0.0), (4030, 0.0), (4033, 0.0), (4039, 0.0), (4041, 0.0), (4042, 0.0), (4043, 0.0), (4044, 0.0), (4047, 0.0), (4048, 0.0), (4050, 0.0), (4053, 0.0), (4056, 0.0), (4060, 0.0), (4065, 0.0), (4067, 0.0), (4069, 0.0), (4072, 0.0), (4078, 0.0), (4079, 0.0), (4080, 0.0), (4081, 0.0), (4082, 0.0), (4083, 0.0), (4085, 0.0), (4088, 0.0), (4090, 0.0), (4092, 0.0), (4095, 0.0), (4096, 0.0), (4098, 0.0), (4100, 0.0), (4101, 0.0), (4107, 0.0), (4113, 0.0), (4115, 0.0), (4117, 0.0), (4120, 0.0), (4127, 0.0), (4131, 0.0), (4134, 0.0), (4137, 0.0), (4139, 0.0), (4140, 0.0), (4141, 0.0), (4142, 0.0), (4144, 0.0), (4147, 0.0), (4148, 0.0), (4149, 0.0), (4155, 0.0), (4156, 0.0), (4160, 0.0), (4163, 0.0), (4170, 0.0), (4174, 0.0), (4176, 0.0), (4178, 0.0), (4180, 0.0), (4181, 0.0), (4183, 0.0), (4184, 0.0), (4187, 0.0), (4189, 0.0), (4191, 0.0), (4192, 0.0), (4193, 0.0), (4195, 0.0), (4197, 0.0), (4199, 0.0), (4201, 0.0), (4202, 0.0), (4206, 0.0), (4207, 0.0), (4213, 0.0), (4216, 0.0), (4218, 0.0), (4219, 0.0), (4221, 0.0), (4223, 0.0), (4226, 0.0), (4230, 0.0), (4232, 0.0), (4235, 0.0), (4241, 0.0), (4243, 0.0), (4244, 0.0), (4245, 0.0), (4246, 0.0), (4249, 0.0), (4250, 0.0), (4252, 0.0), (4255, 0.0), (4258, 0.0), (4262, 0.0), (4267, 0.0), (4269, 0.0), (4271, 0.0), (4274, 0.0), (4280, 0.0), (4281, 0.0), (4282, 0.0), (4283, 0.0), (4284, 0.0), (4285, 0.0), (4287, 0.0), (4290, 0.0), (4292, 0.0), (4294, 0.0), (4297, 0.0), (4298, 0.0), (4300, 0.0), (4302, 0.0), (4303, 0.0), (4309, 0.0), (4316, 0.0), (4318, 0.0), (4324, 0.0), (4325, 0.0), (4328, 0.0), (4330, 0.0), (4331, 0.0), (4332, 0.0), (4335, 0.0), (4336, 0.0), (4340, 0.0), (4341, 0.0), (4343, 0.0), (4344, 0.0), (4346, 0.0), (4350, 0.0), (4352, 0.0), (4355, 0.0), (4361, 0.0), (4362, 0.0), (4363, 0.0), (4365, 0.0), (4366, 0.0), (4367, 0.0), (4369, 0.0), (4370, 0.0), (4371, 0.0), (4372, 0.0), (4374, 0.0), (4377, 0.0), (4379, 0.0), (4380, 0.0), (4381, 0.0), (4383, 0.0), (4385, 0.0), (4387, 0.0), (4389, 0.0), (4390, 0.0), (4395, 0.0), (4398, 0.0), (4404, 0.0), (4411, 0.0), (4413, 0.0), (4414, 0.0), (4417, 0.0), (4418, 0.0), (4421, 0.0), (4422, 0.0), (4423, 0.0), (4426, 0.0), (4427, 0.0), (4429, 0.0), (4430, 0.0), (4431, 0.0), (4432, 0.0), (4433, 0.0), (4434, 0.0), (4437, 0.0), (4438, 0.0), (4440, 0.0), (4445, 0.0), (4446, 0.0), (4447, 0.0), (4449, 0.0), (4450, 0.0), (4451, 0.0), (4452, 0.0), (4453, 0.0), (4455, 0.0), (4457, 0.0), (4463, 0.0), (4466, 0.0), (4468, 0.0), (4470, 0.0), (4472, 0.0), (4475, 0.0), (4477, 0.0), (4478, 0.0), (4480, 0.0), (4488, 0.0), (4490, 0.0), (4491, 0.0), (4496, 0.0), (4498, 0.0), (4500, 0.0), (4501, 0.0), (4503, 0.0), (4508, 0.0), (4509, 0.0), (4511, 0.0), (4512, 0.0), (4515, 0.0), (4518, 0.0), (4522, 0.0), (4524, 0.0), (4528, 0.0), (4533, 0.0), (4535, 0.0), (4536, 0.0), (4538, 0.0), (4539, 0.0), (4542, 0.0), (4545, 0.0), (4547, 0.0), (4551, 0.0), (4552, 0.0), (4554, 0.0), (4556, 0.0), (4557, 0.0), (4561, 0.0), (4562, 0.0), (4563, 0.0), (4564, 0.0), (4567, 0.0), (4568, 0.0), (4571, 0.0), (4574, 0.0), (4577, 0.0), (4579, 0.0), (4580, 0.0), (4582, 0.0), (4583, 0.0), (4585, 0.0), (4586, 0.0), (4587, 0.0), (4588, 0.0), (4591, 0.0), (4592, 0.0), (4593, 0.0), (4594, 0.0), (4595, 0.0), (4598, 0.0), (4599, 0.0), (4600, 0.0), (4602, 0.0), (4605, 0.0), (4607, 0.0), (4609, 0.0), (4611, 0.0), (4612, 0.0), (4613, 0.0), (4617, 0.0), (4618, 0.0), (4620, 0.0), (4621, 0.0), (4625, 0.0), (4626, 0.0), (4627, 0.0), (4629, 0.0), (4631, 0.0), (4632, 0.0), (4634, 0.0), (4637, 0.0), (4641, 0.0), (4645, 0.0), (4647, 0.0), (4657, 0.0), (4658, 0.0), (4660, 0.0), (4663, 0.0), (4666, 0.0), (4667, 0.0), (4668, 0.0), (4671, 0.0), (4672, 0.0), (4673, 0.0), (4677, 0.0), (4678, 0.0), (4680, 0.0), (4681, 0.0), (4689, 0.0), (4690, 0.0), (4692, 0.0), (4693, 0.0), (4695, 0.0), (4697, 0.0), (4699, 0.0), (4701, 0.0), (4702, 0.0), (4703, 0.0), (4707, 0.0), (4710, 0.0), (4711, 0.0), (4712, 0.0), (4714, 0.0), (4715, 0.0), (4718, 0.0), (4719, 0.0), (4720, 0.0), (4722, 0.0), (4723, 0.0), (4727, 0.0), (4728, 0.0), (4729, 0.0), (4730, 0.0), (4731, 0.0), (4734, 0.0), (4735, 0.0), (4736, 0.0), (4737, 0.0), (4740, 0.0), (4742, 0.0), (4745, 0.0), (4746, 0.0), (4747, 0.0), (4748, 0.0), (4755, 0.0), (4756, 0.0), (4761, 0.0), (4763, 0.0), (4765, 0.0), (4767, 0.0), (4769, 0.0), (4771, 0.0), (4774, 0.0), (4775, 0.0), (4776, 0.0), (4777, 0.0), (4780, 0.0), (4781, 0.0), (4783, 0.0), (4785, 0.0), (4786, 0.0), (4787, 0.0), (4788, 0.0), (4789, 0.0), (4790, 0.0), (4793, 0.0), (4795, 0.0), (4797, 0.0), (4799, 0.0), (4800, 0.0), (4803, 0.0), (4804, 0.0), (4807, 0.0), (4808, 0.0), (4809, 0.0), (4810, 0.0), (4813, 0.0), (4816, 0.0), (4817, 0.0), (4818, 0.0), (4819, 0.0), (4820, 0.0), (4821, 0.0), (4822, 0.0), (4825, 0.0), (4827, 0.0), (4828, 0.0), (4832, 0.0), (4834, 0.0), (4839, 0.0), (4840, 0.0), (4841, 0.0), (4843, 0.0), (4844, 0.0), (4845, 0.0), (4846, 0.0), (4847, 0.0), (4853, 0.0), (4855, 0.0), (4856, 0.0), (4858, 0.0), (4859, 0.0), (4863, 0.0), (4864, 0.0), (4865, 0.0), (4868, 0.0), (4870, 0.0), (4871, 0.0), (4872, 0.0), (4874, 0.0), (4875, 0.0), (4878, 0.0), (4879, 0.0), (4880, 0.0), (4882, 0.0), (4883, 0.0), (4885, 0.0), (4886, 0.0), (4893, 0.0), (4894, 0.0), (4895, 0.0), (4896, 0.0), (4898, 0.0), (4899, 0.0), (4900, 0.0), (4901, 0.0), (4905, 0.0), (4906, 0.0), (4907, 0.0), (4909, 0.0), (4910, 0.0), (4911, 0.0), (4912, 0.0), (4915, 0.0), (4917, 0.0), (4918, 0.0), (4920, 0.0), (4924, 0.0), (4925, 0.0), (4926, 0.0), (4928, 0.0), (4929, 0.0), (4930, 0.0), (4931, 0.0), (4932, 0.0), (4933, 0.0), (4935, 0.0), (4937, 0.0), (4938, 0.0), (4941, 0.0), (4942, 0.0), (4943, 0.0), (4944, 0.0), (4945, 0.0), (4947, 0.0), (4949, 0.0), (4952, 0.0), (4953, 0.0), (4955, 0.0), (4956, 0.0), (4959, 0.0), (4960, 0.0), (4961, 0.0)]\n"
          ]
        }
      ]
    },
    {
      "cell_type": "code",
      "source": [
        "i = 1\n",
        "print(\"Top 30 Movies suggested for you : \\n\")\n",
        "\n",
        "for movie in sorted_similar_movies:\n",
        "  index = movie[0]\n",
        "  title_from_index = df[df.index==index]['Movie_Title'].values[0]\n",
        "  if (i<31):\n",
        "    print(i, '.',title_from_index)\n",
        "    i+=1\n",
        ""
      ],
      "metadata": {
        "colab": {
          "base_uri": "https://localhost:8080/"
        },
        "id": "VOwcMdo3LQ76",
        "outputId": "20b5b3c9-7d7d-4ab0-fdc5-6a29b255835d"
      },
      "execution_count": 60,
      "outputs": [
        {
          "output_type": "stream",
          "name": "stdout",
          "text": [
            "Top 30 Movies suggested for you : \n",
            "\n",
            "1 . Bad Words\n",
            "2 . Juno\n",
            "3 . Akeelah and the Bee\n",
            "4 . Identity Thief\n",
            "5 . Identity Thief\n",
            "6 . The Gift\n",
            "7 . Horrible Bosses 2\n",
            "8 . Horrible Bosses\n",
            "9 . Up in the Air\n",
            "10 . State of Play\n",
            "11 . The Sweetest Thing\n",
            "12 . How to Deal\n",
            "13 . This Is Where I Leave You\n",
            "14 . The Switch\n",
            "15 . The Goods: Live Hard, Sell Hard\n",
            "16 . Extract\n",
            "17 . A LEGO Brickumentary\n",
            "18 . The Hundred-Foot Journey\n",
            "19 . The Boxtrolls\n",
            "20 . Life During Wartime\n",
            "21 . Tammy\n",
            "22 . Teen Wolf Too\n",
            "23 . The Change-Up\n",
            "24 . The Kingdom\n",
            "25 . Mr. Peabody & Sherman\n",
            "26 . Bruce Almighty\n",
            "27 . How Do You Know\n",
            "28 . Hancock\n",
            "29 . Paul\n",
            "30 . Couples Retreat\n"
          ]
        }
      ]
    },
    {
      "cell_type": "code",
      "source": [
        "\n",
        "movie_name = input(\"enter your favourite movie name:\")\n",
        "list_of_all_titles = df['Movie_Title'].tolist()\n",
        "find_close_match = difflib.get_close_matches(movie_name, list_of_all_titles)\n",
        "close_match = find_close_match[0]\n",
        "index_of_movie = df[df.Movie_Title == close_match]['Movie_ID'].values[0]\n",
        "recommendation_score = list(enumerate(similarity_score[index_of_movie]))\n",
        "sorted_similar_movies = sorted(recommendation_score, key=lambda x: x[1], reverse=True)\n",
        "print(\"Movies suggested for you : \\n\")\n",
        "i = 1\n",
        "for movie in sorted_similar_movies:\n",
        "  index = movie[0]\n",
        "  title_from_index = df[df.index == index]['Movie_Title'].values[0]\n",
        "  if (i < 11):\n",
        "    print(i, '.', title_from_index)\n",
        "    i += 1\n"
      ],
      "metadata": {
        "colab": {
          "base_uri": "https://localhost:8080/"
        },
        "id": "gCYtUD54LX_g",
        "outputId": "516caefe-7712-4cfa-f2c7-067e84db5a0e"
      },
      "execution_count": 64,
      "outputs": [
        {
          "output_type": "stream",
          "name": "stdout",
          "text": [
            "enter your favourite movie name:avtaar\n",
            "Movies suggested for you : \n",
            "\n",
            "1 . Niagara\n",
            "2 . Caravans\n",
            "3 . My Week with Marilyn\n",
            "4 . Harry Brown\n",
            "5 . Brokeback Mountain\n",
            "6 . The Curse of Downers Grove\n",
            "7 . Night of the Living Dead\n",
            "8 . The Boy Next Door\n",
            "9 . Back to the Future\n",
            "10 . The Juror\n"
          ]
        }
      ]
    }
  ]
}